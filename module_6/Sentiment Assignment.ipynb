{
 "cells": [
  {
   "cell_type": "markdown",
   "id": "7f79baf9",
   "metadata": {},
   "source": [
    "# ADS 509 Sentiment Assignment\n",
    "\n",
    "This notebook holds the Sentiment Assignment for Module 6 in ADS 509, Applied Text Mining. Work through this notebook, writing code and answering questions where required. \n",
    "\n",
    "In a previous assignment you put together Twitter data and lyrics data on two artists. In this assignment we apply sentiment analysis to those data sets. If, for some reason, you did not complete that previous assignment, data to use for this assignment can be found in the assignment materials section of Blackboard. \n"
   ]
  },
  {
   "cell_type": "code",
   "execution_count": 1,
   "id": "e2d096b7",
   "metadata": {},
   "outputs": [
    {
     "name": "stderr",
     "output_type": "stream",
     "text": [
      "/Users/roger.qiu/opt/anaconda3/lib/python3.9/site-packages/pandas/core/computation/expressions.py:21: UserWarning: Pandas requires version '2.8.4' or newer of 'numexpr' (version '2.8.3' currently installed).\n",
      "  from pandas.core.computation.check import NUMEXPR_INSTALLED\n",
      "/Users/roger.qiu/opt/anaconda3/lib/python3.9/site-packages/pandas/core/arrays/masked.py:60: UserWarning: Pandas requires version '1.3.6' or newer of 'bottleneck' (version '1.3.5' currently installed).\n",
      "  from pandas.core import (\n"
     ]
    }
   ],
   "source": [
    "import os\n",
    "import re\n",
    "import emoji\n",
    "import pandas as pd\n",
    "import numpy as np\n",
    "\n",
    "from collections import Counter, defaultdict\n",
    "from string import punctuation\n",
    "\n",
    "from nltk.corpus import stopwords\n",
    "\n",
    "sw = stopwords.words(\"english\")"
   ]
  },
  {
   "cell_type": "code",
   "execution_count": 48,
   "id": "6b555ab2",
   "metadata": {},
   "outputs": [],
   "source": [
    "# Add any additional import statements you need here\n",
    "\n",
    "# show everything when showing head\n",
    "pd.set_option('display.max_colwidth', None)\n",
    "pd.set_option('display.max_columns', None)\n",
    "\n",
    "import seaborn as sns\n",
    "import matplotlib.pyplot as plt"
   ]
  },
  {
   "cell_type": "code",
   "execution_count": 3,
   "id": "923b5a86",
   "metadata": {},
   "outputs": [],
   "source": [
    "# change `data_location` to the location of the folder on your machine.\n",
    "data_location = \"/Users/roger.qiu/Documents/other/code/USD/11. Applied Text Mining/ads-509/module_6/ads-tm-sentiment/\"\n",
    "\n",
    "# These subfolders should still work if you correctly stored the \n",
    "# data from the Module 1 assignment\n",
    "twitter_folder = \"twitter/\"\n",
    "lyrics_folder = \"lyrics/\"\n",
    "\n",
    "positive_words_file = \"positive-words.txt\"\n",
    "negative_words_file = \"negative-words.txt\"\n",
    "tidy_text_file = \"tidytext_sentiments.txt\""
   ]
  },
  {
   "cell_type": "markdown",
   "id": "9d3bf93e",
   "metadata": {},
   "source": [
    "## Data Input\n",
    "\n",
    "Now read in each of the corpora. For the lyrics data, it may be convenient to store the entire contents of the file to make it easier to inspect the titles individually, as you'll do in the last part of the assignment. In the solution, I stored the lyrics data in a dictionary with two dimensions of keys: artist and song. The value was the file contents. A Pandas data frame would work equally well. \n",
    "\n",
    "For the Twitter data, we only need the description field for this assignment. Feel free all the descriptions read it into a data structure. In the solution, I stored the descriptions as a dictionary of lists, with the key being the artist. \n",
    "\n",
    "\n"
   ]
  },
  {
   "cell_type": "code",
   "execution_count": 4,
   "id": "37d70801",
   "metadata": {},
   "outputs": [],
   "source": [
    "# Read in the lyrics data"
   ]
  },
  {
   "cell_type": "code",
   "execution_count": 5,
   "id": "f295a88d",
   "metadata": {},
   "outputs": [
    {
     "name": "stdout",
     "output_type": "stream",
     "text": [
      "Current Working Directory: /Users/roger.qiu/Documents/other/code/USD/11. Applied Text Mining/ads-509/module_6/ads-tm-sentiment\n"
     ]
    }
   ],
   "source": [
    "import os\n",
    "print(\"Current Working Directory:\", os.getcwd())"
   ]
  },
  {
   "cell_type": "code",
   "execution_count": 6,
   "id": "cb57f15f",
   "metadata": {},
   "outputs": [
    {
     "data": {
      "text/plain": [
       "['cher_comeandstaywithme.txt',\n",
       " 'cher_pirate.txt',\n",
       " 'cher_stars.txt',\n",
       " 'cher_thesedays.txt',\n",
       " 'cher_lovesohigh.txt']"
      ]
     },
     "execution_count": 6,
     "metadata": {},
     "output_type": "execute_result"
    }
   ],
   "source": [
    "# set subdirectory path\n",
    "directory_path = \"lyrics/cher/\"\n",
    "\n",
    "# create empty list to store filenames\n",
    "filenames = []\n",
    "\n",
    "# for every filename in the directory path, add it to filesnames\n",
    "for filename in os.listdir(directory_path):\n",
    "    filenames.append(filename)\n",
    "\n",
    "filenames[:5]"
   ]
  },
  {
   "cell_type": "code",
   "execution_count": 7,
   "id": "9b566346",
   "metadata": {},
   "outputs": [
    {
     "data": {
      "text/plain": [
       "['lyrics/cher/cher_comeandstaywithme.txt',\n",
       " 'lyrics/cher/cher_pirate.txt',\n",
       " 'lyrics/cher/cher_stars.txt',\n",
       " 'lyrics/cher/cher_thesedays.txt',\n",
       " 'lyrics/cher/cher_lovesohigh.txt']"
      ]
     },
     "execution_count": 7,
     "metadata": {},
     "output_type": "execute_result"
    }
   ],
   "source": [
    "# create list for full filepaths\n",
    "file_paths = []\n",
    "\n",
    "# for each filepath plus file name, append to filepaths\n",
    "for filename in filenames:\n",
    "    file_path = os.path.join(directory_path, filename)\n",
    "    file_paths.append(file_path)\n",
    "\n",
    "file_paths[:5]"
   ]
  },
  {
   "cell_type": "code",
   "execution_count": 8,
   "id": "819a9ab0",
   "metadata": {},
   "outputs": [
    {
     "data": {
      "text/plain": [
       "[['cher_classified1a.txt',\n",
       "  '\"Come And Stay With Me\"\\n\\n\\n\\nI\\'ll send away all my false pride\\nAnd I\\'ll forsake all of my life\\nYes I\\'ll be as true as true can be\\nIf you\\'ll come and stay with me\\n\\nAll lovers of the past, I\\'ll leave behind\\nThey\\'ll never be another on my mind\\nI\\'ll do all I can so you\\'ll feel free\\nIf you\\'ll come and stay with me\\n\\nThe promise I made most faithfully\\nI\\'ll keep still if you decide to leave\\nI\\'ll try and see that you have all you need\\nIf you\\'ll come and stay with me\\n\\nYes I\\'ll be as true as true can be\\nIf you\\'ll come and stay with me\\n\\nLive a life no others have ever known\\nBut I know you think that I\\'m hardly grown\\nOh thank God at last and finally\\nI can see you\\'re gonna stay with me\\nI can see you\\'re gonna stay with me']]"
      ]
     },
     "execution_count": 8,
     "metadata": {},
     "output_type": "execute_result"
    }
   ],
   "source": [
    "# empty data list to store all the text data\n",
    "data = []\n",
    "\n",
    "# for each file path, open the text file, read it, strip trailing spaces and sppend to data as a list\n",
    "for file_path in file_paths:    \n",
    "    with open(file_path, 'r', encoding='utf-8') as file:\n",
    "        text = file.read().strip()\n",
    "        data.append([filename, text])\n",
    "\n",
    "data[:1]"
   ]
  },
  {
   "cell_type": "code",
   "execution_count": 9,
   "id": "46a466c2",
   "metadata": {},
   "outputs": [
    {
     "data": {
      "text/html": [
       "<div>\n",
       "<style scoped>\n",
       "    .dataframe tbody tr th:only-of-type {\n",
       "        vertical-align: middle;\n",
       "    }\n",
       "\n",
       "    .dataframe tbody tr th {\n",
       "        vertical-align: top;\n",
       "    }\n",
       "\n",
       "    .dataframe thead th {\n",
       "        text-align: right;\n",
       "    }\n",
       "</style>\n",
       "<table border=\"1\" class=\"dataframe\">\n",
       "  <thead>\n",
       "    <tr style=\"text-align: right;\">\n",
       "      <th></th>\n",
       "      <th>Filename</th>\n",
       "      <th>Text</th>\n",
       "    </tr>\n",
       "  </thead>\n",
       "  <tbody>\n",
       "    <tr>\n",
       "      <th>0</th>\n",
       "      <td>cher_classified1a.txt</td>\n",
       "      <td>\"Come And Stay With Me\"\\n\\n\\n\\nI'll send away all my false pride\\nAnd I'll forsake all of my life\\nYes I'll be as true as true can be\\nIf you'll come and stay with me\\n\\nAll lovers of the past, I'll leave behind\\nThey'll never be another on my mind\\nI'll do all I can so you'll feel free\\nIf you'll come and stay with me\\n\\nThe promise I made most faithfully\\nI'll keep still if you decide to leave\\nI'll try and see that you have all you need\\nIf you'll come and stay with me\\n\\nYes I'll be as true as true can be\\nIf you'll come and stay with me\\n\\nLive a life no others have ever known\\nBut I know you think that I'm hardly grown\\nOh thank God at last and finally\\nI can see you're gonna stay with me\\nI can see you're gonna stay with me</td>\n",
       "    </tr>\n",
       "  </tbody>\n",
       "</table>\n",
       "</div>"
      ],
      "text/plain": [
       "                Filename  \\\n",
       "0  cher_classified1a.txt   \n",
       "\n",
       "                                                                                                                                                                                                                                                                                                                                                                                                                                                                                                                                                                                                                                                                                                                                                                   Text  \n",
       "0  \"Come And Stay With Me\"\\n\\n\\n\\nI'll send away all my false pride\\nAnd I'll forsake all of my life\\nYes I'll be as true as true can be\\nIf you'll come and stay with me\\n\\nAll lovers of the past, I'll leave behind\\nThey'll never be another on my mind\\nI'll do all I can so you'll feel free\\nIf you'll come and stay with me\\n\\nThe promise I made most faithfully\\nI'll keep still if you decide to leave\\nI'll try and see that you have all you need\\nIf you'll come and stay with me\\n\\nYes I'll be as true as true can be\\nIf you'll come and stay with me\\n\\nLive a life no others have ever known\\nBut I know you think that I'm hardly grown\\nOh thank God at last and finally\\nI can see you're gonna stay with me\\nI can see you're gonna stay with me  "
      ]
     },
     "execution_count": 9,
     "metadata": {},
     "output_type": "execute_result"
    }
   ],
   "source": [
    "# create a dataframe based on the data lists\n",
    "df_cher = pd.DataFrame(data, columns=['Filename', 'Text'])\n",
    "\n",
    "df_cher[:1]"
   ]
  },
  {
   "cell_type": "code",
   "execution_count": 10,
   "id": "0e8a9a82",
   "metadata": {},
   "outputs": [
    {
     "data": {
      "text/plain": [
       "(316, 2)"
      ]
     },
     "execution_count": 10,
     "metadata": {},
     "output_type": "execute_result"
    }
   ],
   "source": [
    "# check the shape\n",
    "df_cher.shape"
   ]
  },
  {
   "cell_type": "code",
   "execution_count": 11,
   "id": "37d70801",
   "metadata": {},
   "outputs": [
    {
     "data": {
      "text/html": [
       "<div>\n",
       "<style scoped>\n",
       "    .dataframe tbody tr th:only-of-type {\n",
       "        vertical-align: middle;\n",
       "    }\n",
       "\n",
       "    .dataframe tbody tr th {\n",
       "        vertical-align: top;\n",
       "    }\n",
       "\n",
       "    .dataframe thead th {\n",
       "        text-align: right;\n",
       "    }\n",
       "</style>\n",
       "<table border=\"1\" class=\"dataframe\">\n",
       "  <thead>\n",
       "    <tr style=\"text-align: right;\">\n",
       "      <th></th>\n",
       "      <th>Filename</th>\n",
       "      <th>Text</th>\n",
       "    </tr>\n",
       "  </thead>\n",
       "  <tbody>\n",
       "    <tr>\n",
       "      <th>0</th>\n",
       "      <td>robyn_play.txt</td>\n",
       "      <td>\"Include Me Out\"\\n\\n\\n\\nIt is really very simple\\nJust a single pulse, repeated at a regular interval\\n\\nMmm, hmm\\nDon't include me out, no\\nDon't include me out\\n\\nOne time for the records and the hits\\nTwo for your money-maker, shake, boom\\nThree times for the lucky and the dead\\n\\nOne time for the sorry and safe\\nTwo for the beggar and his company\\nThree times for the sinner and the saint\\n\\nYeah, bow down all you wicked and the vain\\nBow to the miracle, the em, na, na\\nThree times and the devil will be gone\\n\\nOne time for the fire, bring it on\\nTwo for the boogie, gotta bang the beat\\nThree times for the ladies, show me some love\\n\\nTalking 'bout everyone, every day, all day\\n\\nAnd if your world should fall apart\\nThere's plenty room inside my heart\\nJust don't include me out\\nDon't include me out\\n\\nAnd if your world should fall apart\\nI still got room inside my heart\\nJust don't include me out\\nDon't include me out, d-d-don't include me out\\n\\nAll hail to the mamas who hold it down\\nHail to the pillar of the family\\nThis one's for the granny, take a bow\\n\\nOne time for the crazy and the bent\\nCome on, all you trannies click your heels for me\\nAll praise the fugeses and the gems\\n\\nTalking 'bout everyone, every day, all day, oh yeah\\n\\nAnd if your world should fall apart\\nThere's plenty room inside my heart\\nJust don't include me out\\nJust don't include me out\\n\\nAnd if your world should fall apart\\nI still got room inside my heart\\nJust don't include me out\\nDon't include me out, d-d-don't include me out\\n\\nCan I get a beat, beat for all of my watchamacallits\\nDoing whatever and with whoever they like?\\nCan I get a beat, beat for all of my watchamacallits\\nDoing whatever and with whoever they like?\\n\\nCan I get a bam, bam for all of my watchamacallits\\nDoing whatever and with whoever they like?\\nCan I get a bam, bam for all of my watchamacallits\\nDoing whatever and with whoever they like?\\n\\nI'm talking about everyone, every day, all day, hey\\n\\nAnd if your world should fall apart\\nThere's plenty room inside my heart\\nJust don't include me out\\nDon't include me out\\n\\nAnd if your world should fall apart\\nI still got room inside my heart\\nJust don't include me out\\nDon't include me out\\n\\nAnd if your world should fall apart\\nThere's plenty room inside my heart\\nJust don't include me out, hey, hey\\n\\nAnd if your world should fall apart\\nI still got room inside my heart, yeah\\nJust don't include me out, hey</td>\n",
       "    </tr>\n",
       "  </tbody>\n",
       "</table>\n",
       "</div>"
      ],
      "text/plain": [
       "         Filename  \\\n",
       "0  robyn_play.txt   \n",
       "\n",
       "                                                                                                                                                                                                                                                                                                                                                                                                                                                                                                                                                                                                                                                                                                                                                                                                                                                                                                                                                                                                                                                                                                                                                                                                                                                                                                                                                                                                                                                                                                                                                                                                                                                                                                                                                                                                                                                                                                                                                                                                                                                                                                                                                                                                                                                                                                                                                                                                                                                                                                                                                     Text  \n",
       "0  \"Include Me Out\"\\n\\n\\n\\nIt is really very simple\\nJust a single pulse, repeated at a regular interval\\n\\nMmm, hmm\\nDon't include me out, no\\nDon't include me out\\n\\nOne time for the records and the hits\\nTwo for your money-maker, shake, boom\\nThree times for the lucky and the dead\\n\\nOne time for the sorry and safe\\nTwo for the beggar and his company\\nThree times for the sinner and the saint\\n\\nYeah, bow down all you wicked and the vain\\nBow to the miracle, the em, na, na\\nThree times and the devil will be gone\\n\\nOne time for the fire, bring it on\\nTwo for the boogie, gotta bang the beat\\nThree times for the ladies, show me some love\\n\\nTalking 'bout everyone, every day, all day\\n\\nAnd if your world should fall apart\\nThere's plenty room inside my heart\\nJust don't include me out\\nDon't include me out\\n\\nAnd if your world should fall apart\\nI still got room inside my heart\\nJust don't include me out\\nDon't include me out, d-d-don't include me out\\n\\nAll hail to the mamas who hold it down\\nHail to the pillar of the family\\nThis one's for the granny, take a bow\\n\\nOne time for the crazy and the bent\\nCome on, all you trannies click your heels for me\\nAll praise the fugeses and the gems\\n\\nTalking 'bout everyone, every day, all day, oh yeah\\n\\nAnd if your world should fall apart\\nThere's plenty room inside my heart\\nJust don't include me out\\nJust don't include me out\\n\\nAnd if your world should fall apart\\nI still got room inside my heart\\nJust don't include me out\\nDon't include me out, d-d-don't include me out\\n\\nCan I get a beat, beat for all of my watchamacallits\\nDoing whatever and with whoever they like?\\nCan I get a beat, beat for all of my watchamacallits\\nDoing whatever and with whoever they like?\\n\\nCan I get a bam, bam for all of my watchamacallits\\nDoing whatever and with whoever they like?\\nCan I get a bam, bam for all of my watchamacallits\\nDoing whatever and with whoever they like?\\n\\nI'm talking about everyone, every day, all day, hey\\n\\nAnd if your world should fall apart\\nThere's plenty room inside my heart\\nJust don't include me out\\nDon't include me out\\n\\nAnd if your world should fall apart\\nI still got room inside my heart\\nJust don't include me out\\nDon't include me out\\n\\nAnd if your world should fall apart\\nThere's plenty room inside my heart\\nJust don't include me out, hey, hey\\n\\nAnd if your world should fall apart\\nI still got room inside my heart, yeah\\nJust don't include me out, hey  "
      ]
     },
     "execution_count": 11,
     "metadata": {},
     "output_type": "execute_result"
    }
   ],
   "source": [
    "# now do the same for robyn\n",
    "\n",
    "directory_path = \"lyrics/robyn/\"\n",
    "\n",
    "filenames = []\n",
    "\n",
    "for filename in os.listdir(directory_path):\n",
    "    filenames.append(filename)\n",
    "\n",
    "file_paths = []\n",
    "\n",
    "for filename in filenames:\n",
    "    file_path = os.path.join(directory_path, filename)\n",
    "    file_paths.append(file_path)\n",
    "\n",
    "data = []\n",
    "\n",
    "for file_path in file_paths:    \n",
    "    with open(file_path, 'r', encoding='utf-8') as file:\n",
    "        text = file.read().strip()\n",
    "        data.append([filename, text])\n",
    "\n",
    "df_robyn = pd.DataFrame(data, columns=['Filename', 'Text'])\n",
    "df_robyn[:1]"
   ]
  },
  {
   "cell_type": "code",
   "execution_count": 12,
   "id": "51fd403f",
   "metadata": {},
   "outputs": [
    {
     "data": {
      "text/plain": [
       "(104, 2)"
      ]
     },
     "execution_count": 12,
     "metadata": {},
     "output_type": "execute_result"
    }
   ],
   "source": [
    "df_robyn.shape"
   ]
  },
  {
   "cell_type": "code",
   "execution_count": 13,
   "id": "3a7539c9",
   "metadata": {},
   "outputs": [
    {
     "data": {
      "text/plain": [
       "(420, 2)"
      ]
     },
     "execution_count": 13,
     "metadata": {},
     "output_type": "execute_result"
    }
   ],
   "source": [
    "# union the two df's together so we have one complete df for both artists\n",
    "df_lyrics = pd.concat([df_cher, df_robyn], ignore_index=True)\n",
    "df_lyrics.shape"
   ]
  },
  {
   "cell_type": "code",
   "execution_count": 14,
   "id": "debcac5a",
   "metadata": {},
   "outputs": [],
   "source": [
    "# Read in the twitter data"
   ]
  },
  {
   "cell_type": "markdown",
   "id": "72411ba4",
   "metadata": {},
   "source": [
    "#### This part crashes whenever I try to run it so it will not work"
   ]
  },
  {
   "cell_type": "raw",
   "id": "9fc876c5",
   "metadata": {},
   "source": [
    "# Initialize an empty list to store data\n",
    "\n",
    "file_paths = []\n",
    "\n",
    "for filename in filenames:\n",
    "    file_path = os.path.join(directory_path, filename)\n",
    "    file_paths.append(file_path)\n",
    "\n",
    "file_paths"
   ]
  },
  {
   "cell_type": "raw",
   "id": "5751ddc8",
   "metadata": {},
   "source": [
    "data = []\n",
    "\n",
    "for file_path in file_paths:    \n",
    "    with open(file_path, 'r', encoding='utf-8') as file:\n",
    "        text = file.read().strip()  # Read the entire file and strip trailing spaces/newlines\n",
    "        data.append([filename, text])  # Append filename and file content as a list\n",
    "\n",
    "data"
   ]
  },
  {
   "cell_type": "raw",
   "id": "d029c4cc",
   "metadata": {},
   "source": [
    "data.head()"
   ]
  },
  {
   "cell_type": "markdown",
   "id": "a13a88e8",
   "metadata": {},
   "source": [
    "#### So instead, I will just take text from a single file as an example"
   ]
  },
  {
   "cell_type": "code",
   "execution_count": 57,
   "id": "c194378c",
   "metadata": {},
   "outputs": [],
   "source": [
    "cher_twitter = \"\"\"\n",
    "    screen_name\tname\tid\tlocation\tfollowers_count\tfriends_count\tdescription\n",
    "    hsmcnp\tCountry Girl\t35152213\t\t1302\t1014\t\n",
    "    horrormomy\tJeny\t742153090850164742\tEarth\t81\t514\t𝙿𝚛𝚘𝚞𝚍 𝚜𝚞𝚙𝚙𝚘𝚛𝚝𝚎𝚛 𝚘𝚏 𝚖𝚎𝚜𝚜𝚢 𝚋𝚞𝚗𝚜 & 𝚕𝚎𝚐𝚐𝚒𝚗𝚐𝚜\n",
    "    anju79990584\tanju\t1496463006451974150\t\t13\t140\t163㎝／愛かっぷ💜26歳🍒 工〇好きな女の子💓 フォローしてくれたらDMします🧡\n",
    "    gallionjenna\tJ\t3366479914\t\t752\t556\tcsu\n",
    "    bcscomm\tbcscomm\t83915043\tWashington, DC\t888\t2891\tWriter @Washinformer @SpelmanCollege alumna #DCnative Award-winning journalist & PR pro @IABC Fellow & Past Chair IG: bcscomm Email: wibsiler@gmail.com\n",
    "    liaochaoqun2\t廖超群\t1502787622376075264\tTaiwan\t2\t390\t\n",
    "    Rodhandyjj\tArt Vandalay 🇺🇦🇺🇦🇺🇦\t1386454132022824962\tMaine, USA\t104\t159\tI’m unemployed and live with my parents. MOOPS!\n",
    "    JackBianchi7\tJackson\t1200870825953550336\t\t0\t7\tzoowee mama\n",
    "    MelbaBu81266475\tMelba Burns\t1492913469166743554\t\t17\t136\t\n",
    "    macryant900\tSpyderRyder\t3425156986\t🇨🇦\t628\t794\tLet the healing begin. Let us learn from the past. 🇨🇦 follower of #TheResistance\n",
    "    notdevilanse\tAmanda 😇\t916870029123211264\t\t13\t110\tdo what thou wilt. 🖤✨\n",
    "    dickgirIdiaries\tdickgirldiaries\t1098760805162471424\t\t480\t212\t\n",
    "    bloomingrx\tRoxana M 🇺🇦🇨🇦\t1489642891437817859\tDelisle, Saskatchewan\t16\t163\tCurious Canadian Contemplator. She/Her. Sexagenarian. We are here for each other!\n",
    "    nurb43211\tnurb4321\t1502808896292937730\t\t0\t110\t\n",
    "    ERParker3\tedieparker\t16700926\t\t7\t236\t\n",
    "    m4ggots4br4ins\temma\t1112046229985218560\tCalifornia, USA\t40\t52\t\n",
    "    eyoTTracy\tTracy Nicole\t1449604704049065984\t\t18\t368\t\n",
    "    Taliaasaurus\tΣκουπίδια\t332397786\t\t134\t314\t(She/Her/Hers) Feminist. LGBTQ+. BLM. Mental health advocate. Do something nice for somebody today :)\n",
    "    pastone61\tpiper\t840558213690982400\tUnited States\t4\t149\t\n",
    "    luzguardado_\t♡\t169206990\t\t535\t251\tIG: @browsbyluz_\n",
    "    gldsgirl1\tPhyllis Huell\t2247883146\t\t1\t189\t\n",
    "    Giselle99831932\tGiselle\t1349049200105955329\t\t0\t30\tBLM I LOVE 80'S VIVA MÉXICO\n",
    "    Ok1Tooshort\tN.J.\t2892672755\tLimbo\t105\t314\tUbuntu to Mudita 🧩 INFP🌻\n",
    "    JesseMFJones\tJesse Jones\t3406666818\tFort McMurray, Alberta\t39\t201\tI'm just a guy, married, kids and constantly wonder what happened to my life? I expect you to understand. Oh yeah follow me okay.\n",
    "    LauraDoty4\tLaura Doty\t1961305896\t\t126\t397\tDance yourself clean. Saunas are nice too\n",
    "    Vianca_MDO\tVee💕\t1367375024\tTraveling\t889\t484\tRomanos 8:31 ✝️\n",
    "    truthprevails56\tSB2020\t65521194\tCalifornia, USA\t5\t81\tSupporting from California, USA. Let the truth prevail.\n",
    "    Jason_P82\tJason Pinkney\t470068001\tMeadow Lands, PA\t122\t752\tI like cars, guitars, and sports...\n",
    "    gracemwuah\tGracie\t1286395280661725184\tEugene, OR\t12\t56\tmisanthrope asf\n",
    "    violetmasseuse\tV I O L E T ✧ ottawa\t1219816548036227073\t༺༻\t1275\t414\t18 + ✧.* for those with a gentle heart and a wild soul ꕥ erotic masseuse\n",
    "    RacyTracey\tHarper\t20960139\tSacramento, CA\t162\t1096\tTriple Vaccinated Cyclist, Cancer Survivor, Caldor Fire survivor, Climate Change is real!\n",
    "    petropolisfuI\tpetros\t1246491934379499521\tPortland, OR\t0\t108\tJust some guy 🙃\n",
    "    taylornelson43\tTaylor (taylor’s version✨)\t2356650962\tPhoenix, AZ\t1142\t2132\tshe/hers • queer progressive organizer • hire me for comms or field pls • past: @arenasummit academy CM track @IAForWarren @CoeCollege @SwingLeft @PPACT @HRC\n",
    "    Aprilmh19\tApril Hampton\t1498406503107239950\t\t5\t74\t\n",
    "    KyleDHester\tKyle Hester is an Actor/ Filmmaker\t138584469\tKyle of Hollywood\t137657\t143879\tActor/ Filmmaker .No quarter for racism. Films @preachersix. @themagicianfilm @zombiewashotgun @thechairhorror #Pagan. Happily married to Tracy Ray .\n",
    "    ActuallyReal16\tReal Person\t1502266279352315906\t\t1\t128\tHi! I'm an actual, real person. Only one.\n",
    "    maevesicles\tMaeve\t1061509267\t\t153\t87\t\n",
    "    AndyRLovesBalls\tAndy Rose - Republicans Are Clearly Full Of Crap!!\t1178663736288120835\tTexas, USA\t281\t424\tAndy Rose - I am not subscribing to your porn link! Don't DM me to. He/Him Republicanism is Fascism Save Our Democracy, Vote Democratic Progressive Anti-Bigot\n",
    "    AdamTheeStan\tCrackHeadBarbie\t1363710785663488001\t\t10\t37\tHe/Him | 🏳️‍🌈 | AvaLance worshipper | Legends Whore | TUA☂️ | Runaways | Legacies | Wanda Stan🔴\n",
    "    bafwinn\tA F 🔥\t977945404921733121\t\t31\t197\tBULLSHIT AF🔥\n",
    "    fierrofamilylaw\tGerard A Fierro\t49227891\tLos Angeles\t120\t268\tPenn State Alumnus 1985 USC Law Center J.D. 1988 State Bar of California 1988\n",
    "    MikeGaryCole\tMike Gary Cole\t63761468\tNelson, BC\t193\t90\tcrossfit guru. civil war historian (all countries). unethically monogamous. vaxxed with every brand. all pronouns offend me. live. laugh. loiter.\n",
    "    StarBlue63\tStar\t1020834629153157120\t\t3\t41\t\n",
    "    DLMB777\tDenise Bélanger\t735569574\tOttawa\t11\t174\tI draw the line at stinky tofu. Lives in the nice apartment over a meth lab. Opinions are my own.\n",
    "    BarbaraShoaf4\tBarbara Shoaf\t1468743891729850371\t\t4\t4\t\n",
    "    Cierra__George\tCierra George\t1502799105663320068\t\t10\t251\tEnvironmentalist | Fashion and Beauty Enthusiast | Goofball | Proud Nerd | Foodie | Cat Mom\n",
    "    APennyValentine\tAnne Valentine\t1496491546417537034\t\t51\t679\tWorking mother, runner / OTFer, sometimes singer, never misses a meal. Food recommendations always accepted.\n",
    "    teresa199802\tTerenice\t2905798337\t\t227\t265\tmiren a mi perrito querido\n",
    "    mcarabal\tliving\t35379608\tPlanet Earth\t154\t253\tlove is my choice 🌎\n",
    "\"\"\""
   ]
  },
  {
   "cell_type": "code",
   "execution_count": 59,
   "id": "970fd421",
   "metadata": {},
   "outputs": [],
   "source": [
    "robyn_twitter = \"\"\"\n",
    "    screen_name\tname\tid\tlocation\tfollowers_count\tfriends_count\tdescription\n",
    "    AngelxoArts\tAngelxo\t1424055675030806529\tZacatlan, Puebla, Mexico\t29\t535\t\"I love chill\" •Facebook / Instagram / SoundCloud: AngelxoArts• https://t.co/447okKLKzA…\n",
    "    songsfornikola\tjohnny\t1502717352575651840\t\t6\t318\tbooks, movies, music, nature & TV shows. OG Sweetee since '12 thanks to YouTube recommending 'This Feeling' on my homepage ♥️\n",
    "    thibaud_lola\tThibaud Lola\t1502407708246478852\t\t3\t69\t(Am)auteur en herbe 🌱 - juriste en paille 🤡 - Ami des fleurs 🌸🌈 (sans la main verte) - music & books - #morecomingsoon... (si on en voit le bout)\n",
    "    KyleSew2112\tKyle S 🌹🇬🇧🇺🇦\t3423966821\tSouth East London\t1258\t3444\tThis Twitter profile is full of sarcasm and rants with the occasional moan, dont like me dont follow me! KLF Stan Account Aspiring Youth Council rep\n",
    "    MusiFlo\tMusiFlo\t3324069364\tCanada\t470\t1706\tFlora Youssef - Blogger & Founder Posting review articles about the latest music 🎵 https://t.co/dx4hoIom7T https://t.co/KsplT6mZzs\n",
    "    Deyshaw30231780\tDeyshawn\t1502598892885626881\t\t0\t2\t\n",
    "    thefelourfog\tthe velour fog\t279534119\tuk\t26\t71\t\n",
    "    AnneMarieBarr7\tAnne Marie Barr\t1186254594885726209\tUnited Kingdom\t3\t173\t\n",
    "    imteddymykaels\tTra$$hy\t1317373838817169408\tThey/them\t1351\t3436\tRecording Artist / songwriter 🌈 Fashion Stylist of The Floral House Boutique / CEO Of Arcade Mode Records / Actor\n",
    "    CheesusOnToast\tmy son is also named Bort 🇳🇿 🦖🐧🥑\t1529689122\tNew Zealand\t101\t1449\t\n",
    "    thequeerstriver\tMauricio Garcia\t1451033113539264513\tChicago, IL\t8\t64\t🇲🇽|🏳️‍🌈\n",
    "    BexThreads\tBexThreads\t87682061\tBrisbane, Queensland\t653\t3094\t🚀🐕Check 👀t SnoopDogeMeme 🐕🚀 🔥🔥🐢 T M N T 🐢🔥🔥 Music enthusiast! Musician. Writer. Artist. Humanitarian. Animal lover. NFT Lover.\n",
    "    stegzo\tStephen Docherty\t221097848\t\t42\t129\tReferences Available Upon Request\n",
    "    mfildes_peace\tMichaelFildesPeace\t1502407033911455749\t\t2\t57\t\n",
    "    ChiouCristal\tCristal Chiou\t840010781676654592\tTaipei City, Taiwan\t4\t210\tDJ Cristal Chiou\n",
    "    kristinaEntico2\tkristina Enticott\t748636524091162625\tCardiff, Wales\t24\t190\t\n",
    "    dizzyborden1972\tJodi Gemini\t510904825\tOmaha\t18\t337\tHalf mad Jade and shabby cabbie. Old and tired but at least I am immune to teargas. All Trek is good Trek. Doom Patrol is life.\n",
    "    tangerinecream2\tTangerine Cream\t901734229834215424\t\t60\t421\tBro.\n",
    "    NickRevell317\tNick Revell\t326586556\tIndianapolis, Indiana\t2043\t1983\tI'm the one the other side of the pillow got it from. Also, Assistant to the Taco Executive.\n",
    "    Cam11235\tCameron Barné\t844947136525557761\tNew York, NY\t215\t539\tHe/him - Now that things are opening back up...\n",
    "    mcarracedo10\tManuel Carracedo Lantadilla\t1501031032086224898\t\t6\t120\tCuenta alternativa 😊✌️🌈\n",
    "    viktorstenhjem\tViktor Stenhjem 🇺🇦☮️\t1387046322566356995\tMunich, Bavaria\t53\t1253\tA wrong note is insignificant, but to play without passion is unforgivable - LvB 🇪🇺\n",
    "    MultiverseJC\tJC 💯💜🌹💎\t747556057\tMultiverse\t182\t2070\tI am water. #WorldOfWarcraft #HipHop #Underground. #Mainstream. #Money #Women #Weed I love jewelry but ain't got any. I'll change that when I make it. 🎧🙏\n",
    "    alon_fruchter\tAlon Fruchter\t3284473406\t\t196\t458\tעורך התרבות בדיגיטל של @kann_news\n",
    "    JemimaColahan\tJemima Colahan\t1502112563915415560\t\t1\t129\t\n",
    "    DanielFerrs\tDaniel\t1501956867853070338\tPraia Grande São Paulo\t0\t133\tPokemon Go Trailer levei 50 More Ethan 525 milions of XP Shiny Collector\n",
    "    em_____dash\tEmily Suber 🇺🇦\t17958282\tLA\t44\t111\tArt Director | Design (Graphic / Motion) | Art\n",
    "    ThVanthong\tvanthong Th\t1501310052019290118\t\t3\t102\t71022\n",
    "    Sannelisabeth_\tSandra\t1501998427978276865\t\t1\t33\t\n",
    "    AStickerman\tAnthony Stickerman\t1088598963886841856\tVancouver, British Columbia\t32\t320\tHost of Stickin’ It with Anthony on YouTube. New video last Saturday of every month. Join me on my sticker-booking adventures! ▶️https://t.co/03IwdOrGyw\n",
    "    1981_jpg\t1981\t1501908849745399812\t\t14\t423\t\n",
    "    omgxditskathy\tKatherine\t1096994687343308800\tNutley \t3\t28\tMy name is Kat. I love lamp.\n",
    "    brookslb93\tLarna Brooks\t1182222934083022848\t\t33\t551\t\n",
    "    muleyong\tMule Yong\t1460977013414580225\t\t153\t4514\tHi! I’m a metaverse money mule. While traveling around the world I collect game points and blog about cyber security art\n",
    "    AdrianCanadrian\tAdrian Bell Voiceovers🎙🎧🔊\t28026701\tThe World\t525\t2701\thttps://t.co/K2cKzBkxVQ Voiceover Artist, Narrator, Commercial Voice Actor, Promo Voice, Broadcaster, Producer, Culinarian, Editor, Published Writer\n",
    "    Douglas26178111\tDouglas Hill\t1490320621372416000\tCurrently Saudi Arabia \t2\t81\tWorking man\n",
    "    JimmyTonyFTW\tJimmy Tony\t1499235040462475270\t\t2\t133\t\n",
    "    CuthbertSykes92\tTwila ♍️\t331142262\tTW (5/6) ❤️\t6044\t4678\tShe/Her\n",
    "    PostingCast\tPostingCast\t1492626491296796673\t\t496\t543\tPostingCast, the cast that posts.\n",
    "    sfoxxxx\tRafa\t50548455\tLisbon, Portugal\t252\t216\tVoce me dá gastrite!\n",
    "    ApolloStar10\tAshley Foust\t1501724294144954368\t\t0\t4\tInspector by day, Mother by night.\n",
    "    MarScho4711\tMarSch\t1130851287199649798\tBez. Melk/Nö/AT/EU\t122\t477\t🇫🇮🇸🇪🇪🇪🇱🇹🇱🇻🇬🇪🇲🇩🇵🇱🇺🇦 🖕🇷🇺🖕 Jahrgang: That's one small step for man; one giant leap for mankind.\n",
    "    IrlTransport\tUK & IRL\t1321190770704027651\t\t0\t109\t19hrs\n",
    "    FikaduZarito\tZarito Fikadu\t1501662213945401351\t\t1\t321\t\n",
    "    Hannahannahej\tHannah\t1501653422789046279\t\t0\t23\t\n",
    "    zidekit\tNeo MATRIX\t1500221537605107718\t\t0\t3\t\n",
    "    joaquinxcx\tjoaquin • CRASH MARCH 18!🧣\t1268672694821806080\the/they | minor\t64\t506\t💛 stream sawayama pls • cupcakke follow! 💛\n",
    "    kiefert\tkiefert\t262702889\t\t8\t94\t\n",
    "    MiloSHuang\tMilo Huang\t1489692727507927043\t\t10\t759\tI'm either a Macintosh apple or Granny Smith your choice.\n",
    "\"\"\""
   ]
  },
  {
   "cell_type": "code",
   "execution_count": 16,
   "id": "af9e7a4b",
   "metadata": {},
   "outputs": [
    {
     "name": "stdout",
     "output_type": "stream",
     "text": [
      "/Users/roger.qiu/Documents/other/code/USD/11. Applied Text Mining/ads-509/module_6/ads-tm-sentiment/positive-words.txt\n",
      "/Users/roger.qiu/Documents/other/code/USD/11. Applied Text Mining/ads-509/module_6/ads-tm-sentiment/negative-words.txt\n",
      "/Users/roger.qiu/Documents/other/code/USD/11. Applied Text Mining/ads-509/module_6/ads-tm-sentiment/tidytext_sentiments.txt\n"
     ]
    }
   ],
   "source": [
    "# Read in the positive and negative words and the\n",
    "# tidytext sentiment. Store these so that the positive\n",
    "# words are associated with a score of +1 and negative words\n",
    "# are associated with a score of -1. You can use a dataframe or a \n",
    "# dictionary for this.\n",
    "\n",
    "# first, create the file paths\n",
    "positive_words_path = data_location + positive_words_file\n",
    "negative_words_path = data_location + negative_words_file\n",
    "tidy_text_path = data_location + tidy_text_file\n",
    "\n",
    "print(positive_words_path)\n",
    "print(negative_words_path)\n",
    "print(tidy_text_path)"
   ]
  },
  {
   "cell_type": "code",
   "execution_count": 17,
   "id": "7d09b0e6",
   "metadata": {},
   "outputs": [
    {
     "data": {
      "text/plain": [
       "[';;;;;;;;;;;;;;;;;;;;;;;;;;;;;;;;;;;;;;;;;;;;;;;;;;;;;;;;;;;;;;;;;;;;;;;;;;;;',\n",
       " '; ',\n",
       " '; Opinion Lexicon: Positive',\n",
       " ';',\n",
       " '; This file contains a list of POSITIVE opinion words (or sentiment words).']"
      ]
     },
     "execution_count": 17,
     "metadata": {},
     "output_type": "execute_result"
    }
   ],
   "source": [
    "# open positive words and split lines as words\n",
    "with open(positive_words_path, 'r') as file:\n",
    "    positive_words = file.read().splitlines()\n",
    "\n",
    "# need to remove the initial sentences\n",
    "list(positive_words)[:5]"
   ]
  },
  {
   "cell_type": "code",
   "execution_count": 18,
   "id": "4968a91e",
   "metadata": {},
   "outputs": [
    {
     "data": {
      "text/plain": [
       "['', 'a+', 'abound', 'abounds', 'abundance']"
      ]
     },
     "execution_count": 18,
     "metadata": {},
     "output_type": "execute_result"
    }
   ],
   "source": [
    "# remove the sentences that start with ';' as these are not words\n",
    "positive_words = [word for word in positive_words if not word.startswith(';')]\n",
    "positive_words[:5]"
   ]
  },
  {
   "cell_type": "code",
   "execution_count": 19,
   "id": "27724b37",
   "metadata": {},
   "outputs": [
    {
     "data": {
      "text/plain": [
       "[('', 1), ('a+', 1), ('abound', 1), ('abounds', 1), ('abundance', 1)]"
      ]
     },
     "execution_count": 19,
     "metadata": {},
     "output_type": "execute_result"
    }
   ],
   "source": [
    "# turn list into dictionary with a 1 as value\n",
    "positive_dict = {word: 1 for word in positive_words}\n",
    "list(positive_dict.items())[:5]"
   ]
  },
  {
   "cell_type": "code",
   "execution_count": 20,
   "id": "a8e856d0",
   "metadata": {},
   "outputs": [
    {
     "data": {
      "text/plain": [
       "[('', -1), ('2-faced', -1), ('2-faces', -1), ('abnormal', -1), ('abolish', -1)]"
      ]
     },
     "execution_count": 20,
     "metadata": {},
     "output_type": "execute_result"
    }
   ],
   "source": [
    "# now do the same with negative words and give them a score of -1 \n",
    "with open(negative_words_path, 'r') as file:\n",
    "    negative_words = [line.strip() for line in file]\n",
    "\n",
    "negative_words = [word for word in negative_words if not word.startswith(';')]\n",
    "\n",
    "negative_dict = {word: -1 for word in negative_words}\n",
    "list(negative_dict.items())[:5]"
   ]
  },
  {
   "cell_type": "code",
   "execution_count": 21,
   "id": "b9f8792a",
   "metadata": {},
   "outputs": [
    {
     "data": {
      "text/plain": [
       "[('', -1), ('a+', 1), ('abound', 1), ('abounds', 1), ('abundance', 1)]"
      ]
     },
     "execution_count": 21,
     "metadata": {},
     "output_type": "execute_result"
    }
   ],
   "source": [
    "# combine both positive and negative words into one dictionary\n",
    "sentiment_dict = {**positive_dict, **negative_dict}\n",
    "list(sentiment_dict.items())[:5]"
   ]
  },
  {
   "cell_type": "code",
   "execution_count": 22,
   "id": "148a1b60",
   "metadata": {},
   "outputs": [
    {
     "data": {
      "text/html": [
       "<div>\n",
       "<style scoped>\n",
       "    .dataframe tbody tr th:only-of-type {\n",
       "        vertical-align: middle;\n",
       "    }\n",
       "\n",
       "    .dataframe tbody tr th {\n",
       "        vertical-align: top;\n",
       "    }\n",
       "\n",
       "    .dataframe thead th {\n",
       "        text-align: right;\n",
       "    }\n",
       "</style>\n",
       "<table border=\"1\" class=\"dataframe\">\n",
       "  <thead>\n",
       "    <tr style=\"text-align: right;\">\n",
       "      <th></th>\n",
       "      <th>word</th>\n",
       "      <th>sentiment</th>\n",
       "      <th>lexicon</th>\n",
       "    </tr>\n",
       "  </thead>\n",
       "  <tbody>\n",
       "    <tr>\n",
       "      <th>0</th>\n",
       "      <td>abandon</td>\n",
       "      <td>negative</td>\n",
       "      <td>nrc</td>\n",
       "    </tr>\n",
       "    <tr>\n",
       "      <th>1</th>\n",
       "      <td>abandoned</td>\n",
       "      <td>negative</td>\n",
       "      <td>nrc</td>\n",
       "    </tr>\n",
       "    <tr>\n",
       "      <th>2</th>\n",
       "      <td>abandonment</td>\n",
       "      <td>negative</td>\n",
       "      <td>nrc</td>\n",
       "    </tr>\n",
       "    <tr>\n",
       "      <th>3</th>\n",
       "      <td>abba</td>\n",
       "      <td>positive</td>\n",
       "      <td>nrc</td>\n",
       "    </tr>\n",
       "    <tr>\n",
       "      <th>4</th>\n",
       "      <td>abduction</td>\n",
       "      <td>negative</td>\n",
       "      <td>nrc</td>\n",
       "    </tr>\n",
       "  </tbody>\n",
       "</table>\n",
       "</div>"
      ],
      "text/plain": [
       "          word sentiment lexicon\n",
       "0      abandon  negative     nrc\n",
       "1    abandoned  negative     nrc\n",
       "2  abandonment  negative     nrc\n",
       "3         abba  positive     nrc\n",
       "4    abduction  negative     nrc"
      ]
     },
     "execution_count": 22,
     "metadata": {},
     "output_type": "execute_result"
    }
   ],
   "source": [
    "# read in tidytext sentiments\n",
    "tidy_df = pd.read_csv(tidy_text_path, sep='\\t')\n",
    "tidy_df.head()"
   ]
  },
  {
   "cell_type": "code",
   "execution_count": 23,
   "id": "6797efaa",
   "metadata": {},
   "outputs": [
    {
     "data": {
      "text/html": [
       "<div>\n",
       "<style scoped>\n",
       "    .dataframe tbody tr th:only-of-type {\n",
       "        vertical-align: middle;\n",
       "    }\n",
       "\n",
       "    .dataframe tbody tr th {\n",
       "        vertical-align: top;\n",
       "    }\n",
       "\n",
       "    .dataframe thead th {\n",
       "        text-align: right;\n",
       "    }\n",
       "</style>\n",
       "<table border=\"1\" class=\"dataframe\">\n",
       "  <thead>\n",
       "    <tr style=\"text-align: right;\">\n",
       "      <th></th>\n",
       "      <th>word</th>\n",
       "      <th>sentiment</th>\n",
       "      <th>lexicon</th>\n",
       "      <th>sentiment_score</th>\n",
       "    </tr>\n",
       "  </thead>\n",
       "  <tbody>\n",
       "    <tr>\n",
       "      <th>0</th>\n",
       "      <td>abandon</td>\n",
       "      <td>negative</td>\n",
       "      <td>nrc</td>\n",
       "      <td>0.0</td>\n",
       "    </tr>\n",
       "    <tr>\n",
       "      <th>1</th>\n",
       "      <td>abandoned</td>\n",
       "      <td>negative</td>\n",
       "      <td>nrc</td>\n",
       "      <td>0.0</td>\n",
       "    </tr>\n",
       "    <tr>\n",
       "      <th>2</th>\n",
       "      <td>abandonment</td>\n",
       "      <td>negative</td>\n",
       "      <td>nrc</td>\n",
       "      <td>0.0</td>\n",
       "    </tr>\n",
       "    <tr>\n",
       "      <th>3</th>\n",
       "      <td>abba</td>\n",
       "      <td>positive</td>\n",
       "      <td>nrc</td>\n",
       "      <td>0.0</td>\n",
       "    </tr>\n",
       "    <tr>\n",
       "      <th>4</th>\n",
       "      <td>abduction</td>\n",
       "      <td>negative</td>\n",
       "      <td>nrc</td>\n",
       "      <td>0.0</td>\n",
       "    </tr>\n",
       "  </tbody>\n",
       "</table>\n",
       "</div>"
      ],
      "text/plain": [
       "          word sentiment lexicon  sentiment_score\n",
       "0      abandon  negative     nrc              0.0\n",
       "1    abandoned  negative     nrc              0.0\n",
       "2  abandonment  negative     nrc              0.0\n",
       "3         abba  positive     nrc              0.0\n",
       "4    abduction  negative     nrc              0.0"
      ]
     },
     "execution_count": 23,
     "metadata": {},
     "output_type": "execute_result"
    }
   ],
   "source": [
    "# map the words in the tidy df to sentiment scores from the dict, if null, just put 0\n",
    "tidy_df['sentiment_score'] = tidy_df['word'].map(sentiment_dict).fillna(0)\n",
    "tidy_df.head()"
   ]
  },
  {
   "cell_type": "code",
   "execution_count": 24,
   "id": "d3d5e949",
   "metadata": {},
   "outputs": [
    {
     "data": {
      "text/html": [
       "<div>\n",
       "<style scoped>\n",
       "    .dataframe tbody tr th:only-of-type {\n",
       "        vertical-align: middle;\n",
       "    }\n",
       "\n",
       "    .dataframe tbody tr th {\n",
       "        vertical-align: top;\n",
       "    }\n",
       "\n",
       "    .dataframe thead th {\n",
       "        text-align: right;\n",
       "    }\n",
       "</style>\n",
       "<table border=\"1\" class=\"dataframe\">\n",
       "  <thead>\n",
       "    <tr style=\"text-align: right;\">\n",
       "      <th></th>\n",
       "      <th>word</th>\n",
       "      <th>sentiment</th>\n",
       "      <th>lexicon</th>\n",
       "      <th>sentiment_score</th>\n",
       "    </tr>\n",
       "  </thead>\n",
       "  <tbody>\n",
       "    <tr>\n",
       "      <th>0</th>\n",
       "      <td>abandon</td>\n",
       "      <td>negative</td>\n",
       "      <td>nrc</td>\n",
       "      <td>0.0</td>\n",
       "    </tr>\n",
       "    <tr>\n",
       "      <th>1</th>\n",
       "      <td>abandoned</td>\n",
       "      <td>negative</td>\n",
       "      <td>nrc</td>\n",
       "      <td>0.0</td>\n",
       "    </tr>\n",
       "    <tr>\n",
       "      <th>2</th>\n",
       "      <td>abandonment</td>\n",
       "      <td>negative</td>\n",
       "      <td>nrc</td>\n",
       "      <td>0.0</td>\n",
       "    </tr>\n",
       "    <tr>\n",
       "      <th>3</th>\n",
       "      <td>abba</td>\n",
       "      <td>positive</td>\n",
       "      <td>nrc</td>\n",
       "      <td>0.0</td>\n",
       "    </tr>\n",
       "    <tr>\n",
       "      <th>4</th>\n",
       "      <td>abduction</td>\n",
       "      <td>negative</td>\n",
       "      <td>nrc</td>\n",
       "      <td>0.0</td>\n",
       "    </tr>\n",
       "  </tbody>\n",
       "</table>\n",
       "</div>"
      ],
      "text/plain": [
       "          word sentiment lexicon  sentiment_score\n",
       "0      abandon  negative     nrc              0.0\n",
       "1    abandoned  negative     nrc              0.0\n",
       "2  abandonment  negative     nrc              0.0\n",
       "3         abba  positive     nrc              0.0\n",
       "4    abduction  negative     nrc              0.0"
      ]
     },
     "execution_count": 24,
     "metadata": {},
     "output_type": "execute_result"
    }
   ],
   "source": [
    "# check where the score is not null\n",
    "tidy_df[tidy_df['sentiment_score'].notna()].head()"
   ]
  },
  {
   "cell_type": "code",
   "execution_count": 25,
   "id": "cc594fb1",
   "metadata": {},
   "outputs": [
    {
     "data": {
      "text/plain": [
       "[('abandon', 0.0),\n",
       " ('abandoned', 0.0),\n",
       " ('abandonment', 0.0),\n",
       " ('abba', 0.0),\n",
       " ('abduction', 0.0),\n",
       " ('aberrant', 0.0),\n",
       " ('aberration', 0.0),\n",
       " ('abhor', 0.0),\n",
       " ('abhorrent', 0.0),\n",
       " ('ability', 0.0),\n",
       " ('abject', 0.0),\n",
       " ('abnormal', -1.0),\n",
       " ('abolish', -1.0),\n",
       " ('abolition', 0.0),\n",
       " ('abominable', -1.0),\n",
       " ('abomination', -1.0),\n",
       " ('abort', -1.0),\n",
       " ('abortion', 0.0),\n",
       " ('abortive', 0.0),\n",
       " ('abovementioned', 0.0)]"
      ]
     },
     "execution_count": 25,
     "metadata": {},
     "output_type": "execute_result"
    }
   ],
   "source": [
    "# create a dictionary again from tidy_df for quick lookup\n",
    "sentiment_dict = tidy_df.set_index('word')['sentiment_score'].to_dict()\n",
    "list(sentiment_dict.items())[:20]"
   ]
  },
  {
   "cell_type": "markdown",
   "id": "6a5f3b12",
   "metadata": {},
   "source": [
    "## Sentiment Analysis on Songs\n",
    "\n",
    "In this section, score the sentiment for all the songs for both artists in your data set. Score the sentiment by manually calculating the sentiment using the combined lexicons provided in this repository. \n",
    "\n",
    "After you have calculated these sentiments, answer the questions at the end of this section.\n"
   ]
  },
  {
   "cell_type": "code",
   "execution_count": 26,
   "id": "664f8d8f",
   "metadata": {},
   "outputs": [
    {
     "data": {
      "text/html": [
       "<div>\n",
       "<style scoped>\n",
       "    .dataframe tbody tr th:only-of-type {\n",
       "        vertical-align: middle;\n",
       "    }\n",
       "\n",
       "    .dataframe tbody tr th {\n",
       "        vertical-align: top;\n",
       "    }\n",
       "\n",
       "    .dataframe thead th {\n",
       "        text-align: right;\n",
       "    }\n",
       "</style>\n",
       "<table border=\"1\" class=\"dataframe\">\n",
       "  <thead>\n",
       "    <tr style=\"text-align: right;\">\n",
       "      <th></th>\n",
       "      <th>Filename</th>\n",
       "      <th>Text</th>\n",
       "      <th>Artist</th>\n",
       "    </tr>\n",
       "  </thead>\n",
       "  <tbody>\n",
       "    <tr>\n",
       "      <th>0</th>\n",
       "      <td>cher_classified1a.txt</td>\n",
       "      <td>\"Come And Stay With Me\"\\n\\n\\n\\nI'll send away all my false pride\\nAnd I'll forsake all of my life\\nYes I'll be as true as true can be\\nIf you'll come and stay with me\\n\\nAll lovers of the past, I'll leave behind\\nThey'll never be another on my mind\\nI'll do all I can so you'll feel free\\nIf you'll come and stay with me\\n\\nThe promise I made most faithfully\\nI'll keep still if you decide to leave\\nI'll try and see that you have all you need\\nIf you'll come and stay with me\\n\\nYes I'll be as true as true can be\\nIf you'll come and stay with me\\n\\nLive a life no others have ever known\\nBut I know you think that I'm hardly grown\\nOh thank God at last and finally\\nI can see you're gonna stay with me\\nI can see you're gonna stay with me</td>\n",
       "      <td>cher</td>\n",
       "    </tr>\n",
       "  </tbody>\n",
       "</table>\n",
       "</div>"
      ],
      "text/plain": [
       "                Filename  \\\n",
       "0  cher_classified1a.txt   \n",
       "\n",
       "                                                                                                                                                                                                                                                                                                                                                                                                                                                                                                                                                                                                                                                                                                                                                                   Text  \\\n",
       "0  \"Come And Stay With Me\"\\n\\n\\n\\nI'll send away all my false pride\\nAnd I'll forsake all of my life\\nYes I'll be as true as true can be\\nIf you'll come and stay with me\\n\\nAll lovers of the past, I'll leave behind\\nThey'll never be another on my mind\\nI'll do all I can so you'll feel free\\nIf you'll come and stay with me\\n\\nThe promise I made most faithfully\\nI'll keep still if you decide to leave\\nI'll try and see that you have all you need\\nIf you'll come and stay with me\\n\\nYes I'll be as true as true can be\\nIf you'll come and stay with me\\n\\nLive a life no others have ever known\\nBut I know you think that I'm hardly grown\\nOh thank God at last and finally\\nI can see you're gonna stay with me\\nI can see you're gonna stay with me   \n",
       "\n",
       "  Artist  \n",
       "0   cher  "
      ]
     },
     "execution_count": 26,
     "metadata": {},
     "output_type": "execute_result"
    }
   ],
   "source": [
    "# your code here\n",
    "\n",
    "# create artists field based on if filename starts with cher or robyn\n",
    "df_lyrics['Artist'] = df_lyrics['Filename'].apply(lambda x: 'cher' if x.startswith('cher_') else ('robyn'))\n",
    "df_lyrics[:1]"
   ]
  },
  {
   "cell_type": "code",
   "execution_count": 27,
   "id": "377f22de",
   "metadata": {},
   "outputs": [
    {
     "data": {
      "text/html": [
       "<div>\n",
       "<style scoped>\n",
       "    .dataframe tbody tr th:only-of-type {\n",
       "        vertical-align: middle;\n",
       "    }\n",
       "\n",
       "    .dataframe tbody tr th {\n",
       "        vertical-align: top;\n",
       "    }\n",
       "\n",
       "    .dataframe thead th {\n",
       "        text-align: right;\n",
       "    }\n",
       "</style>\n",
       "<table border=\"1\" class=\"dataframe\">\n",
       "  <thead>\n",
       "    <tr style=\"text-align: right;\">\n",
       "      <th></th>\n",
       "      <th>Filename</th>\n",
       "      <th>Text</th>\n",
       "      <th>Artist</th>\n",
       "    </tr>\n",
       "  </thead>\n",
       "  <tbody>\n",
       "    <tr>\n",
       "      <th>0</th>\n",
       "      <td>cher_classified1a.txt</td>\n",
       "      <td>\"Come And Stay With Me\" I'll send away all my false pride And I'll forsake all of my life Yes I'll be as true as true can be If you'll come and stay with me All lovers of the past, I'll leave behind They'll never be another on my mind I'll do all I can so you'll feel free If you'll come and stay with me The promise I made most faithfully I'll keep still if you decide to leave I'll try and see that you have all you need If you'll come and stay with me Yes I'll be as true as true can be If you'll come and stay with me Live a life no others have ever known But I know you think that I'm hardly grown Oh thank God at last and finally I can see you're gonna stay with me I can see you're gonna stay with me</td>\n",
       "      <td>cher</td>\n",
       "    </tr>\n",
       "  </tbody>\n",
       "</table>\n",
       "</div>"
      ],
      "text/plain": [
       "                Filename  \\\n",
       "0  cher_classified1a.txt   \n",
       "\n",
       "                                                                                                                                                                                                                                                                                                                                                                                                                                                                                                                                                                                                                                                                                                                                  Text  \\\n",
       "0  \"Come And Stay With Me\" I'll send away all my false pride And I'll forsake all of my life Yes I'll be as true as true can be If you'll come and stay with me All lovers of the past, I'll leave behind They'll never be another on my mind I'll do all I can so you'll feel free If you'll come and stay with me The promise I made most faithfully I'll keep still if you decide to leave I'll try and see that you have all you need If you'll come and stay with me Yes I'll be as true as true can be If you'll come and stay with me Live a life no others have ever known But I know you think that I'm hardly grown Oh thank God at last and finally I can see you're gonna stay with me I can see you're gonna stay with me   \n",
       "\n",
       "  Artist  \n",
       "0   cher  "
      ]
     },
     "execution_count": 27,
     "metadata": {},
     "output_type": "execute_result"
    }
   ],
   "source": [
    "# replace all the \\n with a space and then concatenating them into one single line\n",
    "df_lyrics['Text'] = df_lyrics['Text'].str.replace(r'\\n+', ' ', regex=True).str.strip()\n",
    "df_lyrics[:1]"
   ]
  },
  {
   "cell_type": "code",
   "execution_count": 29,
   "id": "03ad68ab",
   "metadata": {},
   "outputs": [
    {
     "data": {
      "text/html": [
       "<div>\n",
       "<style scoped>\n",
       "    .dataframe tbody tr th:only-of-type {\n",
       "        vertical-align: middle;\n",
       "    }\n",
       "\n",
       "    .dataframe tbody tr th {\n",
       "        vertical-align: top;\n",
       "    }\n",
       "\n",
       "    .dataframe thead th {\n",
       "        text-align: right;\n",
       "    }\n",
       "</style>\n",
       "<table border=\"1\" class=\"dataframe\">\n",
       "  <thead>\n",
       "    <tr style=\"text-align: right;\">\n",
       "      <th></th>\n",
       "      <th>Filename</th>\n",
       "      <th>Text</th>\n",
       "      <th>Artist</th>\n",
       "      <th>Tokens</th>\n",
       "    </tr>\n",
       "  </thead>\n",
       "  <tbody>\n",
       "    <tr>\n",
       "      <th>0</th>\n",
       "      <td>cher_classified1a.txt</td>\n",
       "      <td>\"Come And Stay With Me\" I'll send away all my false pride And I'll forsake all of my life Yes I'll be as true as true can be If you'll come and stay with me All lovers of the past, I'll leave behind They'll never be another on my mind I'll do all I can so you'll feel free If you'll come and stay with me The promise I made most faithfully I'll keep still if you decide to leave I'll try and see that you have all you need If you'll come and stay with me Yes I'll be as true as true can be If you'll come and stay with me Live a life no others have ever known But I know you think that I'm hardly grown Oh thank God at last and finally I can see you're gonna stay with me I can see you're gonna stay with me</td>\n",
       "      <td>cher</td>\n",
       "      <td>[\"Come, And, Stay, With, Me\", I'll, send, away, all, my, false, pride, And, I'll, forsake, all, of, my, life, Yes, I'll, be, as, true, as, true, can, be, If, you'll, come, and, stay, with, me, All, lovers, of, the, past,, I'll, leave, behind, They'll, never, be, another, on, my, mind, I'll, do, all, I, can, so, you'll, feel, free, If, you'll, come, and, stay, with, me, The, promise, I, made, most, faithfully, I'll, keep, still, if, you, decide, to, leave, I'll, try, and, see, that, you, have, all, you, need, If, you'll, come, and, stay, with, me, Yes, I'll, be, ...]</td>\n",
       "    </tr>\n",
       "  </tbody>\n",
       "</table>\n",
       "</div>"
      ],
      "text/plain": [
       "                Filename  \\\n",
       "0  cher_classified1a.txt   \n",
       "\n",
       "                                                                                                                                                                                                                                                                                                                                                                                                                                                                                                                                                                                                                                                                                                                                  Text  \\\n",
       "0  \"Come And Stay With Me\" I'll send away all my false pride And I'll forsake all of my life Yes I'll be as true as true can be If you'll come and stay with me All lovers of the past, I'll leave behind They'll never be another on my mind I'll do all I can so you'll feel free If you'll come and stay with me The promise I made most faithfully I'll keep still if you decide to leave I'll try and see that you have all you need If you'll come and stay with me Yes I'll be as true as true can be If you'll come and stay with me Live a life no others have ever known But I know you think that I'm hardly grown Oh thank God at last and finally I can see you're gonna stay with me I can see you're gonna stay with me   \n",
       "\n",
       "  Artist  \\\n",
       "0   cher   \n",
       "\n",
       "                                                                                                                                                                                                                                                                                                                                                                                                                                                                                                                                                                                         Tokens  \n",
       "0  [\"Come, And, Stay, With, Me\", I'll, send, away, all, my, false, pride, And, I'll, forsake, all, of, my, life, Yes, I'll, be, as, true, as, true, can, be, If, you'll, come, and, stay, with, me, All, lovers, of, the, past,, I'll, leave, behind, They'll, never, be, another, on, my, mind, I'll, do, all, I, can, so, you'll, feel, free, If, you'll, come, and, stay, with, me, The, promise, I, made, most, faithfully, I'll, keep, still, if, you, decide, to, leave, I'll, try, and, see, that, you, have, all, you, need, If, you'll, come, and, stay, with, me, Yes, I'll, be, ...]  "
      ]
     },
     "execution_count": 29,
     "metadata": {},
     "output_type": "execute_result"
    }
   ],
   "source": [
    "# split texts on whitespace to create tokens\n",
    "df_lyrics['Tokens'] = df_lyrics['Text'].str.split()\n",
    "df_lyrics[:1]"
   ]
  },
  {
   "cell_type": "code",
   "execution_count": 30,
   "id": "d66e9716",
   "metadata": {},
   "outputs": [
    {
     "data": {
      "text/html": [
       "<div>\n",
       "<style scoped>\n",
       "    .dataframe tbody tr th:only-of-type {\n",
       "        vertical-align: middle;\n",
       "    }\n",
       "\n",
       "    .dataframe tbody tr th {\n",
       "        vertical-align: top;\n",
       "    }\n",
       "\n",
       "    .dataframe thead th {\n",
       "        text-align: right;\n",
       "    }\n",
       "</style>\n",
       "<table border=\"1\" class=\"dataframe\">\n",
       "  <thead>\n",
       "    <tr style=\"text-align: right;\">\n",
       "      <th></th>\n",
       "      <th>Filename</th>\n",
       "      <th>Text</th>\n",
       "      <th>Artist</th>\n",
       "      <th>Tokens</th>\n",
       "    </tr>\n",
       "  </thead>\n",
       "  <tbody>\n",
       "    <tr>\n",
       "      <th>0</th>\n",
       "      <td>cher_classified1a.txt</td>\n",
       "      <td>\"Come And Stay With Me\" I'll send away all my false pride And I'll forsake all of my life Yes I'll be as true as true can be If you'll come and stay with me All lovers of the past, I'll leave behind They'll never be another on my mind I'll do all I can so you'll feel free If you'll come and stay with me The promise I made most faithfully I'll keep still if you decide to leave I'll try and see that you have all you need If you'll come and stay with me Yes I'll be as true as true can be If you'll come and stay with me Live a life no others have ever known But I know you think that I'm hardly grown Oh thank God at last and finally I can see you're gonna stay with me I can see you're gonna stay with me</td>\n",
       "      <td>cher</td>\n",
       "      <td>[\"come, and, stay, with, me\", i'll, send, away, all, my, false, pride, and, i'll, forsake, all, of, my, life, yes, i'll, be, as, true, as, true, can, be, if, you'll, come, and, stay, with, me, all, lovers, of, the, past,, i'll, leave, behind, they'll, never, be, another, on, my, mind, i'll, do, all, i, can, so, you'll, feel, free, if, you'll, come, and, stay, with, me, the, promise, i, made, most, faithfully, i'll, keep, still, if, you, decide, to, leave, i'll, try, and, see, that, you, have, all, you, need, if, you'll, come, and, stay, with, me, yes, i'll, be, ...]</td>\n",
       "    </tr>\n",
       "  </tbody>\n",
       "</table>\n",
       "</div>"
      ],
      "text/plain": [
       "                Filename  \\\n",
       "0  cher_classified1a.txt   \n",
       "\n",
       "                                                                                                                                                                                                                                                                                                                                                                                                                                                                                                                                                                                                                                                                                                                                  Text  \\\n",
       "0  \"Come And Stay With Me\" I'll send away all my false pride And I'll forsake all of my life Yes I'll be as true as true can be If you'll come and stay with me All lovers of the past, I'll leave behind They'll never be another on my mind I'll do all I can so you'll feel free If you'll come and stay with me The promise I made most faithfully I'll keep still if you decide to leave I'll try and see that you have all you need If you'll come and stay with me Yes I'll be as true as true can be If you'll come and stay with me Live a life no others have ever known But I know you think that I'm hardly grown Oh thank God at last and finally I can see you're gonna stay with me I can see you're gonna stay with me   \n",
       "\n",
       "  Artist  \\\n",
       "0   cher   \n",
       "\n",
       "                                                                                                                                                                                                                                                                                                                                                                                                                                                                                                                                                                                         Tokens  \n",
       "0  [\"come, and, stay, with, me\", i'll, send, away, all, my, false, pride, and, i'll, forsake, all, of, my, life, yes, i'll, be, as, true, as, true, can, be, if, you'll, come, and, stay, with, me, all, lovers, of, the, past,, i'll, leave, behind, they'll, never, be, another, on, my, mind, i'll, do, all, i, can, so, you'll, feel, free, if, you'll, come, and, stay, with, me, the, promise, i, made, most, faithfully, i'll, keep, still, if, you, decide, to, leave, i'll, try, and, see, that, you, have, all, you, need, if, you'll, come, and, stay, with, me, yes, i'll, be, ...]  "
      ]
     },
     "execution_count": 30,
     "metadata": {},
     "output_type": "execute_result"
    }
   ],
   "source": [
    "# convert all the tokens to lowercase\n",
    "# apply .lower() for each token in the tokens list\n",
    "df_lyrics['Tokens'] = df_lyrics['Tokens'].apply(lambda tokens: [token.lower() for token in tokens])\n",
    "df_lyrics[:1]"
   ]
  },
  {
   "cell_type": "code",
   "execution_count": 31,
   "id": "26250c3d",
   "metadata": {},
   "outputs": [
    {
     "data": {
      "text/html": [
       "<div>\n",
       "<style scoped>\n",
       "    .dataframe tbody tr th:only-of-type {\n",
       "        vertical-align: middle;\n",
       "    }\n",
       "\n",
       "    .dataframe tbody tr th {\n",
       "        vertical-align: top;\n",
       "    }\n",
       "\n",
       "    .dataframe thead th {\n",
       "        text-align: right;\n",
       "    }\n",
       "</style>\n",
       "<table border=\"1\" class=\"dataframe\">\n",
       "  <thead>\n",
       "    <tr style=\"text-align: right;\">\n",
       "      <th></th>\n",
       "      <th>Filename</th>\n",
       "      <th>Text</th>\n",
       "      <th>Artist</th>\n",
       "      <th>Tokens</th>\n",
       "      <th>Cleaned_Tokens</th>\n",
       "    </tr>\n",
       "  </thead>\n",
       "  <tbody>\n",
       "    <tr>\n",
       "      <th>0</th>\n",
       "      <td>cher_classified1a.txt</td>\n",
       "      <td>\"Come And Stay With Me\" I'll send away all my false pride And I'll forsake all of my life Yes I'll be as true as true can be If you'll come and stay with me All lovers of the past, I'll leave behind They'll never be another on my mind I'll do all I can so you'll feel free If you'll come and stay with me The promise I made most faithfully I'll keep still if you decide to leave I'll try and see that you have all you need If you'll come and stay with me Yes I'll be as true as true can be If you'll come and stay with me Live a life no others have ever known But I know you think that I'm hardly grown Oh thank God at last and finally I can see you're gonna stay with me I can see you're gonna stay with me</td>\n",
       "      <td>cher</td>\n",
       "      <td>[\"come, and, stay, with, me\", i'll, send, away, all, my, false, pride, and, i'll, forsake, all, of, my, life, yes, i'll, be, as, true, as, true, can, be, if, you'll, come, and, stay, with, me, all, lovers, of, the, past,, i'll, leave, behind, they'll, never, be, another, on, my, mind, i'll, do, all, i, can, so, you'll, feel, free, if, you'll, come, and, stay, with, me, the, promise, i, made, most, faithfully, i'll, keep, still, if, you, decide, to, leave, i'll, try, and, see, that, you, have, all, you, need, if, you'll, come, and, stay, with, me, yes, i'll, be, ...]</td>\n",
       "      <td>[\"come, stay, me\", i'll, send, away, false, pride, i'll, forsake, life, yes, i'll, true, true, come, stay, lovers, past,, i'll, leave, behind, they'll, never, another, mind, i'll, feel, free, come, stay, promise, made, faithfully, i'll, keep, still, decide, leave, i'll, try, see, need, come, stay, yes, i'll, true, true, come, stay, live, life, others, ever, known, know, think, i'm, hardly, grown, oh, thank, god, last, finally, see, gonna, stay, see, gonna, stay]</td>\n",
       "    </tr>\n",
       "  </tbody>\n",
       "</table>\n",
       "</div>"
      ],
      "text/plain": [
       "                Filename  \\\n",
       "0  cher_classified1a.txt   \n",
       "\n",
       "                                                                                                                                                                                                                                                                                                                                                                                                                                                                                                                                                                                                                                                                                                                                  Text  \\\n",
       "0  \"Come And Stay With Me\" I'll send away all my false pride And I'll forsake all of my life Yes I'll be as true as true can be If you'll come and stay with me All lovers of the past, I'll leave behind They'll never be another on my mind I'll do all I can so you'll feel free If you'll come and stay with me The promise I made most faithfully I'll keep still if you decide to leave I'll try and see that you have all you need If you'll come and stay with me Yes I'll be as true as true can be If you'll come and stay with me Live a life no others have ever known But I know you think that I'm hardly grown Oh thank God at last and finally I can see you're gonna stay with me I can see you're gonna stay with me   \n",
       "\n",
       "  Artist  \\\n",
       "0   cher   \n",
       "\n",
       "                                                                                                                                                                                                                                                                                                                                                                                                                                                                                                                                                                                         Tokens  \\\n",
       "0  [\"come, and, stay, with, me\", i'll, send, away, all, my, false, pride, and, i'll, forsake, all, of, my, life, yes, i'll, be, as, true, as, true, can, be, if, you'll, come, and, stay, with, me, all, lovers, of, the, past,, i'll, leave, behind, they'll, never, be, another, on, my, mind, i'll, do, all, i, can, so, you'll, feel, free, if, you'll, come, and, stay, with, me, the, promise, i, made, most, faithfully, i'll, keep, still, if, you, decide, to, leave, i'll, try, and, see, that, you, have, all, you, need, if, you'll, come, and, stay, with, me, yes, i'll, be, ...]   \n",
       "\n",
       "                                                                                                                                                                                                                                                                                                                                                                                                                                                                       Cleaned_Tokens  \n",
       "0  [\"come, stay, me\", i'll, send, away, false, pride, i'll, forsake, life, yes, i'll, true, true, come, stay, lovers, past,, i'll, leave, behind, they'll, never, another, mind, i'll, feel, free, come, stay, promise, made, faithfully, i'll, keep, still, decide, leave, i'll, try, see, need, come, stay, yes, i'll, true, true, come, stay, live, life, others, ever, known, know, think, i'm, hardly, grown, oh, thank, god, last, finally, see, gonna, stay, see, gonna, stay]  "
      ]
     },
     "execution_count": 31,
     "metadata": {},
     "output_type": "execute_result"
    }
   ],
   "source": [
    "# remove stop words from tokens\n",
    "# cleaned tokens will be all the token in tokens as long as they are not in stopwords list\n",
    "df_lyrics['Cleaned_Tokens'] = df_lyrics['Tokens'].apply(lambda tokens: [token for token in tokens if token not in sw])\n",
    "df_lyrics[:1]"
   ]
  },
  {
   "cell_type": "code",
   "execution_count": 32,
   "id": "30d6e53a",
   "metadata": {},
   "outputs": [
    {
     "data": {
      "text/plain": [
       "[3.0, 12.0, -1.0, 0.0, 9.0]"
      ]
     },
     "execution_count": 32,
     "metadata": {},
     "output_type": "execute_result"
    }
   ],
   "source": [
    "# calculate sentiment for each song in df_lyrics manually\n",
    "\n",
    "# create empty list to store score for each song\n",
    "sentiment_scores = []\n",
    "\n",
    "# go thourgh each record in df lyrics\n",
    "for index, row in df_lyrics.iterrows():\n",
    "\n",
    "    # tokens are the cleaned tokens list\n",
    "    tokens = row['Cleaned_Tokens']\n",
    "\n",
    "    # set initial score to 0\n",
    "    sentiment_score = 0\n",
    "\n",
    "    # for each token\n",
    "    for token in tokens:\n",
    "\n",
    "        # at the value of the word to the score \n",
    "        sentiment_score += sentiment_dict.get(token, 0)\n",
    "\n",
    "    # append that score to the list\n",
    "    sentiment_scores.append(sentiment_score)\n",
    "\n",
    "sentiment_scores[:5]"
   ]
  },
  {
   "cell_type": "code",
   "execution_count": 33,
   "id": "55f3df36",
   "metadata": {},
   "outputs": [
    {
     "data": {
      "text/plain": [
       "420"
      ]
     },
     "execution_count": 33,
     "metadata": {},
     "output_type": "execute_result"
    }
   ],
   "source": [
    "# 420 scores, one for each song\n",
    "len(sentiment_scores)"
   ]
  },
  {
   "cell_type": "code",
   "execution_count": 34,
   "id": "6e69ee81",
   "metadata": {},
   "outputs": [
    {
     "data": {
      "text/html": [
       "<div>\n",
       "<style scoped>\n",
       "    .dataframe tbody tr th:only-of-type {\n",
       "        vertical-align: middle;\n",
       "    }\n",
       "\n",
       "    .dataframe tbody tr th {\n",
       "        vertical-align: top;\n",
       "    }\n",
       "\n",
       "    .dataframe thead th {\n",
       "        text-align: right;\n",
       "    }\n",
       "</style>\n",
       "<table border=\"1\" class=\"dataframe\">\n",
       "  <thead>\n",
       "    <tr style=\"text-align: right;\">\n",
       "      <th></th>\n",
       "      <th>Filename</th>\n",
       "      <th>Text</th>\n",
       "      <th>Artist</th>\n",
       "      <th>Tokens</th>\n",
       "      <th>Cleaned_Tokens</th>\n",
       "      <th>sentiment_score</th>\n",
       "    </tr>\n",
       "  </thead>\n",
       "  <tbody>\n",
       "    <tr>\n",
       "      <th>0</th>\n",
       "      <td>cher_classified1a.txt</td>\n",
       "      <td>\"Come And Stay With Me\" I'll send away all my false pride And I'll forsake all of my life Yes I'll be as true as true can be If you'll come and stay with me All lovers of the past, I'll leave behind They'll never be another on my mind I'll do all I can so you'll feel free If you'll come and stay with me The promise I made most faithfully I'll keep still if you decide to leave I'll try and see that you have all you need If you'll come and stay with me Yes I'll be as true as true can be If you'll come and stay with me Live a life no others have ever known But I know you think that I'm hardly grown Oh thank God at last and finally I can see you're gonna stay with me I can see you're gonna stay with me</td>\n",
       "      <td>cher</td>\n",
       "      <td>[\"come, and, stay, with, me\", i'll, send, away, all, my, false, pride, and, i'll, forsake, all, of, my, life, yes, i'll, be, as, true, as, true, can, be, if, you'll, come, and, stay, with, me, all, lovers, of, the, past,, i'll, leave, behind, they'll, never, be, another, on, my, mind, i'll, do, all, i, can, so, you'll, feel, free, if, you'll, come, and, stay, with, me, the, promise, i, made, most, faithfully, i'll, keep, still, if, you, decide, to, leave, i'll, try, and, see, that, you, have, all, you, need, if, you'll, come, and, stay, with, me, yes, i'll, be, ...]</td>\n",
       "      <td>[\"come, stay, me\", i'll, send, away, false, pride, i'll, forsake, life, yes, i'll, true, true, come, stay, lovers, past,, i'll, leave, behind, they'll, never, another, mind, i'll, feel, free, come, stay, promise, made, faithfully, i'll, keep, still, decide, leave, i'll, try, see, need, come, stay, yes, i'll, true, true, come, stay, live, life, others, ever, known, know, think, i'm, hardly, grown, oh, thank, god, last, finally, see, gonna, stay, see, gonna, stay]</td>\n",
       "      <td>3.0</td>\n",
       "    </tr>\n",
       "  </tbody>\n",
       "</table>\n",
       "</div>"
      ],
      "text/plain": [
       "                Filename  \\\n",
       "0  cher_classified1a.txt   \n",
       "\n",
       "                                                                                                                                                                                                                                                                                                                                                                                                                                                                                                                                                                                                                                                                                                                                  Text  \\\n",
       "0  \"Come And Stay With Me\" I'll send away all my false pride And I'll forsake all of my life Yes I'll be as true as true can be If you'll come and stay with me All lovers of the past, I'll leave behind They'll never be another on my mind I'll do all I can so you'll feel free If you'll come and stay with me The promise I made most faithfully I'll keep still if you decide to leave I'll try and see that you have all you need If you'll come and stay with me Yes I'll be as true as true can be If you'll come and stay with me Live a life no others have ever known But I know you think that I'm hardly grown Oh thank God at last and finally I can see you're gonna stay with me I can see you're gonna stay with me   \n",
       "\n",
       "  Artist  \\\n",
       "0   cher   \n",
       "\n",
       "                                                                                                                                                                                                                                                                                                                                                                                                                                                                                                                                                                                         Tokens  \\\n",
       "0  [\"come, and, stay, with, me\", i'll, send, away, all, my, false, pride, and, i'll, forsake, all, of, my, life, yes, i'll, be, as, true, as, true, can, be, if, you'll, come, and, stay, with, me, all, lovers, of, the, past,, i'll, leave, behind, they'll, never, be, another, on, my, mind, i'll, do, all, i, can, so, you'll, feel, free, if, you'll, come, and, stay, with, me, the, promise, i, made, most, faithfully, i'll, keep, still, if, you, decide, to, leave, i'll, try, and, see, that, you, have, all, you, need, if, you'll, come, and, stay, with, me, yes, i'll, be, ...]   \n",
       "\n",
       "                                                                                                                                                                                                                                                                                                                                                                                                                                                                       Cleaned_Tokens  \\\n",
       "0  [\"come, stay, me\", i'll, send, away, false, pride, i'll, forsake, life, yes, i'll, true, true, come, stay, lovers, past,, i'll, leave, behind, they'll, never, another, mind, i'll, feel, free, come, stay, promise, made, faithfully, i'll, keep, still, decide, leave, i'll, try, see, need, come, stay, yes, i'll, true, true, come, stay, live, life, others, ever, known, know, think, i'm, hardly, grown, oh, thank, god, last, finally, see, gonna, stay, see, gonna, stay]   \n",
       "\n",
       "   sentiment_score  \n",
       "0              3.0  "
      ]
     },
     "execution_count": 34,
     "metadata": {},
     "output_type": "execute_result"
    }
   ],
   "source": [
    "# add the scores to each record\n",
    "df_lyrics['sentiment_score'] = sentiment_scores\n",
    "df_lyrics[:1]"
   ]
  },
  {
   "cell_type": "code",
   "execution_count": 35,
   "id": "ae32e34b",
   "metadata": {},
   "outputs": [
    {
     "data": {
      "text/plain": [
       "Artist\n",
       "cher     3.113924\n",
       "robyn    2.000000\n",
       "Name: sentiment_score, dtype: float64"
      ]
     },
     "execution_count": 35,
     "metadata": {},
     "output_type": "execute_result"
    }
   ],
   "source": [
    "# get the average sentiment per song for each artist\n",
    "average_sentiment_per_artist = df_lyrics.groupby('Artist')['sentiment_score'].mean()\n",
    "average_sentiment_per_artist"
   ]
  },
  {
   "cell_type": "code",
   "execution_count": 40,
   "id": "5cc1073f",
   "metadata": {},
   "outputs": [
    {
     "data": {
      "text/html": [
       "<div>\n",
       "<style scoped>\n",
       "    .dataframe tbody tr th:only-of-type {\n",
       "        vertical-align: middle;\n",
       "    }\n",
       "\n",
       "    .dataframe tbody tr th {\n",
       "        vertical-align: top;\n",
       "    }\n",
       "\n",
       "    .dataframe thead th {\n",
       "        text-align: right;\n",
       "    }\n",
       "</style>\n",
       "<table border=\"1\" class=\"dataframe\">\n",
       "  <thead>\n",
       "    <tr style=\"text-align: right;\">\n",
       "      <th></th>\n",
       "      <th>Filename</th>\n",
       "      <th>Text</th>\n",
       "      <th>Artist</th>\n",
       "      <th>Tokens</th>\n",
       "      <th>Cleaned_Tokens</th>\n",
       "      <th>sentiment_score</th>\n",
       "    </tr>\n",
       "  </thead>\n",
       "  <tbody>\n",
       "    <tr>\n",
       "      <th>316</th>\n",
       "      <td>robyn_play.txt</td>\n",
       "      <td>\"Include Me Out\" It is really very simple Just a single pulse, repeated at a regular interval Mmm, hmm Don't include me out, no Don't include me out One time for the records and the hits Two for your money-maker, shake, boom Three times for the lucky and the dead One time for the sorry and safe Two for the beggar and his company Three times for the sinner and the saint Yeah, bow down all you wicked and the vain Bow to the miracle, the em, na, na Three times and the devil will be gone One time for the fire, bring it on Two for the boogie, gotta bang the beat Three times for the ladies, show me some love Talking 'bout everyone, every day, all day And if your world should fall apart There's plenty room inside my heart Just don't include me out Don't include me out And if your world should fall apart I still got room inside my heart Just don't include me out Don't include me out, d-d-don't include me out All hail to the mamas who hold it down Hail to the pillar of the family This one's for the granny, take a bow One time for the crazy and the bent Come on, all you trannies click your heels for me All praise the fugeses and the gems Talking 'bout everyone, every day, all day, oh yeah And if your world should fall apart There's plenty room inside my heart Just don't include me out Just don't include me out And if your world should fall apart I still got room inside my heart Just don't include me out Don't include me out, d-d-don't include me out Can I get a beat, beat for all of my watchamacallits Doing whatever and with whoever they like? Can I get a beat, beat for all of my watchamacallits Doing whatever and with whoever they like? Can I get a bam, bam for all of my watchamacallits Doing whatever and with whoever they like? Can I get a bam, bam for all of my watchamacallits Doing whatever and with whoever they like? I'm talking about everyone, every day, all day, hey And if your world should fall apart There's plenty room inside my heart Just don't include me out Don't include me out And if your world should fall apart I still got room inside my heart Just don't include me out Don't include me out And if your world should fall apart There's plenty room inside my heart Just don't include me out, hey, hey And if your world should fall apart I still got room inside my heart, yeah Just don't include me out, hey</td>\n",
       "      <td>robyn</td>\n",
       "      <td>[\"include, me, out\", it, is, really, very, simple, just, a, single, pulse,, repeated, at, a, regular, interval, mmm,, hmm, don't, include, me, out,, no, don't, include, me, out, one, time, for, the, records, and, the, hits, two, for, your, money-maker,, shake,, boom, three, times, for, the, lucky, and, the, dead, one, time, for, the, sorry, and, safe, two, for, the, beggar, and, his, company, three, times, for, the, sinner, and, the, saint, yeah,, bow, down, all, you, wicked, and, the, vain, bow, to, the, miracle,, the, em,, na,, na, three, times, and, the, devil, will, be, gone, one, time, for, ...]</td>\n",
       "      <td>[\"include, out\", really, simple, single, pulse,, repeated, regular, interval, mmm,, hmm, include, out,, include, one, time, records, hits, two, money-maker,, shake,, boom, three, times, lucky, dead, one, time, sorry, safe, two, beggar, company, three, times, sinner, saint, yeah,, bow, wicked, vain, bow, miracle,, em,, na,, na, three, times, devil, gone, one, time, fire,, bring, two, boogie,, gotta, bang, beat, three, times, ladies,, show, love, talking, 'bout, everyone,, every, day,, day, world, fall, apart, there's, plenty, room, inside, heart, include, include, world, fall, apart, still, got, room, inside, heart, include, include, out,, d-d-don't, include, hail, mamas, hold, hail, pillar, family, one's, ...]</td>\n",
       "      <td>-7.0</td>\n",
       "    </tr>\n",
       "  </tbody>\n",
       "</table>\n",
       "</div>"
      ],
      "text/plain": [
       "           Filename  \\\n",
       "316  robyn_play.txt   \n",
       "\n",
       "                                                                                                                                                                                                                                                                                                                                                                                                                                                                                                                                                                                                                                                                                                                                                                                                                                                                                                                                                                                                                                                                                                                                                                                                                                                                                                                                                                                                                                                                                                                                                                                                                                                                                                                                                                                                                                                                                                                                                                                                                                                                                                                                                                                                                                                                                                                                                                                                                                         Text  \\\n",
       "316  \"Include Me Out\" It is really very simple Just a single pulse, repeated at a regular interval Mmm, hmm Don't include me out, no Don't include me out One time for the records and the hits Two for your money-maker, shake, boom Three times for the lucky and the dead One time for the sorry and safe Two for the beggar and his company Three times for the sinner and the saint Yeah, bow down all you wicked and the vain Bow to the miracle, the em, na, na Three times and the devil will be gone One time for the fire, bring it on Two for the boogie, gotta bang the beat Three times for the ladies, show me some love Talking 'bout everyone, every day, all day And if your world should fall apart There's plenty room inside my heart Just don't include me out Don't include me out And if your world should fall apart I still got room inside my heart Just don't include me out Don't include me out, d-d-don't include me out All hail to the mamas who hold it down Hail to the pillar of the family This one's for the granny, take a bow One time for the crazy and the bent Come on, all you trannies click your heels for me All praise the fugeses and the gems Talking 'bout everyone, every day, all day, oh yeah And if your world should fall apart There's plenty room inside my heart Just don't include me out Just don't include me out And if your world should fall apart I still got room inside my heart Just don't include me out Don't include me out, d-d-don't include me out Can I get a beat, beat for all of my watchamacallits Doing whatever and with whoever they like? Can I get a beat, beat for all of my watchamacallits Doing whatever and with whoever they like? Can I get a bam, bam for all of my watchamacallits Doing whatever and with whoever they like? Can I get a bam, bam for all of my watchamacallits Doing whatever and with whoever they like? I'm talking about everyone, every day, all day, hey And if your world should fall apart There's plenty room inside my heart Just don't include me out Don't include me out And if your world should fall apart I still got room inside my heart Just don't include me out Don't include me out And if your world should fall apart There's plenty room inside my heart Just don't include me out, hey, hey And if your world should fall apart I still got room inside my heart, yeah Just don't include me out, hey   \n",
       "\n",
       "    Artist  \\\n",
       "316  robyn   \n",
       "\n",
       "                                                                                                                                                                                                                                                                                                                                                                                                                                                                                                                                                                                                                              Tokens  \\\n",
       "316  [\"include, me, out\", it, is, really, very, simple, just, a, single, pulse,, repeated, at, a, regular, interval, mmm,, hmm, don't, include, me, out,, no, don't, include, me, out, one, time, for, the, records, and, the, hits, two, for, your, money-maker,, shake,, boom, three, times, for, the, lucky, and, the, dead, one, time, for, the, sorry, and, safe, two, for, the, beggar, and, his, company, three, times, for, the, sinner, and, the, saint, yeah,, bow, down, all, you, wicked, and, the, vain, bow, to, the, miracle,, the, em,, na,, na, three, times, and, the, devil, will, be, gone, one, time, for, ...]   \n",
       "\n",
       "                                                                                                                                                                                                                                                                                                                                                                                                                                                                                                                                                                                                                                                                                                                                      Cleaned_Tokens  \\\n",
       "316  [\"include, out\", really, simple, single, pulse,, repeated, regular, interval, mmm,, hmm, include, out,, include, one, time, records, hits, two, money-maker,, shake,, boom, three, times, lucky, dead, one, time, sorry, safe, two, beggar, company, three, times, sinner, saint, yeah,, bow, wicked, vain, bow, miracle,, em,, na,, na, three, times, devil, gone, one, time, fire,, bring, two, boogie,, gotta, bang, beat, three, times, ladies,, show, love, talking, 'bout, everyone,, every, day,, day, world, fall, apart, there's, plenty, room, inside, heart, include, include, world, fall, apart, still, got, room, inside, heart, include, include, out,, d-d-don't, include, hail, mamas, hold, hail, pillar, family, one's, ...]   \n",
       "\n",
       "     sentiment_score  \n",
       "316             -7.0  "
      ]
     },
     "execution_count": 40,
     "metadata": {},
     "output_type": "execute_result"
    }
   ],
   "source": [
    "# find the three songs with the highest and lowest sentiments for each artist\n",
    "\n",
    "# filter by artists\n",
    "cher_songs = df_lyrics[df_lyrics['Artist'] == \"cher\"]\n",
    "robyn_songs = df_lyrics[df_lyrics['Artist'] == \"robyn\"]\n",
    "\n",
    "robyn_songs[:1]"
   ]
  },
  {
   "cell_type": "code",
   "execution_count": 41,
   "id": "0465758d",
   "metadata": {},
   "outputs": [],
   "source": [
    "# get the records with the 3 highest and lowest sentiment scores\n",
    "cher_songs_highest = cher_songs.nlargest(3, 'sentiment_score')\n",
    "cher_songs_lowest = cher_songs.nsmallest(3, 'sentiment_score')"
   ]
  },
  {
   "cell_type": "code",
   "execution_count": 42,
   "id": "eb44fc62",
   "metadata": {},
   "outputs": [
    {
     "data": {
      "text/html": [
       "<div>\n",
       "<style scoped>\n",
       "    .dataframe tbody tr th:only-of-type {\n",
       "        vertical-align: middle;\n",
       "    }\n",
       "\n",
       "    .dataframe tbody tr th {\n",
       "        vertical-align: top;\n",
       "    }\n",
       "\n",
       "    .dataframe thead th {\n",
       "        text-align: right;\n",
       "    }\n",
       "</style>\n",
       "<table border=\"1\" class=\"dataframe\">\n",
       "  <thead>\n",
       "    <tr style=\"text-align: right;\">\n",
       "      <th></th>\n",
       "      <th>Filename</th>\n",
       "      <th>Text</th>\n",
       "      <th>Artist</th>\n",
       "      <th>Tokens</th>\n",
       "      <th>Cleaned_Tokens</th>\n",
       "      <th>sentiment_score</th>\n",
       "    </tr>\n",
       "  </thead>\n",
       "  <tbody>\n",
       "    <tr>\n",
       "      <th>103</th>\n",
       "      <td>cher_classified1a.txt</td>\n",
       "      <td>\"Perfection\" Hush little Baby, gotta be strong 'Cause in this world we are born to fight Be the best, prove them wrong A winner's work is never done, reach the top, number one Oh, perfection You drive me crazy with perfection I've worn my pride as my protection Perfection, ohh I was taught to be tough That the best that you can be ain't enough Crack the whip, sacrifice But I found out paradise had a price I didn't know it then, but oh I know it now You gotta work as hard as love to make the love work out You know this heart of mine has made some big mistakes I guess that when it comes to love, I just don't know what I takes All my life I've been driven by perfection Pushed it to the limit every day and night Ohh, I've been driven by perfection But nothing's perfect when love ain't right Nothing's perfect when the love ain't right Gave it all, played my part I gave everything I had but my heart Worked so hard, made a name But the loneliness inside stays the same When love is here today, and then it's gone today You got a list of lovers lookin' like a resume You gotta take some time to make it something real I guess that when it comes to love, I just don't know how to feel All my life I've been driven by perfection Pushed it to the limit every day and night Ohh, I've been driven by perfection But nothing's perfect when love ain't right Nothing's perfect when the love ain't right Oh, perfection You drive me crazy with perfection I've worn my pride as my protection I'm goin' crazy with perfection Ohh, I didn't know it then, but oh I know it now You gotta work as hard as love to make the love work out You know this heart of mine has made some big mistakes I guess that when it comes to love, I just don't know what I takes I've been driven by perfection Pushed it to the limit every day and night Ohh, I've been driven by perfection But nothing's perfect when love ain't right All my life I've been driven by perfection Pushed it to the limit every day and night Ohh, I've been driven by perfection But nothing's perfect when love ain't right All my life I've been driven by perfection Pushed it to the limit every day and night Ohh, I've been driven by perfection But nothing's perfect when love ain't right All my life I've been driven by perfection</td>\n",
       "      <td>cher</td>\n",
       "      <td>[\"perfection\", hush, little, baby,, gotta, be, strong, 'cause, in, this, world, we, are, born, to, fight, be, the, best,, prove, them, wrong, a, winner's, work, is, never, done,, reach, the, top,, number, one, oh,, perfection, you, drive, me, crazy, with, perfection, i've, worn, my, pride, as, my, protection, perfection,, ohh, i, was, taught, to, be, tough, that, the, best, that, you, can, be, ain't, enough, crack, the, whip,, sacrifice, but, i, found, out, paradise, had, a, price, i, didn't, know, it, then,, but, oh, i, know, it, now, you, gotta, work, as, hard, as, love, to, make, the, love, work, ...]</td>\n",
       "      <td>[\"perfection\", hush, little, baby,, gotta, strong, 'cause, world, born, fight, best,, prove, wrong, winner's, work, never, done,, reach, top,, number, one, oh,, perfection, drive, crazy, perfection, i've, worn, pride, protection, perfection,, ohh, taught, tough, best, ain't, enough, crack, whip,, sacrifice, found, paradise, price, know, then,, oh, know, gotta, work, hard, love, make, love, work, know, heart, mine, made, big, mistakes, guess, comes, love,, know, takes, life, i've, driven, perfection, pushed, limit, every, day, night, ohh,, i've, driven, perfection, nothing's, perfect, love, ain't, right, nothing's, perfect, love, ain't, right, gave, all,, played, part, gave, everything, heart, worked, hard,, made, name, loneliness, ...]</td>\n",
       "      <td>41.0</td>\n",
       "    </tr>\n",
       "    <tr>\n",
       "      <th>146</th>\n",
       "      <td>cher_classified1a.txt</td>\n",
       "      <td>\"Love And Understanding\" Here, here in this world Where do we go? Where can we turn? When we need some love It seems that love just can't be found Where, where do we stand? When love's supply don't meet love's demand We got enough stars to light the sky at night Enough sun to make to make the whole world bright We got more than enough But there's one thing there's just not enough of Not enough love and understanding We could use some love to ease these troubled times Not enough love and understanding Why, oh why? Spend all of our time Building buildings up to the sky Reaching everywhere But where we need to reach the most Hearts never can win Oh, in this race, this race that we're in We've got enough cars to drive around the world Enough planes to take us anywhere We got more than enough But there's one thing there's just not enough of Not enough love and understanding We could use some love to ease these troubled times Not enough love and understanding Why, oh why? Not enough love and understanding We could use some love to ease these troubled times Not enough love and understanding Why, oh why? We need some understandin' We need a little more love Some love and understandin' Enough stars to light the sky at night Enough sun to make the whole world bright Enough hearts to find some love inside We got more than enough But there's one thing there's just not enough of Not enough love and understanding We could use some love to ease these troubled times Not enough love and understanding Why, oh why? ...</td>\n",
       "      <td>cher</td>\n",
       "      <td>[\"love, and, understanding\", here,, here, in, this, world, where, do, we, go?, where, can, we, turn?, when, we, need, some, love, it, seems, that, love, just, can't, be, found, where,, where, do, we, stand?, when, love's, supply, don't, meet, love's, demand, we, got, enough, stars, to, light, the, sky, at, night, enough, sun, to, make, to, make, the, whole, world, bright, we, got, more, than, enough, but, there's, one, thing, there's, just, not, enough, of, not, enough, love, and, understanding, we, could, use, some, love, to, ease, these, troubled, times, not, enough, love, and, understanding, why,, oh, why?, spend, all, ...]</td>\n",
       "      <td>[\"love, understanding\", here,, world, go?, turn?, need, love, seems, love, can't, found, where,, stand?, love's, supply, meet, love's, demand, got, enough, stars, light, sky, night, enough, sun, make, make, whole, world, bright, got, enough, there's, one, thing, there's, enough, enough, love, understanding, could, use, love, ease, troubled, times, enough, love, understanding, why,, oh, why?, spend, time, building, buildings, sky, reaching, everywhere, need, reach, hearts, never, win, oh,, race,, race, we're, we've, got, enough, cars, drive, around, world, enough, planes, take, us, anywhere, got, enough, there's, one, thing, there's, enough, enough, love, understanding, could, use, love, ease, troubled, times, enough, love, ...]</td>\n",
       "      <td>41.0</td>\n",
       "    </tr>\n",
       "    <tr>\n",
       "      <th>15</th>\n",
       "      <td>cher_classified1a.txt</td>\n",
       "      <td>\"My Love\" When I go away I know my heart can stay with my love It's understood Everywhere with my love My love does it good, whoa My love, oh only my love My love does it good And when the cupboard's bare I'll still find something there with my love It's understood Everywhere with my love My love does it so good, whoa My love, oh only my love My love does it good Only my love, oh only my love Only my love, hold the other things to me Oh, only my love, oh only my love Only my love does it good to me Everywhere with my love Don't you see my love It does it so good Oh, only my love, only my love My love does it good Don't ever ask me why I never say \"good-bye\" to my love It's understood 'Cause everywhere with my love My love does it good, whoa Only my love, oh only my love My love does it good Oh only my love Only my love does it good to me,whoa</td>\n",
       "      <td>cher</td>\n",
       "      <td>[\"my, love\", when, i, go, away, i, know, my, heart, can, stay, with, my, love, it's, understood, everywhere, with, my, love, my, love, does, it, good,, whoa, my, love,, oh, only, my, love, my, love, does, it, good, and, when, the, cupboard's, bare, i'll, still, find, something, there, with, my, love, it's, understood, everywhere, with, my, love, my, love, does, it, so, good,, whoa, my, love,, oh, only, my, love, my, love, does, it, good, only, my, love,, oh, only, my, love, only, my, love,, hold, the, other, things, to, me, oh,, only, my, love,, oh, only, my, love, only, ...]</td>\n",
       "      <td>[\"my, love\", go, away, know, heart, stay, love, understood, everywhere, love, love, good,, whoa, love,, oh, love, love, good, cupboard's, bare, i'll, still, find, something, love, understood, everywhere, love, love, good,, whoa, love,, oh, love, love, good, love,, oh, love, love,, hold, things, oh,, love,, oh, love, love, good, everywhere, love, see, love, good, oh,, love,, love, love, good, ever, ask, never, say, \"good-bye\", love, understood, 'cause, everywhere, love, love, good,, whoa, love,, oh, love, love, good, oh, love, love, good, me,whoa]</td>\n",
       "      <td>34.0</td>\n",
       "    </tr>\n",
       "  </tbody>\n",
       "</table>\n",
       "</div>"
      ],
      "text/plain": [
       "                  Filename  \\\n",
       "103  cher_classified1a.txt   \n",
       "146  cher_classified1a.txt   \n",
       "15   cher_classified1a.txt   \n",
       "\n",
       "                                                                                                                                                                                                                                                                                                                                                                                                                                                                                                                                                                                                                                                                                                                                                                                                                                                                                                                                                                                                                                                                                                                                                                                                                                                                                                                                                                                                                                                                                                                                                                                                                                                                                                                                                                                                                                                                                                                                                                                                                                                                                                                                                                                                                                                                                                                                                                   Text  \\\n",
       "103  \"Perfection\" Hush little Baby, gotta be strong 'Cause in this world we are born to fight Be the best, prove them wrong A winner's work is never done, reach the top, number one Oh, perfection You drive me crazy with perfection I've worn my pride as my protection Perfection, ohh I was taught to be tough That the best that you can be ain't enough Crack the whip, sacrifice But I found out paradise had a price I didn't know it then, but oh I know it now You gotta work as hard as love to make the love work out You know this heart of mine has made some big mistakes I guess that when it comes to love, I just don't know what I takes All my life I've been driven by perfection Pushed it to the limit every day and night Ohh, I've been driven by perfection But nothing's perfect when love ain't right Nothing's perfect when the love ain't right Gave it all, played my part I gave everything I had but my heart Worked so hard, made a name But the loneliness inside stays the same When love is here today, and then it's gone today You got a list of lovers lookin' like a resume You gotta take some time to make it something real I guess that when it comes to love, I just don't know how to feel All my life I've been driven by perfection Pushed it to the limit every day and night Ohh, I've been driven by perfection But nothing's perfect when love ain't right Nothing's perfect when the love ain't right Oh, perfection You drive me crazy with perfection I've worn my pride as my protection I'm goin' crazy with perfection Ohh, I didn't know it then, but oh I know it now You gotta work as hard as love to make the love work out You know this heart of mine has made some big mistakes I guess that when it comes to love, I just don't know what I takes I've been driven by perfection Pushed it to the limit every day and night Ohh, I've been driven by perfection But nothing's perfect when love ain't right All my life I've been driven by perfection Pushed it to the limit every day and night Ohh, I've been driven by perfection But nothing's perfect when love ain't right All my life I've been driven by perfection Pushed it to the limit every day and night Ohh, I've been driven by perfection But nothing's perfect when love ain't right All my life I've been driven by perfection   \n",
       "146                                                                                                                                                                                                                                                                                                                                                                                                                                                                                                                                                                                                                                                                                                                                                                               \"Love And Understanding\" Here, here in this world Where do we go? Where can we turn? When we need some love It seems that love just can't be found Where, where do we stand? When love's supply don't meet love's demand We got enough stars to light the sky at night Enough sun to make to make the whole world bright We got more than enough But there's one thing there's just not enough of Not enough love and understanding We could use some love to ease these troubled times Not enough love and understanding Why, oh why? Spend all of our time Building buildings up to the sky Reaching everywhere But where we need to reach the most Hearts never can win Oh, in this race, this race that we're in We've got enough cars to drive around the world Enough planes to take us anywhere We got more than enough But there's one thing there's just not enough of Not enough love and understanding We could use some love to ease these troubled times Not enough love and understanding Why, oh why? Not enough love and understanding We could use some love to ease these troubled times Not enough love and understanding Why, oh why? We need some understandin' We need a little more love Some love and understandin' Enough stars to light the sky at night Enough sun to make the whole world bright Enough hearts to find some love inside We got more than enough But there's one thing there's just not enough of Not enough love and understanding We could use some love to ease these troubled times Not enough love and understanding Why, oh why? ...   \n",
       "15                                                                                                                                                                                                                                                                                                                                                                                                                                                                                                                                                                                                                                                                                                                                                                                                                                                                                                                                                                                                                                                                                                                                                                                                                                                                                                                                                                                                                                                                               \"My Love\" When I go away I know my heart can stay with my love It's understood Everywhere with my love My love does it good, whoa My love, oh only my love My love does it good And when the cupboard's bare I'll still find something there with my love It's understood Everywhere with my love My love does it so good, whoa My love, oh only my love My love does it good Only my love, oh only my love Only my love, hold the other things to me Oh, only my love, oh only my love Only my love does it good to me Everywhere with my love Don't you see my love It does it so good Oh, only my love, only my love My love does it good Don't ever ask me why I never say \"good-bye\" to my love It's understood 'Cause everywhere with my love My love does it good, whoa Only my love, oh only my love My love does it good Oh only my love Only my love does it good to me,whoa   \n",
       "\n",
       "    Artist  \\\n",
       "103   cher   \n",
       "146   cher   \n",
       "15    cher   \n",
       "\n",
       "                                                                                                                                                                                                                                                                                                                                                                                                                                                                                                                                                                                                                                                         Tokens  \\\n",
       "103                         [\"perfection\", hush, little, baby,, gotta, be, strong, 'cause, in, this, world, we, are, born, to, fight, be, the, best,, prove, them, wrong, a, winner's, work, is, never, done,, reach, the, top,, number, one, oh,, perfection, you, drive, me, crazy, with, perfection, i've, worn, my, pride, as, my, protection, perfection,, ohh, i, was, taught, to, be, tough, that, the, best, that, you, can, be, ain't, enough, crack, the, whip,, sacrifice, but, i, found, out, paradise, had, a, price, i, didn't, know, it, then,, but, oh, i, know, it, now, you, gotta, work, as, hard, as, love, to, make, the, love, work, ...]   \n",
       "146  [\"love, and, understanding\", here,, here, in, this, world, where, do, we, go?, where, can, we, turn?, when, we, need, some, love, it, seems, that, love, just, can't, be, found, where,, where, do, we, stand?, when, love's, supply, don't, meet, love's, demand, we, got, enough, stars, to, light, the, sky, at, night, enough, sun, to, make, to, make, the, whole, world, bright, we, got, more, than, enough, but, there's, one, thing, there's, just, not, enough, of, not, enough, love, and, understanding, we, could, use, some, love, to, ease, these, troubled, times, not, enough, love, and, understanding, why,, oh, why?, spend, all, ...]   \n",
       "15                                                       [\"my, love\", when, i, go, away, i, know, my, heart, can, stay, with, my, love, it's, understood, everywhere, with, my, love, my, love, does, it, good,, whoa, my, love,, oh, only, my, love, my, love, does, it, good, and, when, the, cupboard's, bare, i'll, still, find, something, there, with, my, love, it's, understood, everywhere, with, my, love, my, love, does, it, so, good,, whoa, my, love,, oh, only, my, love, my, love, does, it, good, only, my, love,, oh, only, my, love, only, my, love,, hold, the, other, things, to, me, oh,, only, my, love,, oh, only, my, love, only, ...]   \n",
       "\n",
       "                                                                                                                                                                                                                                                                                                                                                                                                                                                                                                                                                                                                                                                                                                                                                                Cleaned_Tokens  \\\n",
       "103  [\"perfection\", hush, little, baby,, gotta, strong, 'cause, world, born, fight, best,, prove, wrong, winner's, work, never, done,, reach, top,, number, one, oh,, perfection, drive, crazy, perfection, i've, worn, pride, protection, perfection,, ohh, taught, tough, best, ain't, enough, crack, whip,, sacrifice, found, paradise, price, know, then,, oh, know, gotta, work, hard, love, make, love, work, know, heart, mine, made, big, mistakes, guess, comes, love,, know, takes, life, i've, driven, perfection, pushed, limit, every, day, night, ohh,, i've, driven, perfection, nothing's, perfect, love, ain't, right, nothing's, perfect, love, ain't, right, gave, all,, played, part, gave, everything, heart, worked, hard,, made, name, loneliness, ...]   \n",
       "146          [\"love, understanding\", here,, world, go?, turn?, need, love, seems, love, can't, found, where,, stand?, love's, supply, meet, love's, demand, got, enough, stars, light, sky, night, enough, sun, make, make, whole, world, bright, got, enough, there's, one, thing, there's, enough, enough, love, understanding, could, use, love, ease, troubled, times, enough, love, understanding, why,, oh, why?, spend, time, building, buildings, sky, reaching, everywhere, need, reach, hearts, never, win, oh,, race,, race, we're, we've, got, enough, cars, drive, around, world, enough, planes, take, us, anywhere, got, enough, there's, one, thing, there's, enough, enough, love, understanding, could, use, love, ease, troubled, times, enough, love, ...]   \n",
       "15                                                                                                                                                                                                    [\"my, love\", go, away, know, heart, stay, love, understood, everywhere, love, love, good,, whoa, love,, oh, love, love, good, cupboard's, bare, i'll, still, find, something, love, understood, everywhere, love, love, good,, whoa, love,, oh, love, love, good, love,, oh, love, love,, hold, things, oh,, love,, oh, love, love, good, everywhere, love, see, love, good, oh,, love,, love, love, good, ever, ask, never, say, \"good-bye\", love, understood, 'cause, everywhere, love, love, good,, whoa, love,, oh, love, love, good, oh, love, love, good, me,whoa]   \n",
       "\n",
       "     sentiment_score  \n",
       "103             41.0  \n",
       "146             41.0  \n",
       "15              34.0  "
      ]
     },
     "execution_count": 42,
     "metadata": {},
     "output_type": "execute_result"
    }
   ],
   "source": [
    "cher_songs_highest.head()"
   ]
  },
  {
   "cell_type": "code",
   "execution_count": 43,
   "id": "ad0b5d1f",
   "metadata": {},
   "outputs": [
    {
     "data": {
      "text/html": [
       "<div>\n",
       "<style scoped>\n",
       "    .dataframe tbody tr th:only-of-type {\n",
       "        vertical-align: middle;\n",
       "    }\n",
       "\n",
       "    .dataframe tbody tr th {\n",
       "        vertical-align: top;\n",
       "    }\n",
       "\n",
       "    .dataframe thead th {\n",
       "        text-align: right;\n",
       "    }\n",
       "</style>\n",
       "<table border=\"1\" class=\"dataframe\">\n",
       "  <thead>\n",
       "    <tr style=\"text-align: right;\">\n",
       "      <th></th>\n",
       "      <th>Filename</th>\n",
       "      <th>Text</th>\n",
       "      <th>Artist</th>\n",
       "      <th>Tokens</th>\n",
       "      <th>Cleaned_Tokens</th>\n",
       "      <th>sentiment_score</th>\n",
       "    </tr>\n",
       "  </thead>\n",
       "  <tbody>\n",
       "    <tr>\n",
       "      <th>171</th>\n",
       "      <td>cher_classified1a.txt</td>\n",
       "      <td>\"I Walk On Guilded Splinters\" Some people think they jive me, but I know they must be crazy They can't see their misfortune, or else they're just too lazy Je suie le grand zombie With my yellow chaffen of choisen Ain't afraid of no tomcat and gonna fill my guts with poison I walk through the fire And I'll fly through the smoke I wanna see my enemies On the end of my rope Walk on pins and needles And I see what they can do Walk on guilded splinters With the King of the Zulu Come to me, get it, come, come Walk on guilded splinters Come to me, get it, come, come Walk on guilded splinters Till I burn up Till I burn up Till I burn up Till I burn up When I roll out in my coffin Drink poison in my chalice Pride begins to fade And you all feel my malice I put gris-gris on your doorstep So soon you be in the gutter I'll make your heart melt like butter I say I can make you stutter Come to me, get it, come, come Walk on guilded splinters Come to me, get it, come, come Walk on guilded splinters Till I burn up Till I burn up Till I burn up Till I burn up Come to me, get it, come, come Walk on guilded splinters Come to me, get it, come, come Walk on guilded splinters Till I burn up Till I burn up Till I burn up Till I burn up Come to me, get it, come, come Walk on guilded splinters Come to me, get it, come, come Walk on guilded splinters Till I burn up Till I burn up Till I burn up Till I burn up</td>\n",
       "      <td>cher</td>\n",
       "      <td>[\"i, walk, on, guilded, splinters\", some, people, think, they, jive, me,, but, i, know, they, must, be, crazy, they, can't, see, their, misfortune,, or, else, they're, just, too, lazy, je, suie, le, grand, zombie, with, my, yellow, chaffen, of, choisen, ain't, afraid, of, no, tomcat, and, gonna, fill, my, guts, with, poison, i, walk, through, the, fire, and, i'll, fly, through, the, smoke, i, wanna, see, my, enemies, on, the, end, of, my, rope, walk, on, pins, and, needles, and, i, see, what, they, can, do, walk, on, guilded, splinters, with, the, king, of, the, zulu, come, to, me,, get, ...]</td>\n",
       "      <td>[\"i, walk, guilded, splinters\", people, think, jive, me,, know, must, crazy, can't, see, misfortune,, else, they're, lazy, je, suie, le, grand, zombie, yellow, chaffen, choisen, ain't, afraid, tomcat, gonna, fill, guts, poison, walk, fire, i'll, fly, smoke, wanna, see, enemies, end, rope, walk, pins, needles, see, walk, guilded, splinters, king, zulu, come, me,, get, it,, come,, come, walk, guilded, splinters, come, me,, get, it,, come,, come, walk, guilded, splinters, till, burn, till, burn, till, burn, till, burn, roll, coffin, drink, poison, chalice, pride, begins, fade, feel, malice, put, gris-gris, doorstep, soon, gutter, i'll, make, heart, melt, like, butter, say, make, ...]</td>\n",
       "      <td>-24.0</td>\n",
       "    </tr>\n",
       "    <tr>\n",
       "      <th>158</th>\n",
       "      <td>cher_classified1a.txt</td>\n",
       "      <td>\"Outrageous\" Outrageous, outrageous (They say) I'm outrageous It's the rage I'm gonna wear what I will and spend some And I will be dress to kill don'tcha know And when the lights come up I'm ready I'm ready To put on a show with class And if I clash it's cause I want to What a show and I want everyone to know They're gonna fly up, get an eyeful Everything that's craved from me I'm gonna be, I'm gonna be outrageous Outrageous (They say) I'm outrageous It's the rage it's the rage With my long black hair hanging way down to my Ask me no questions and I'll tell you no lies Don't tell me what to do don't tell me what to be See I don't trust anybody else's traits about make-up and me Well in my show I let everything go Is what you want is whatcha wanna see from me But when the curtain comes down And you're on your way back home I change into my jeans that are split at the seam I grab my funky black jacket and make quite a racket You drive like you're an outlaw Cause everything that's craved from me I'm gonna be, I'm gonna be outrageous So outrageous I'm outrageous honey yes a rage It's the rage Outrageous, outrageous I'm outrageous It's the rage it's a rage Outrageous, outrageous They say I'm outrageous</td>\n",
       "      <td>cher</td>\n",
       "      <td>[\"outrageous\", outrageous,, outrageous, (they, say), i'm, outrageous, it's, the, rage, i'm, gonna, wear, what, i, will, and, spend, some, and, i, will, be, dress, to, kill, don'tcha, know, and, when, the, lights, come, up, i'm, ready, i'm, ready, to, put, on, a, show, with, class, and, if, i, clash, it's, cause, i, want, to, what, a, show, and, i, want, everyone, to, know, they're, gonna, fly, up,, get, an, eyeful, everything, that's, craved, from, me, i'm, gonna, be,, i'm, gonna, be, outrageous, outrageous, (they, say), i'm, outrageous, it's, the, rage, it's, the, rage, with, my, long, black, hair, hanging, way, ...]</td>\n",
       "      <td>[\"outrageous\", outrageous,, outrageous, (they, say), i'm, outrageous, rage, i'm, gonna, wear, spend, dress, kill, don'tcha, know, lights, come, i'm, ready, i'm, ready, put, show, class, clash, cause, want, show, want, everyone, know, they're, gonna, fly, up,, get, eyeful, everything, that's, craved, i'm, gonna, be,, i'm, gonna, outrageous, outrageous, (they, say), i'm, outrageous, rage, rage, long, black, hair, hanging, way, ask, questions, i'll, tell, lies, tell, tell, see, trust, anybody, else's, traits, make-up, well, show, let, everything, go, want, whatcha, wanna, see, curtain, comes, way, back, home, change, jeans, split, seam, grab, funky, black, jacket, make, quite, racket, drive, like, outlaw, ...]</td>\n",
       "      <td>-20.0</td>\n",
       "    </tr>\n",
       "    <tr>\n",
       "      <th>263</th>\n",
       "      <td>cher_classified1a.txt</td>\n",
       "      <td>\"Dressed To Kill\" I slip into my shoes and slide into the night I'm on the loose you're in my sights You know it's gonna hurt you but it's just no use You fall in love they always do And I'm waiting for the next one to fall I'm dressed to kill and you know that I will We're dancing in the dark with my hands around your heart Oh, heads will roll and blood will spill But how can you resist when baby I am dressed to kill I know your love is strong but it's all it in vain Beware the skies the lipstick stains And he can't even see that he's just another one It's far too late he's too far gone And I'm waiting for the next one to fall I'm dressed to kill and you know that I will We're dancing in the dark with my hands around your heart Oh, heads will roll and blood will spill But how can you resist when baby I am dressed to kill How can you resist when baby I am dressed to kill You know I'm the only one I can make you come undone And you'll be part of me From now until eternity I'm dressed to kill and you know that I will We're dancing in the dark with my hands around your heart Oh, heads will roll and blood will spill But how can you resist when baby I am dressed to kill</td>\n",
       "      <td>cher</td>\n",
       "      <td>[\"dressed, to, kill\", i, slip, into, my, shoes, and, slide, into, the, night, i'm, on, the, loose, you're, in, my, sights, you, know, it's, gonna, hurt, you, but, it's, just, no, use, you, fall, in, love, they, always, do, and, i'm, waiting, for, the, next, one, to, fall, i'm, dressed, to, kill, and, you, know, that, i, will, we're, dancing, in, the, dark, with, my, hands, around, your, heart, oh,, heads, will, roll, and, blood, will, spill, but, how, can, you, resist, when, baby, i, am, dressed, to, kill, i, know, your, love, is, strong, but, it's, all, it, in, ...]</td>\n",
       "      <td>[\"dressed, kill\", slip, shoes, slide, night, i'm, loose, sights, know, gonna, hurt, use, fall, love, always, i'm, waiting, next, one, fall, i'm, dressed, kill, know, we're, dancing, dark, hands, around, heart, oh,, heads, roll, blood, spill, resist, baby, dressed, kill, know, love, strong, vain, beware, skies, lipstick, stains, can't, even, see, he's, another, one, far, late, he's, far, gone, i'm, waiting, next, one, fall, i'm, dressed, kill, know, we're, dancing, dark, hands, around, heart, oh,, heads, roll, blood, spill, resist, baby, dressed, kill, resist, baby, dressed, kill, know, i'm, one, make, come, undone, part, eternity, i'm, dressed, kill, know, we're, ...]</td>\n",
       "      <td>-16.0</td>\n",
       "    </tr>\n",
       "  </tbody>\n",
       "</table>\n",
       "</div>"
      ],
      "text/plain": [
       "                  Filename  \\\n",
       "171  cher_classified1a.txt   \n",
       "158  cher_classified1a.txt   \n",
       "263  cher_classified1a.txt   \n",
       "\n",
       "                                                                                                                                                                                                                                                                                                                                                                                                                                                                                                                                                                                                                                                                                                                                                                                                                                                                                                                                                                                                                                                                                                                                                                                                                                                                                                                                                                                                                                                               Text  \\\n",
       "171  \"I Walk On Guilded Splinters\" Some people think they jive me, but I know they must be crazy They can't see their misfortune, or else they're just too lazy Je suie le grand zombie With my yellow chaffen of choisen Ain't afraid of no tomcat and gonna fill my guts with poison I walk through the fire And I'll fly through the smoke I wanna see my enemies On the end of my rope Walk on pins and needles And I see what they can do Walk on guilded splinters With the King of the Zulu Come to me, get it, come, come Walk on guilded splinters Come to me, get it, come, come Walk on guilded splinters Till I burn up Till I burn up Till I burn up Till I burn up When I roll out in my coffin Drink poison in my chalice Pride begins to fade And you all feel my malice I put gris-gris on your doorstep So soon you be in the gutter I'll make your heart melt like butter I say I can make you stutter Come to me, get it, come, come Walk on guilded splinters Come to me, get it, come, come Walk on guilded splinters Till I burn up Till I burn up Till I burn up Till I burn up Come to me, get it, come, come Walk on guilded splinters Come to me, get it, come, come Walk on guilded splinters Till I burn up Till I burn up Till I burn up Till I burn up Come to me, get it, come, come Walk on guilded splinters Come to me, get it, come, come Walk on guilded splinters Till I burn up Till I burn up Till I burn up Till I burn up   \n",
       "158                                                                                                                                                                                               \"Outrageous\" Outrageous, outrageous (They say) I'm outrageous It's the rage I'm gonna wear what I will and spend some And I will be dress to kill don'tcha know And when the lights come up I'm ready I'm ready To put on a show with class And if I clash it's cause I want to What a show and I want everyone to know They're gonna fly up, get an eyeful Everything that's craved from me I'm gonna be, I'm gonna be outrageous Outrageous (They say) I'm outrageous It's the rage it's the rage With my long black hair hanging way down to my Ask me no questions and I'll tell you no lies Don't tell me what to do don't tell me what to be See I don't trust anybody else's traits about make-up and me Well in my show I let everything go Is what you want is whatcha wanna see from me But when the curtain comes down And you're on your way back home I change into my jeans that are split at the seam I grab my funky black jacket and make quite a racket You drive like you're an outlaw Cause everything that's craved from me I'm gonna be, I'm gonna be outrageous So outrageous I'm outrageous honey yes a rage It's the rage Outrageous, outrageous I'm outrageous It's the rage it's a rage Outrageous, outrageous They say I'm outrageous   \n",
       "263                                                                                                                                                                                                                                 \"Dressed To Kill\" I slip into my shoes and slide into the night I'm on the loose you're in my sights You know it's gonna hurt you but it's just no use You fall in love they always do And I'm waiting for the next one to fall I'm dressed to kill and you know that I will We're dancing in the dark with my hands around your heart Oh, heads will roll and blood will spill But how can you resist when baby I am dressed to kill I know your love is strong but it's all it in vain Beware the skies the lipstick stains And he can't even see that he's just another one It's far too late he's too far gone And I'm waiting for the next one to fall I'm dressed to kill and you know that I will We're dancing in the dark with my hands around your heart Oh, heads will roll and blood will spill But how can you resist when baby I am dressed to kill How can you resist when baby I am dressed to kill You know I'm the only one I can make you come undone And you'll be part of me From now until eternity I'm dressed to kill and you know that I will We're dancing in the dark with my hands around your heart Oh, heads will roll and blood will spill But how can you resist when baby I am dressed to kill   \n",
       "\n",
       "    Artist  \\\n",
       "171   cher   \n",
       "158   cher   \n",
       "263   cher   \n",
       "\n",
       "                                                                                                                                                                                                                                                                                                                                                                                                                                                                                                                                                                                                                                                Tokens  \\\n",
       "171                            [\"i, walk, on, guilded, splinters\", some, people, think, they, jive, me,, but, i, know, they, must, be, crazy, they, can't, see, their, misfortune,, or, else, they're, just, too, lazy, je, suie, le, grand, zombie, with, my, yellow, chaffen, of, choisen, ain't, afraid, of, no, tomcat, and, gonna, fill, my, guts, with, poison, i, walk, through, the, fire, and, i'll, fly, through, the, smoke, i, wanna, see, my, enemies, on, the, end, of, my, rope, walk, on, pins, and, needles, and, i, see, what, they, can, do, walk, on, guilded, splinters, with, the, king, of, the, zulu, come, to, me,, get, ...]   \n",
       "158  [\"outrageous\", outrageous,, outrageous, (they, say), i'm, outrageous, it's, the, rage, i'm, gonna, wear, what, i, will, and, spend, some, and, i, will, be, dress, to, kill, don'tcha, know, and, when, the, lights, come, up, i'm, ready, i'm, ready, to, put, on, a, show, with, class, and, if, i, clash, it's, cause, i, want, to, what, a, show, and, i, want, everyone, to, know, they're, gonna, fly, up,, get, an, eyeful, everything, that's, craved, from, me, i'm, gonna, be,, i'm, gonna, be, outrageous, outrageous, (they, say), i'm, outrageous, it's, the, rage, it's, the, rage, with, my, long, black, hair, hanging, way, ...]   \n",
       "263                                                      [\"dressed, to, kill\", i, slip, into, my, shoes, and, slide, into, the, night, i'm, on, the, loose, you're, in, my, sights, you, know, it's, gonna, hurt, you, but, it's, just, no, use, you, fall, in, love, they, always, do, and, i'm, waiting, for, the, next, one, to, fall, i'm, dressed, to, kill, and, you, know, that, i, will, we're, dancing, in, the, dark, with, my, hands, around, your, heart, oh,, heads, will, roll, and, blood, will, spill, but, how, can, you, resist, when, baby, i, am, dressed, to, kill, i, know, your, love, is, strong, but, it's, all, it, in, ...]   \n",
       "\n",
       "                                                                                                                                                                                                                                                                                                                                                                                                                                                                                                                                                                                                                                                                                                                                   Cleaned_Tokens  \\\n",
       "171                             [\"i, walk, guilded, splinters\", people, think, jive, me,, know, must, crazy, can't, see, misfortune,, else, they're, lazy, je, suie, le, grand, zombie, yellow, chaffen, choisen, ain't, afraid, tomcat, gonna, fill, guts, poison, walk, fire, i'll, fly, smoke, wanna, see, enemies, end, rope, walk, pins, needles, see, walk, guilded, splinters, king, zulu, come, me,, get, it,, come,, come, walk, guilded, splinters, come, me,, get, it,, come,, come, walk, guilded, splinters, till, burn, till, burn, till, burn, till, burn, roll, coffin, drink, poison, chalice, pride, begins, fade, feel, malice, put, gris-gris, doorstep, soon, gutter, i'll, make, heart, melt, like, butter, say, make, ...]   \n",
       "158  [\"outrageous\", outrageous,, outrageous, (they, say), i'm, outrageous, rage, i'm, gonna, wear, spend, dress, kill, don'tcha, know, lights, come, i'm, ready, i'm, ready, put, show, class, clash, cause, want, show, want, everyone, know, they're, gonna, fly, up,, get, eyeful, everything, that's, craved, i'm, gonna, be,, i'm, gonna, outrageous, outrageous, (they, say), i'm, outrageous, rage, rage, long, black, hair, hanging, way, ask, questions, i'll, tell, lies, tell, tell, see, trust, anybody, else's, traits, make-up, well, show, let, everything, go, want, whatcha, wanna, see, curtain, comes, way, back, home, change, jeans, split, seam, grab, funky, black, jacket, make, quite, racket, drive, like, outlaw, ...]   \n",
       "263                                          [\"dressed, kill\", slip, shoes, slide, night, i'm, loose, sights, know, gonna, hurt, use, fall, love, always, i'm, waiting, next, one, fall, i'm, dressed, kill, know, we're, dancing, dark, hands, around, heart, oh,, heads, roll, blood, spill, resist, baby, dressed, kill, know, love, strong, vain, beware, skies, lipstick, stains, can't, even, see, he's, another, one, far, late, he's, far, gone, i'm, waiting, next, one, fall, i'm, dressed, kill, know, we're, dancing, dark, hands, around, heart, oh,, heads, roll, blood, spill, resist, baby, dressed, kill, resist, baby, dressed, kill, know, i'm, one, make, come, undone, part, eternity, i'm, dressed, kill, know, we're, ...]   \n",
       "\n",
       "     sentiment_score  \n",
       "171            -24.0  \n",
       "158            -20.0  \n",
       "263            -16.0  "
      ]
     },
     "execution_count": 43,
     "metadata": {},
     "output_type": "execute_result"
    }
   ],
   "source": [
    "cher_songs_lowest.head()"
   ]
  },
  {
   "cell_type": "code",
   "execution_count": 44,
   "id": "a8e6c2eb",
   "metadata": {},
   "outputs": [],
   "source": [
    "# do the same for robyns songs\n",
    "robyn_songs_highest = robyn_songs.nlargest(3, 'sentiment_score')\n",
    "robyn_songs_lowest = robyn_songs.nsmallest(3, 'sentiment_score')"
   ]
  },
  {
   "cell_type": "code",
   "execution_count": 45,
   "id": "c96abdee",
   "metadata": {},
   "outputs": [
    {
     "data": {
      "text/html": [
       "<div>\n",
       "<style scoped>\n",
       "    .dataframe tbody tr th:only-of-type {\n",
       "        vertical-align: middle;\n",
       "    }\n",
       "\n",
       "    .dataframe tbody tr th {\n",
       "        vertical-align: top;\n",
       "    }\n",
       "\n",
       "    .dataframe thead th {\n",
       "        text-align: right;\n",
       "    }\n",
       "</style>\n",
       "<table border=\"1\" class=\"dataframe\">\n",
       "  <thead>\n",
       "    <tr style=\"text-align: right;\">\n",
       "      <th></th>\n",
       "      <th>Filename</th>\n",
       "      <th>Text</th>\n",
       "      <th>Artist</th>\n",
       "      <th>Tokens</th>\n",
       "      <th>Cleaned_Tokens</th>\n",
       "      <th>sentiment_score</th>\n",
       "    </tr>\n",
       "  </thead>\n",
       "  <tbody>\n",
       "    <tr>\n",
       "      <th>337</th>\n",
       "      <td>robyn_play.txt</td>\n",
       "      <td>\"Love Is Free\" Free Love is free, baby Free Love is free, baby Boom boom boom boom boom chica boom Let me give it to you, baby Chica boom chica boom chica boom Chica boom chica boom chica boom Free Love is free, baby Free Love is free, baby Boom boom boom boom boom chica boom Let me give it to you, baby I'ma give it to you, baby I'ma give it when I'm ready Some lose, some steady Some light, some heavy It's all over this city Sometimes in the ugly, sometimes in the pretty You never know where you get it cause you can't control it and you can't unfold it, slow down I'ma give it to you, baby I'ma give it when I'm ready Some lose, some steady Some light, some heavy It's all over this city Sometimes in the ugly, sometimes in the pretty You never know where you get it cause you can't control it and you can't unfold it, slow down Free Love is free, baby Free Love is free, baby Boom boom boom boom boom chica boom Let me give it to you, baby Yeah! Yeah! Yeah! Yeah! Love is free, baby Love is free, baby I'ma give it to you, baby I'ma give it like a motha Safe like a rubber Mutter like a stutter It's all over this city Sometimes in the nitty, sometimes in the gritty You know I'ma give it to you better I'ma give you love forever No, you can't control it, slow down I'ma give it to you, baby I'ma give it like a motha Safe like a rubber Mutter like a stutter It's all over this city Sometimes in the nitty, sometimes in the gritty You know I'ma give it to you better I'ma give you love forever No, you can't control it, slow down Free Love is free, baby Free Love is free, baby Boom boom boom boom boom chica boom Let me give it to you, baby Boom boom boom boom boom Chica boom chica boom chica boom Boom boom boom boom boom Chica boom chica boom chica boom Free Love is free, baby Free Love is free, baby AprÃ©ndelo, aprÃ©ndelo Te lo digo right now, sÃ³lo entiÃ©ndelo AprÃ©ndelo, aprÃ©ndelo Te lo digo right now, sÃ³lo entiÃ©ndelo Slow down AprÃ©ndelo, aprÃ©ndelo Te lo digo right now, sÃ³lo entiÃ©ndelo AprÃ©ndelo, aprÃ©ndelo Te lo digo right now, sÃ³lo entiÃ©ndelo Slow down I'ma give it to you, baby I'ma give it when I'm ready Some lose, some steady Some light, some heavy It's all over this city Sometimes in the ugly, sometimes in the pretty You never know where you get it cause you can't control it and you can't unfold it, slow down Slow down [x6] Free Love is free, baby Love is free, baby So free [x4] You know Love is free So free Free â Love is free, baby [x8] So free</td>\n",
       "      <td>robyn</td>\n",
       "      <td>[\"love, is, free\", free, love, is, free,, baby, free, love, is, free,, baby, boom, boom, boom, boom, boom, chica, boom, let, me, give, it, to, you,, baby, chica, boom, chica, boom, chica, boom, chica, boom, chica, boom, chica, boom, free, love, is, free,, baby, free, love, is, free,, baby, boom, boom, boom, boom, boom, chica, boom, let, me, give, it, to, you,, baby, i'ma, give, it, to, you,, baby, i'ma, give, it, when, i'm, ready, some, lose,, some, steady, some, light,, some, heavy, it's, all, over, this, city, sometimes, in, the, ugly,, sometimes, in, the, pretty, you, never, know, where, ...]</td>\n",
       "      <td>[\"love, free\", free, love, free,, baby, free, love, free,, baby, boom, boom, boom, boom, boom, chica, boom, let, give, you,, baby, chica, boom, chica, boom, chica, boom, chica, boom, chica, boom, chica, boom, free, love, free,, baby, free, love, free,, baby, boom, boom, boom, boom, boom, chica, boom, let, give, you,, baby, i'ma, give, you,, baby, i'ma, give, i'm, ready, lose,, steady, light,, heavy, city, sometimes, ugly,, sometimes, pretty, never, know, get, cause, can't, control, can't, unfold, it,, slow, i'ma, give, you,, baby, i'ma, give, i'm, ready, lose,, steady, light,, heavy, city, sometimes, ugly,, sometimes, pretty, never, know, get, cause, ...]</td>\n",
       "      <td>91.0</td>\n",
       "    </tr>\n",
       "    <tr>\n",
       "      <th>389</th>\n",
       "      <td>robyn_play.txt</td>\n",
       "      <td>\"Indestructible\" I'm going backwards through time at the speed of light I'm yours, you're mine Two satellites Not alone No, we're not alone A freeze-frame of your eye in the strobe light Sweat dripping down from your brow Hold tight Don't let go Don't you let me go And I never was smart with love I let the bad ones in and the good ones go But I'm gonna love you like I've never been hurt before I'm gonna love you like I'm indestructible Your love is ultramagnetic And it's taking over This is hardcore And I'm indestructible Hands up in the air like we don't care We're shooting deep into space And the lasers split the dark Cut right through the dark It's just us. We ignore the crowd dancing Fall to the floor Beats in my heart Put your hands on my heart And I never was smart with love I let the bad ones in and the good ones go But I'm gonna love you like I've never been hurt before I'm gonna love you like I'm indestructible Your love is ultramagnetic And it's taking over This is hardcore Ooh and I'm gonna love you like I'm gonna love you like I've never been hurt before I'm gonna love you like I'm indestructible Your love is ultramagnetic And it's taking over This is hardcore And I'm indestructible And I never was smart with love I let the bad ones in and the good ones go But I'm gonna love you like I've never been hurt before I'm gonna love you like I'm indestructible Your love is ultramagnetic And it's taking over This is hardcore Ooh and I'm gonna love you like I'm gonna love you like I've never been hurt before I'm gonna love you like I'm indestructible Your love is ultramagnetic And it's taking over This is hardcore And I'm indestructible</td>\n",
       "      <td>robyn</td>\n",
       "      <td>[\"indestructible\", i'm, going, backwards, through, time, at, the, speed, of, light, i'm, yours,, you're, mine, two, satellites, not, alone, no,, we're, not, alone, a, freeze-frame, of, your, eye, in, the, strobe, light, sweat, dripping, down, from, your, brow, hold, tight, don't, let, go, don't, you, let, me, go, and, i, never, was, smart, with, love, i, let, the, bad, ones, in, and, the, good, ones, go, but, i'm, gonna, love, you, like, i've, never, been, hurt, before, i'm, gonna, love, you, like, i'm, indestructible, your, love, is, ultramagnetic, and, it's, taking, over, this, is, hardcore, and, i'm, indestructible, hands, up, ...]</td>\n",
       "      <td>[\"indestructible\", i'm, going, backwards, time, speed, light, i'm, yours,, mine, two, satellites, alone, no,, we're, alone, freeze-frame, eye, strobe, light, sweat, dripping, brow, hold, tight, let, go, let, go, never, smart, love, let, bad, ones, good, ones, go, i'm, gonna, love, like, i've, never, hurt, i'm, gonna, love, like, i'm, indestructible, love, ultramagnetic, taking, hardcore, i'm, indestructible, hands, air, like, care, we're, shooting, deep, space, lasers, split, dark, cut, right, dark, us., ignore, crowd, dancing, fall, floor, beats, heart, put, hands, heart, never, smart, love, let, bad, ones, good, ones, go, i'm, gonna, love, like, i've, never, hurt, i'm, gonna, ...]</td>\n",
       "      <td>26.0</td>\n",
       "    </tr>\n",
       "    <tr>\n",
       "      <th>381</th>\n",
       "      <td>robyn_play.txt</td>\n",
       "      <td>\"U Should Know Better\" I've gone around the world and the seven seas I'm cashin' six-figure checks in all currencies It's like when I be tearin' it up in Paris Motherfuckers parler on the m-i-c It's all \"ooh la la\" and \"ahh oui oui\" Sippin' vin blanc in our lingerie Choppin' heads off with madame guillotine Even the French know better than to fuck with me Comment allez-vous Robyn, what it do I'm in the UK (why?) got a show to do (uh-huh) It's big Snoopy Dogg, check the catalog I'm overseas gettin' cheese with this dialogue I missed my plane to Spain so I'm stuck in Colonna I'm sippin' Saronno with this chick named Ramona She wants me to take a flick on her phone-ah Then take her to my hotel room and then bone her You know when in Rome I sat down with the Romans Said \"We need a black pope and she better be a woman\" There'll be no more celibacy Even the Vatican knows not to fuck with me You should know better Y-You should know better You should know better than to fuck with me If you knew better you would do better You should know better Y-You should know better You should know better than to fuck with me If you knew better you would do better We big-ballin' in Holland, Amsterdam my man I got a table at the coffee shop Where we like to spark a lot Hangin' in the parking lot blowin' a bleezy Easy fo sheezy deezy I crashed a party with the Czar Threw a molotov cocktail in the bar And you know my style's revolutionary Even the Russians know better than to fuck with me You try to ban me, you can't stand me Cuz I'm an outlaw Black president livin' in the White House Mr. B he wrote a letter to me The FBI know better than to fuck with me Yo, I was there at Watergate You know I rigged my gear got the fuckers on tape They put the mic in the hand of the wrong MC Even the CIA knows not to fuck with me You should know better Y-You should know better You should know better than to fuck with me If you knew better you would do better You should know better Y-You should know better You should know better than to fuck with me If you knew better you would do better Tell 'em Snoop, tell 'em like it is I been there, in there, out there like that Right back to the hood, a hundred Euro stacks Shoot motherfuckers just on GP LAPD know better than to fuck with me I danced with the devil in Kathmandu I came hummin' and blastin' with the boogaloo too Now I declare most solemnly The prince of darkness know better than to fuck with me You know not what you know Tell 'em what I'm in it for Then I run up in it slow Really though, silly ho Yea spend a minute though I blow an ounce and make you bounce Just like a sixty-four Now you know me I'm a woman of peace I don't never take nothin' don't belong to me I throw down and say \"Whatever's gonna be, gonna be\" The whole industry knows not to fuck with me You should know better Y-You should know better You should know better than to fuck with me If you knew better you would do better You should know better Y-You should know better You should know better than to fuck with me If you knew better you would do better You should know better Y-You should know better You should know better than to fuck with me If you knew better you would do better</td>\n",
       "      <td>robyn</td>\n",
       "      <td>[\"u, should, know, better\", i've, gone, around, the, world, and, the, seven, seas, i'm, cashin', six-figure, checks, in, all, currencies, it's, like, when, i, be, tearin', it, up, in, paris, motherfuckers, parler, on, the, m-i-c, it's, all, \"ooh, la, la\", and, \"ahh, oui, oui\", sippin', vin, blanc, in, our, lingerie, choppin', heads, off, with, madame, guillotine, even, the, french, know, better, than, to, fuck, with, me, comment, allez-vous, robyn,, what, it, do, i'm, in, the, uk, (why?), got, a, show, to, do, (uh-huh), it's, big, snoopy, dogg,, check, the, catalog, i'm, overseas, gettin', cheese, with, this, dialogue, i, missed, my, ...]</td>\n",
       "      <td>[\"u, know, better\", i've, gone, around, world, seven, seas, i'm, cashin', six-figure, checks, currencies, like, tearin', paris, motherfuckers, parler, m-i-c, \"ooh, la, la\", \"ahh, oui, oui\", sippin', vin, blanc, lingerie, choppin', heads, madame, guillotine, even, french, know, better, fuck, comment, allez-vous, robyn,, i'm, uk, (why?), got, show, (uh-huh), big, snoopy, dogg,, check, catalog, i'm, overseas, gettin', cheese, dialogue, missed, plane, spain, i'm, stuck, colonna, i'm, sippin', saronno, chick, named, ramona, wants, take, flick, phone-ah, take, hotel, room, bone, know, rome, sat, romans, said, \"we, need, black, pope, better, woman\", there'll, celibacy, even, vatican, knows, fuck, know, better, y-you, know, better, ...]</td>\n",
       "      <td>25.0</td>\n",
       "    </tr>\n",
       "  </tbody>\n",
       "</table>\n",
       "</div>"
      ],
      "text/plain": [
       "           Filename  \\\n",
       "337  robyn_play.txt   \n",
       "389  robyn_play.txt   \n",
       "381  robyn_play.txt   \n",
       "\n",
       "                                                                                                                                                                                                                                                                                                                                                                                                                                                                                                                                                                                                                                                                                                                                                                                                                                                                                                                                                                                                                                                                                                                                                                                                                                                                                                                                                                                                                                                                                                                                                                                                                                                                                                                                                                                                                                                                                                                                                                                                                                                                                                                                                                                                                                                                                                                                                                                                                                                                                                                                                                                                                                                                                                                                                                                                                                                                                                                                                                                                                                                                                                                                                                                                                                                                                                                                           Text  \\\n",
       "337                                                                                                                                                                                                                                                                                                                                                                                                                                                                                                                                                                                                                                                                                                                                                 \"Love Is Free\" Free Love is free, baby Free Love is free, baby Boom boom boom boom boom chica boom Let me give it to you, baby Chica boom chica boom chica boom Chica boom chica boom chica boom Free Love is free, baby Free Love is free, baby Boom boom boom boom boom chica boom Let me give it to you, baby I'ma give it to you, baby I'ma give it when I'm ready Some lose, some steady Some light, some heavy It's all over this city Sometimes in the ugly, sometimes in the pretty You never know where you get it cause you can't control it and you can't unfold it, slow down I'ma give it to you, baby I'ma give it when I'm ready Some lose, some steady Some light, some heavy It's all over this city Sometimes in the ugly, sometimes in the pretty You never know where you get it cause you can't control it and you can't unfold it, slow down Free Love is free, baby Free Love is free, baby Boom boom boom boom boom chica boom Let me give it to you, baby Yeah! Yeah! Yeah! Yeah! Love is free, baby Love is free, baby I'ma give it to you, baby I'ma give it like a motha Safe like a rubber Mutter like a stutter It's all over this city Sometimes in the nitty, sometimes in the gritty You know I'ma give it to you better I'ma give you love forever No, you can't control it, slow down I'ma give it to you, baby I'ma give it like a motha Safe like a rubber Mutter like a stutter It's all over this city Sometimes in the nitty, sometimes in the gritty You know I'ma give it to you better I'ma give you love forever No, you can't control it, slow down Free Love is free, baby Free Love is free, baby Boom boom boom boom boom chica boom Let me give it to you, baby Boom boom boom boom boom Chica boom chica boom chica boom Boom boom boom boom boom Chica boom chica boom chica boom Free Love is free, baby Free Love is free, baby AprÃ©ndelo, aprÃ©ndelo Te lo digo right now, sÃ³lo entiÃ©ndelo AprÃ©ndelo, aprÃ©ndelo Te lo digo right now, sÃ³lo entiÃ©ndelo Slow down AprÃ©ndelo, aprÃ©ndelo Te lo digo right now, sÃ³lo entiÃ©ndelo AprÃ©ndelo, aprÃ©ndelo Te lo digo right now, sÃ³lo entiÃ©ndelo Slow down I'ma give it to you, baby I'ma give it when I'm ready Some lose, some steady Some light, some heavy It's all over this city Sometimes in the ugly, sometimes in the pretty You never know where you get it cause you can't control it and you can't unfold it, slow down Slow down [x6] Free Love is free, baby Love is free, baby So free [x4] You know Love is free So free Free â Love is free, baby [x8] So free   \n",
       "389                                                                                                                                                                                                                                                                                                                                                                                                                                                                                                                                                                                                                                                                                                                                                                                                                                                                                                                                                                                                                                                                                                                                                                                                                                                                                                                                                                                                                                                                                                                                                                                                         \"Indestructible\" I'm going backwards through time at the speed of light I'm yours, you're mine Two satellites Not alone No, we're not alone A freeze-frame of your eye in the strobe light Sweat dripping down from your brow Hold tight Don't let go Don't you let me go And I never was smart with love I let the bad ones in and the good ones go But I'm gonna love you like I've never been hurt before I'm gonna love you like I'm indestructible Your love is ultramagnetic And it's taking over This is hardcore And I'm indestructible Hands up in the air like we don't care We're shooting deep into space And the lasers split the dark Cut right through the dark It's just us. We ignore the crowd dancing Fall to the floor Beats in my heart Put your hands on my heart And I never was smart with love I let the bad ones in and the good ones go But I'm gonna love you like I've never been hurt before I'm gonna love you like I'm indestructible Your love is ultramagnetic And it's taking over This is hardcore Ooh and I'm gonna love you like I'm gonna love you like I've never been hurt before I'm gonna love you like I'm indestructible Your love is ultramagnetic And it's taking over This is hardcore And I'm indestructible And I never was smart with love I let the bad ones in and the good ones go But I'm gonna love you like I've never been hurt before I'm gonna love you like I'm indestructible Your love is ultramagnetic And it's taking over This is hardcore Ooh and I'm gonna love you like I'm gonna love you like I've never been hurt before I'm gonna love you like I'm indestructible Your love is ultramagnetic And it's taking over This is hardcore And I'm indestructible   \n",
       "381  \"U Should Know Better\" I've gone around the world and the seven seas I'm cashin' six-figure checks in all currencies It's like when I be tearin' it up in Paris Motherfuckers parler on the m-i-c It's all \"ooh la la\" and \"ahh oui oui\" Sippin' vin blanc in our lingerie Choppin' heads off with madame guillotine Even the French know better than to fuck with me Comment allez-vous Robyn, what it do I'm in the UK (why?) got a show to do (uh-huh) It's big Snoopy Dogg, check the catalog I'm overseas gettin' cheese with this dialogue I missed my plane to Spain so I'm stuck in Colonna I'm sippin' Saronno with this chick named Ramona She wants me to take a flick on her phone-ah Then take her to my hotel room and then bone her You know when in Rome I sat down with the Romans Said \"We need a black pope and she better be a woman\" There'll be no more celibacy Even the Vatican knows not to fuck with me You should know better Y-You should know better You should know better than to fuck with me If you knew better you would do better You should know better Y-You should know better You should know better than to fuck with me If you knew better you would do better We big-ballin' in Holland, Amsterdam my man I got a table at the coffee shop Where we like to spark a lot Hangin' in the parking lot blowin' a bleezy Easy fo sheezy deezy I crashed a party with the Czar Threw a molotov cocktail in the bar And you know my style's revolutionary Even the Russians know better than to fuck with me You try to ban me, you can't stand me Cuz I'm an outlaw Black president livin' in the White House Mr. B he wrote a letter to me The FBI know better than to fuck with me Yo, I was there at Watergate You know I rigged my gear got the fuckers on tape They put the mic in the hand of the wrong MC Even the CIA knows not to fuck with me You should know better Y-You should know better You should know better than to fuck with me If you knew better you would do better You should know better Y-You should know better You should know better than to fuck with me If you knew better you would do better Tell 'em Snoop, tell 'em like it is I been there, in there, out there like that Right back to the hood, a hundred Euro stacks Shoot motherfuckers just on GP LAPD know better than to fuck with me I danced with the devil in Kathmandu I came hummin' and blastin' with the boogaloo too Now I declare most solemnly The prince of darkness know better than to fuck with me You know not what you know Tell 'em what I'm in it for Then I run up in it slow Really though, silly ho Yea spend a minute though I blow an ounce and make you bounce Just like a sixty-four Now you know me I'm a woman of peace I don't never take nothin' don't belong to me I throw down and say \"Whatever's gonna be, gonna be\" The whole industry knows not to fuck with me You should know better Y-You should know better You should know better than to fuck with me If you knew better you would do better You should know better Y-You should know better You should know better than to fuck with me If you knew better you would do better You should know better Y-You should know better You should know better than to fuck with me If you knew better you would do better   \n",
       "\n",
       "    Artist  \\\n",
       "337  robyn   \n",
       "389  robyn   \n",
       "381  robyn   \n",
       "\n",
       "                                                                                                                                                                                                                                                                                                                                                                                                                                                                                                                                                                                                                                                                     Tokens  \\\n",
       "337                                              [\"love, is, free\", free, love, is, free,, baby, free, love, is, free,, baby, boom, boom, boom, boom, boom, chica, boom, let, me, give, it, to, you,, baby, chica, boom, chica, boom, chica, boom, chica, boom, chica, boom, chica, boom, free, love, is, free,, baby, free, love, is, free,, baby, boom, boom, boom, boom, boom, chica, boom, let, me, give, it, to, you,, baby, i'ma, give, it, to, you,, baby, i'ma, give, it, when, i'm, ready, some, lose,, some, steady, some, light,, some, heavy, it's, all, over, this, city, sometimes, in, the, ugly,, sometimes, in, the, pretty, you, never, know, where, ...]   \n",
       "389      [\"indestructible\", i'm, going, backwards, through, time, at, the, speed, of, light, i'm, yours,, you're, mine, two, satellites, not, alone, no,, we're, not, alone, a, freeze-frame, of, your, eye, in, the, strobe, light, sweat, dripping, down, from, your, brow, hold, tight, don't, let, go, don't, you, let, me, go, and, i, never, was, smart, with, love, i, let, the, bad, ones, in, and, the, good, ones, go, but, i'm, gonna, love, you, like, i've, never, been, hurt, before, i'm, gonna, love, you, like, i'm, indestructible, your, love, is, ultramagnetic, and, it's, taking, over, this, is, hardcore, and, i'm, indestructible, hands, up, ...]   \n",
       "381  [\"u, should, know, better\", i've, gone, around, the, world, and, the, seven, seas, i'm, cashin', six-figure, checks, in, all, currencies, it's, like, when, i, be, tearin', it, up, in, paris, motherfuckers, parler, on, the, m-i-c, it's, all, \"ooh, la, la\", and, \"ahh, oui, oui\", sippin', vin, blanc, in, our, lingerie, choppin', heads, off, with, madame, guillotine, even, the, french, know, better, than, to, fuck, with, me, comment, allez-vous, robyn,, what, it, do, i'm, in, the, uk, (why?), got, a, show, to, do, (uh-huh), it's, big, snoopy, dogg,, check, the, catalog, i'm, overseas, gettin', cheese, with, this, dialogue, i, missed, my, ...]   \n",
       "\n",
       "                                                                                                                                                                                                                                                                                                                                                                                                                                                                                                                                                                                                                                                                                                                                                         Cleaned_Tokens  \\\n",
       "337                                                                             [\"love, free\", free, love, free,, baby, free, love, free,, baby, boom, boom, boom, boom, boom, chica, boom, let, give, you,, baby, chica, boom, chica, boom, chica, boom, chica, boom, chica, boom, chica, boom, free, love, free,, baby, free, love, free,, baby, boom, boom, boom, boom, boom, chica, boom, let, give, you,, baby, i'ma, give, you,, baby, i'ma, give, i'm, ready, lose,, steady, light,, heavy, city, sometimes, ugly,, sometimes, pretty, never, know, get, cause, can't, control, can't, unfold, it,, slow, i'ma, give, you,, baby, i'ma, give, i'm, ready, lose,, steady, light,, heavy, city, sometimes, ugly,, sometimes, pretty, never, know, get, cause, ...]   \n",
       "389                                                 [\"indestructible\", i'm, going, backwards, time, speed, light, i'm, yours,, mine, two, satellites, alone, no,, we're, alone, freeze-frame, eye, strobe, light, sweat, dripping, brow, hold, tight, let, go, let, go, never, smart, love, let, bad, ones, good, ones, go, i'm, gonna, love, like, i've, never, hurt, i'm, gonna, love, like, i'm, indestructible, love, ultramagnetic, taking, hardcore, i'm, indestructible, hands, air, like, care, we're, shooting, deep, space, lasers, split, dark, cut, right, dark, us., ignore, crowd, dancing, fall, floor, beats, heart, put, hands, heart, never, smart, love, let, bad, ones, good, ones, go, i'm, gonna, love, like, i've, never, hurt, i'm, gonna, ...]   \n",
       "381  [\"u, know, better\", i've, gone, around, world, seven, seas, i'm, cashin', six-figure, checks, currencies, like, tearin', paris, motherfuckers, parler, m-i-c, \"ooh, la, la\", \"ahh, oui, oui\", sippin', vin, blanc, lingerie, choppin', heads, madame, guillotine, even, french, know, better, fuck, comment, allez-vous, robyn,, i'm, uk, (why?), got, show, (uh-huh), big, snoopy, dogg,, check, catalog, i'm, overseas, gettin', cheese, dialogue, missed, plane, spain, i'm, stuck, colonna, i'm, sippin', saronno, chick, named, ramona, wants, take, flick, phone-ah, take, hotel, room, bone, know, rome, sat, romans, said, \"we, need, black, pope, better, woman\", there'll, celibacy, even, vatican, knows, fuck, know, better, y-you, know, better, ...]   \n",
       "\n",
       "     sentiment_score  \n",
       "337             91.0  \n",
       "389             26.0  \n",
       "381             25.0  "
      ]
     },
     "execution_count": 45,
     "metadata": {},
     "output_type": "execute_result"
    }
   ],
   "source": [
    "robyn_songs_highest.head()"
   ]
  },
  {
   "cell_type": "code",
   "execution_count": 46,
   "id": "96a299f7",
   "metadata": {},
   "outputs": [
    {
     "data": {
      "text/html": [
       "<div>\n",
       "<style scoped>\n",
       "    .dataframe tbody tr th:only-of-type {\n",
       "        vertical-align: middle;\n",
       "    }\n",
       "\n",
       "    .dataframe tbody tr th {\n",
       "        vertical-align: top;\n",
       "    }\n",
       "\n",
       "    .dataframe thead th {\n",
       "        text-align: right;\n",
       "    }\n",
       "</style>\n",
       "<table border=\"1\" class=\"dataframe\">\n",
       "  <thead>\n",
       "    <tr style=\"text-align: right;\">\n",
       "      <th></th>\n",
       "      <th>Filename</th>\n",
       "      <th>Text</th>\n",
       "      <th>Artist</th>\n",
       "      <th>Tokens</th>\n",
       "      <th>Cleaned_Tokens</th>\n",
       "      <th>sentiment_score</th>\n",
       "    </tr>\n",
       "  </thead>\n",
       "  <tbody>\n",
       "    <tr>\n",
       "      <th>369</th>\n",
       "      <td>robyn_play.txt</td>\n",
       "      <td>\"Don't Fucking Tell Me What To Do\" My drinking is killing me My drinking is killing me My drinking is killing me My drinking is killing me My drinking is killing me My drinking is killing me My drinking is killing me My drinking is killing me My drinking is killing me My drinking is killing me My drinking is killing me My drinking is killing me My drinking is killing me My drinking is killing me My drinking is killing me My smoking is killing me My diet is killing me My heels are killing me My shopping's killing me My ego is killing me Can't sleep, it's killing me My label's killing me Kickdrum My phone is killing me My email is killing me These hours are killing me My tour is killing me This flight is killing me My manager's killing me My mother's killing me My landlord's killing me My boss is killing me The TV is killing me Your nagging is killing me My boyfriend's killing me My talking's killing me Killing me Killing me Can't sleep, it's killing me My dreams are killing me TV is killing me My talking's killing me Let go, you're killing me Ease up, you're killing me Calm down, you're killing me My god, you're killing me My drinking is killing me My smoking is killing me My head is killing me My mind is killing me My back is killing me My neck is killing me Your nagging is killing me My gut is killing me My PMS is killing me My email is killing me These hours are killing me My tour is killing me This flight is killing me My manager's killing me My mother's killing me My landlord's killing me My smoking is killing me The TV is killing me Your nagging is killing me Ease up, you're killing me Let go, you're killing me Calm down, you're killing me My god, you're killing me Don't fucking tell me what to do, do Don't fucking tell me what to do, do, do, do, do Don't fucking tell me what to do Don't fucking tell me what to do, do Don't fucking tell me what to do, do Don't fucking tell me what to do Don't fucking tell me what to do Don't fucking tell me what to do Don't fucking tell me what to do</td>\n",
       "      <td>robyn</td>\n",
       "      <td>[\"don't, fucking, tell, me, what, to, do\", my, drinking, is, killing, me, my, drinking, is, killing, me, my, drinking, is, killing, me, my, drinking, is, killing, me, my, drinking, is, killing, me, my, drinking, is, killing, me, my, drinking, is, killing, me, my, drinking, is, killing, me, my, drinking, is, killing, me, my, drinking, is, killing, me, my, drinking, is, killing, me, my, drinking, is, killing, me, my, drinking, is, killing, me, my, drinking, is, killing, me, my, drinking, is, killing, me, my, smoking, is, killing, me, my, diet, is, killing, me, my, heels, are, killing, me, my, shopping's, killing, ...]</td>\n",
       "      <td>[\"don't, fucking, tell, do\", drinking, killing, drinking, killing, drinking, killing, drinking, killing, drinking, killing, drinking, killing, drinking, killing, drinking, killing, drinking, killing, drinking, killing, drinking, killing, drinking, killing, drinking, killing, drinking, killing, drinking, killing, smoking, killing, diet, killing, heels, killing, shopping's, killing, ego, killing, can't, sleep,, killing, label's, killing, kickdrum, phone, killing, email, killing, hours, killing, tour, killing, flight, killing, manager's, killing, mother's, killing, landlord's, killing, boss, killing, tv, killing, nagging, killing, boyfriend's, killing, talking's, killing, killing, killing, can't, sleep,, killing, dreams, killing, tv, killing, talking's, killing, let, go,, killing, ease, up,, killing, calm, down,, killing, god,, killing, drinking, killing, ...]</td>\n",
       "      <td>-77.0</td>\n",
       "    </tr>\n",
       "    <tr>\n",
       "      <th>391</th>\n",
       "      <td>robyn_play.txt</td>\n",
       "      <td>\"Don't Fucking Tell Me What To Do\" My drinking is killing me My drinking is killing me My drinking is killing me My drinking is killing me My drinking is killing me My drinking is killing me My drinking is killing me My drinking is killing me My drinking is killing me My drinking is killing me My drinking is killing me My drinking is killing me My drinking is killing me My drinking is killing me My drinking is killing me My smoking is killing me My diet is killing me My heels are killing me My shopping's killing me My ego is killing me Can't sleep, it's killing me My label's killing me Kickdrum My phone is killing me My email is killing me These hours are killing me My tour is killing me This flight is killing me My manager's killing me My mother's killing me My landlord's killing me My boss is killing me The TV is killing me Your nagging is killing me My boyfriend's killing me My talking's killing me Killing me Killing me Can't sleep, it's killing me My dreams are killing me TV is killing me My talking's killing me Let go, you're killing me Ease up, you're killing me Calm down, you're killing me My god, you're killing me My drinking is killing me My smoking is killing me My head is killing me My mind is killing me My back is killing me My neck is killing me Your nagging is killing me My gut is killing me My PMS is killing me My email is killing me These hours are killing me My tour is killing me This flight is killing me My manager's killing me My mother's killing me My landlord's killing me My smoking is killing me The TV is killing me Your nagging is killing me Ease up, you're killing me Let go, you're killing me Calm down, you're killing me My god, you're killing me Don't fucking tell me what to do, do Don't fucking tell me what to do, do, do, do, do Don't fucking tell me what to do Don't fucking tell me what to do, do Don't fucking tell me what to do, do Don't fucking tell me what to do Don't fucking tell me what to do Don't fucking tell me what to do Don't fucking tell me what to do</td>\n",
       "      <td>robyn</td>\n",
       "      <td>[\"don't, fucking, tell, me, what, to, do\", my, drinking, is, killing, me, my, drinking, is, killing, me, my, drinking, is, killing, me, my, drinking, is, killing, me, my, drinking, is, killing, me, my, drinking, is, killing, me, my, drinking, is, killing, me, my, drinking, is, killing, me, my, drinking, is, killing, me, my, drinking, is, killing, me, my, drinking, is, killing, me, my, drinking, is, killing, me, my, drinking, is, killing, me, my, drinking, is, killing, me, my, drinking, is, killing, me, my, smoking, is, killing, me, my, diet, is, killing, me, my, heels, are, killing, me, my, shopping's, killing, ...]</td>\n",
       "      <td>[\"don't, fucking, tell, do\", drinking, killing, drinking, killing, drinking, killing, drinking, killing, drinking, killing, drinking, killing, drinking, killing, drinking, killing, drinking, killing, drinking, killing, drinking, killing, drinking, killing, drinking, killing, drinking, killing, drinking, killing, smoking, killing, diet, killing, heels, killing, shopping's, killing, ego, killing, can't, sleep,, killing, label's, killing, kickdrum, phone, killing, email, killing, hours, killing, tour, killing, flight, killing, manager's, killing, mother's, killing, landlord's, killing, boss, killing, tv, killing, nagging, killing, boyfriend's, killing, talking's, killing, killing, killing, can't, sleep,, killing, dreams, killing, tv, killing, talking's, killing, let, go,, killing, ease, up,, killing, calm, down,, killing, god,, killing, drinking, killing, ...]</td>\n",
       "      <td>-77.0</td>\n",
       "    </tr>\n",
       "    <tr>\n",
       "      <th>332</th>\n",
       "      <td>robyn_play.txt</td>\n",
       "      <td>\"Criminal Intent\" Somebody alert the authorities, I got criminal intent Conspiracy to engage in lewd and indecent acts and events I'mma wind it, grind it, oh my, I'mma say it again Somebody alert the authorities, she's got criminal intent Somebody alert the authorities, I got criminal intent Conspiracy to engage in lewd and indecent acts and events I'mma wind it, grind it, oh my, I'mma say it again Somebody alert the authorities, she's got criminal intent Somebody alert the authorities, I got criminal intent Conspiracy to engage in lewd and indecent acts and events I'mma wind it, grind it, oh my, I'mma say it again Somebody alert the authorities, I got criminal intent - Will the defendant please rise? State your full name for the record. - Robyn - Do you wish to say anything before the sentence is imposed? - I do your Honor! You know, from time to time I need to get down Unwind and just bump and grind Get my shot on, have some fun A little dirty never hurt anyone I admit, I can get somewhat X-rated on the floor But your Honor, how's that something you get incarcerated for? I-I-I done nothing that's wrong  ?? something that's frowned upon I object most strongly Judge, they played my song Somebody alert the authorities, I got criminal intent Conspiracy to engage in lewd and indecent acts and events I'mma wind it, grind it, oh my, I'mma say it again Somebody alert the authorities, she's got criminal intent Somebody alert the authorities, I got criminal intent Conspiracy to engage in lewd and indecent acts and events I'mma wind it, grind it, oh my, I'mma say it again Somebody alert the authorities, I got criminal intent Somebody alert the authorities, she's got criminal intent Y-yo-yo Judge, may the record reflect the fact  I don't have any priors Besides, would you pardon me  For being inappropriately attired? But yo, listen, them cuffs down at county Totally ripped up my pantyhose And some snitch punk at legal aid Stole my voucher for court clothes I done nothing that's wrong  ?? something that's frowned upon I object most strongly Judge, they played my song Somebody alert the authorities, I got criminal intent Conspiracy to engage in lewd and indecent acts and events I'mma wind it, grind it, oh my, I'mma say it again Somebody alert the authorities, she's got criminal intent Somebody alert the authorities, I got criminal intent Conspiracy to engage in lewd and indecent acts and events I'mma wind it, grind it, oh my, I'mma say it again Somebody alert the authorities, I got criminal intent Somebody alert the authorities, she's got criminal intent</td>\n",
       "      <td>robyn</td>\n",
       "      <td>[\"criminal, intent\", somebody, alert, the, authorities,, i, got, criminal, intent, conspiracy, to, engage, in, lewd, and, indecent, acts, and, events, i'mma, wind, it,, grind, it,, oh, my,, i'mma, say, it, again, somebody, alert, the, authorities,, she's, got, criminal, intent, somebody, alert, the, authorities,, i, got, criminal, intent, conspiracy, to, engage, in, lewd, and, indecent, acts, and, events, i'mma, wind, it,, grind, it,, oh, my,, i'mma, say, it, again, somebody, alert, the, authorities,, she's, got, criminal, intent, somebody, alert, the, authorities,, i, got, criminal, intent, conspiracy, to, engage, in, lewd, and, indecent, acts, and, events, i'mma, wind, it,, grind, it,, oh, ...]</td>\n",
       "      <td>[\"criminal, intent\", somebody, alert, authorities,, got, criminal, intent, conspiracy, engage, lewd, indecent, acts, events, i'mma, wind, it,, grind, it,, oh, my,, i'mma, say, somebody, alert, authorities,, got, criminal, intent, somebody, alert, authorities,, got, criminal, intent, conspiracy, engage, lewd, indecent, acts, events, i'mma, wind, it,, grind, it,, oh, my,, i'mma, say, somebody, alert, authorities,, got, criminal, intent, somebody, alert, authorities,, got, criminal, intent, conspiracy, engage, lewd, indecent, acts, events, i'mma, wind, it,, grind, it,, oh, my,, i'mma, say, somebody, alert, authorities,, got, criminal, intent, -, defendant, please, rise?, state, full, name, record., -, robyn, -, wish, say, anything, sentence, imposed?, -, ...]</td>\n",
       "      <td>-54.0</td>\n",
       "    </tr>\n",
       "  </tbody>\n",
       "</table>\n",
       "</div>"
      ],
      "text/plain": [
       "           Filename  \\\n",
       "369  robyn_play.txt   \n",
       "391  robyn_play.txt   \n",
       "332  robyn_play.txt   \n",
       "\n",
       "                                                                                                                                                                                                                                                                                                                                                                                                                                                                                                                                                                                                                                                                                                                                                                                                                                                                                                                                                                                                                                                                                                                                                                                                                                                                                                                                                                                                                                                                                                                                                                                                                                                                                                                                                                                                                                                                                                                                                                                                                                                                                                                                                                                                                                                                                                                                                                                                                                                                                                                                                                                                                                                                                             Text  \\\n",
       "369                                                                                                                                                                                                                                                                                                                                                                                                                                                                                                                                                                                       \"Don't Fucking Tell Me What To Do\" My drinking is killing me My drinking is killing me My drinking is killing me My drinking is killing me My drinking is killing me My drinking is killing me My drinking is killing me My drinking is killing me My drinking is killing me My drinking is killing me My drinking is killing me My drinking is killing me My drinking is killing me My drinking is killing me My drinking is killing me My smoking is killing me My diet is killing me My heels are killing me My shopping's killing me My ego is killing me Can't sleep, it's killing me My label's killing me Kickdrum My phone is killing me My email is killing me These hours are killing me My tour is killing me This flight is killing me My manager's killing me My mother's killing me My landlord's killing me My boss is killing me The TV is killing me Your nagging is killing me My boyfriend's killing me My talking's killing me Killing me Killing me Can't sleep, it's killing me My dreams are killing me TV is killing me My talking's killing me Let go, you're killing me Ease up, you're killing me Calm down, you're killing me My god, you're killing me My drinking is killing me My smoking is killing me My head is killing me My mind is killing me My back is killing me My neck is killing me Your nagging is killing me My gut is killing me My PMS is killing me My email is killing me These hours are killing me My tour is killing me This flight is killing me My manager's killing me My mother's killing me My landlord's killing me My smoking is killing me The TV is killing me Your nagging is killing me Ease up, you're killing me Let go, you're killing me Calm down, you're killing me My god, you're killing me Don't fucking tell me what to do, do Don't fucking tell me what to do, do, do, do, do Don't fucking tell me what to do Don't fucking tell me what to do, do Don't fucking tell me what to do, do Don't fucking tell me what to do Don't fucking tell me what to do Don't fucking tell me what to do Don't fucking tell me what to do   \n",
       "391                                                                                                                                                                                                                                                                                                                                                                                                                                                                                                                                                                                       \"Don't Fucking Tell Me What To Do\" My drinking is killing me My drinking is killing me My drinking is killing me My drinking is killing me My drinking is killing me My drinking is killing me My drinking is killing me My drinking is killing me My drinking is killing me My drinking is killing me My drinking is killing me My drinking is killing me My drinking is killing me My drinking is killing me My drinking is killing me My smoking is killing me My diet is killing me My heels are killing me My shopping's killing me My ego is killing me Can't sleep, it's killing me My label's killing me Kickdrum My phone is killing me My email is killing me These hours are killing me My tour is killing me This flight is killing me My manager's killing me My mother's killing me My landlord's killing me My boss is killing me The TV is killing me Your nagging is killing me My boyfriend's killing me My talking's killing me Killing me Killing me Can't sleep, it's killing me My dreams are killing me TV is killing me My talking's killing me Let go, you're killing me Ease up, you're killing me Calm down, you're killing me My god, you're killing me My drinking is killing me My smoking is killing me My head is killing me My mind is killing me My back is killing me My neck is killing me Your nagging is killing me My gut is killing me My PMS is killing me My email is killing me These hours are killing me My tour is killing me This flight is killing me My manager's killing me My mother's killing me My landlord's killing me My smoking is killing me The TV is killing me Your nagging is killing me Ease up, you're killing me Let go, you're killing me Calm down, you're killing me My god, you're killing me Don't fucking tell me what to do, do Don't fucking tell me what to do, do, do, do, do Don't fucking tell me what to do Don't fucking tell me what to do, do Don't fucking tell me what to do, do Don't fucking tell me what to do Don't fucking tell me what to do Don't fucking tell me what to do Don't fucking tell me what to do   \n",
       "332  \"Criminal Intent\" Somebody alert the authorities, I got criminal intent Conspiracy to engage in lewd and indecent acts and events I'mma wind it, grind it, oh my, I'mma say it again Somebody alert the authorities, she's got criminal intent Somebody alert the authorities, I got criminal intent Conspiracy to engage in lewd and indecent acts and events I'mma wind it, grind it, oh my, I'mma say it again Somebody alert the authorities, she's got criminal intent Somebody alert the authorities, I got criminal intent Conspiracy to engage in lewd and indecent acts and events I'mma wind it, grind it, oh my, I'mma say it again Somebody alert the authorities, I got criminal intent - Will the defendant please rise? State your full name for the record. - Robyn - Do you wish to say anything before the sentence is imposed? - I do your Honor! You know, from time to time I need to get down Unwind and just bump and grind Get my shot on, have some fun A little dirty never hurt anyone I admit, I can get somewhat X-rated on the floor But your Honor, how's that something you get incarcerated for? I-I-I done nothing that's wrong  ?? something that's frowned upon I object most strongly Judge, they played my song Somebody alert the authorities, I got criminal intent Conspiracy to engage in lewd and indecent acts and events I'mma wind it, grind it, oh my, I'mma say it again Somebody alert the authorities, she's got criminal intent Somebody alert the authorities, I got criminal intent Conspiracy to engage in lewd and indecent acts and events I'mma wind it, grind it, oh my, I'mma say it again Somebody alert the authorities, I got criminal intent Somebody alert the authorities, she's got criminal intent Y-yo-yo Judge, may the record reflect the fact  I don't have any priors Besides, would you pardon me  For being inappropriately attired? But yo, listen, them cuffs down at county Totally ripped up my pantyhose And some snitch punk at legal aid Stole my voucher for court clothes I done nothing that's wrong  ?? something that's frowned upon I object most strongly Judge, they played my song Somebody alert the authorities, I got criminal intent Conspiracy to engage in lewd and indecent acts and events I'mma wind it, grind it, oh my, I'mma say it again Somebody alert the authorities, she's got criminal intent Somebody alert the authorities, I got criminal intent Conspiracy to engage in lewd and indecent acts and events I'mma wind it, grind it, oh my, I'mma say it again Somebody alert the authorities, I got criminal intent Somebody alert the authorities, she's got criminal intent   \n",
       "\n",
       "    Artist  \\\n",
       "369  robyn   \n",
       "391  robyn   \n",
       "332  robyn   \n",
       "\n",
       "                                                                                                                                                                                                                                                                                                                                                                                                                                                                                                                                                                                                                                                                                                                                Tokens  \\\n",
       "369                                                                                    [\"don't, fucking, tell, me, what, to, do\", my, drinking, is, killing, me, my, drinking, is, killing, me, my, drinking, is, killing, me, my, drinking, is, killing, me, my, drinking, is, killing, me, my, drinking, is, killing, me, my, drinking, is, killing, me, my, drinking, is, killing, me, my, drinking, is, killing, me, my, drinking, is, killing, me, my, drinking, is, killing, me, my, drinking, is, killing, me, my, drinking, is, killing, me, my, drinking, is, killing, me, my, drinking, is, killing, me, my, smoking, is, killing, me, my, diet, is, killing, me, my, heels, are, killing, me, my, shopping's, killing, ...]   \n",
       "391                                                                                    [\"don't, fucking, tell, me, what, to, do\", my, drinking, is, killing, me, my, drinking, is, killing, me, my, drinking, is, killing, me, my, drinking, is, killing, me, my, drinking, is, killing, me, my, drinking, is, killing, me, my, drinking, is, killing, me, my, drinking, is, killing, me, my, drinking, is, killing, me, my, drinking, is, killing, me, my, drinking, is, killing, me, my, drinking, is, killing, me, my, drinking, is, killing, me, my, drinking, is, killing, me, my, drinking, is, killing, me, my, smoking, is, killing, me, my, diet, is, killing, me, my, heels, are, killing, me, my, shopping's, killing, ...]   \n",
       "332  [\"criminal, intent\", somebody, alert, the, authorities,, i, got, criminal, intent, conspiracy, to, engage, in, lewd, and, indecent, acts, and, events, i'mma, wind, it,, grind, it,, oh, my,, i'mma, say, it, again, somebody, alert, the, authorities,, she's, got, criminal, intent, somebody, alert, the, authorities,, i, got, criminal, intent, conspiracy, to, engage, in, lewd, and, indecent, acts, and, events, i'mma, wind, it,, grind, it,, oh, my,, i'mma, say, it, again, somebody, alert, the, authorities,, she's, got, criminal, intent, somebody, alert, the, authorities,, i, got, criminal, intent, conspiracy, to, engage, in, lewd, and, indecent, acts, and, events, i'mma, wind, it,, grind, it,, oh, ...]   \n",
       "\n",
       "                                                                                                                                                                                                                                                                                                                                                                                                                                                                                                                                                                                                                                                                                                                                                                                                                                                                                            Cleaned_Tokens  \\\n",
       "369  [\"don't, fucking, tell, do\", drinking, killing, drinking, killing, drinking, killing, drinking, killing, drinking, killing, drinking, killing, drinking, killing, drinking, killing, drinking, killing, drinking, killing, drinking, killing, drinking, killing, drinking, killing, drinking, killing, drinking, killing, smoking, killing, diet, killing, heels, killing, shopping's, killing, ego, killing, can't, sleep,, killing, label's, killing, kickdrum, phone, killing, email, killing, hours, killing, tour, killing, flight, killing, manager's, killing, mother's, killing, landlord's, killing, boss, killing, tv, killing, nagging, killing, boyfriend's, killing, talking's, killing, killing, killing, can't, sleep,, killing, dreams, killing, tv, killing, talking's, killing, let, go,, killing, ease, up,, killing, calm, down,, killing, god,, killing, drinking, killing, ...]   \n",
       "391  [\"don't, fucking, tell, do\", drinking, killing, drinking, killing, drinking, killing, drinking, killing, drinking, killing, drinking, killing, drinking, killing, drinking, killing, drinking, killing, drinking, killing, drinking, killing, drinking, killing, drinking, killing, drinking, killing, drinking, killing, smoking, killing, diet, killing, heels, killing, shopping's, killing, ego, killing, can't, sleep,, killing, label's, killing, kickdrum, phone, killing, email, killing, hours, killing, tour, killing, flight, killing, manager's, killing, mother's, killing, landlord's, killing, boss, killing, tv, killing, nagging, killing, boyfriend's, killing, talking's, killing, killing, killing, can't, sleep,, killing, dreams, killing, tv, killing, talking's, killing, let, go,, killing, ease, up,, killing, calm, down,, killing, god,, killing, drinking, killing, ...]   \n",
       "332                                                                                                         [\"criminal, intent\", somebody, alert, authorities,, got, criminal, intent, conspiracy, engage, lewd, indecent, acts, events, i'mma, wind, it,, grind, it,, oh, my,, i'mma, say, somebody, alert, authorities,, got, criminal, intent, somebody, alert, authorities,, got, criminal, intent, conspiracy, engage, lewd, indecent, acts, events, i'mma, wind, it,, grind, it,, oh, my,, i'mma, say, somebody, alert, authorities,, got, criminal, intent, somebody, alert, authorities,, got, criminal, intent, conspiracy, engage, lewd, indecent, acts, events, i'mma, wind, it,, grind, it,, oh, my,, i'mma, say, somebody, alert, authorities,, got, criminal, intent, -, defendant, please, rise?, state, full, name, record., -, robyn, -, wish, say, anything, sentence, imposed?, -, ...]   \n",
       "\n",
       "     sentiment_score  \n",
       "369            -77.0  \n",
       "391            -77.0  \n",
       "332            -54.0  "
      ]
     },
     "execution_count": 46,
     "metadata": {},
     "output_type": "execute_result"
    }
   ],
   "source": [
    "robyn_songs_lowest.head()"
   ]
  },
  {
   "cell_type": "markdown",
   "id": "1f8334f4",
   "metadata": {},
   "source": [
    "### Questions\n",
    "\n",
    "Q: Overall, which artist has the higher average sentiment per song? \n",
    "\n",
    "A: Overall, cher had a higher sentiment at 3.1 while robyn had a 2.0\n",
    "\n",
    "\n",
    "---\n",
    "\n",
    "Q: For your first artist, what are the three songs that have the highest and lowest sentiments? Print the lyrics of those songs to the screen. What do you think is driving the sentiment score? \n",
    "\n",
    "A: Chers highest songs are Perfection, Love And Understanding and My Love. These songs seem to be mostly about love so that definitely makes the overall sentiment higher. Her lowest songs are I Walk On Guilded Splinters, Outrageous, and Dressed To Kill. As you might have guessed from the titles, these songs have a much more serious and powerful tone to them. Especially dressed to kill has quite a bit of dark themes to them. \n",
    "\n",
    "---\n",
    "\n",
    "Q: For your second artist, what are the three songs that have the highest and lowest sentiments? Print the lyrics of those songs to the screen. What do you think is driving the sentiment score? \n",
    "\n",
    "A: Robyns highest songs are Love Is Free, Indestructible and U Should Know Better. These songs seem to be mostly about motivation, strength and love so that definitely makes the overall sentiment higher. Her lowest songs are Don't Fucking Tell Me What To Do, Criminal Intent. As you might have guessed from the titles, these songs are much more aggressive so they have darker themes to them.\n",
    "\n",
    "---\n",
    "\n",
    "Q: Plot the distributions of the sentiment scores for both artists. You can use `seaborn` to plot densities or plot histograms in matplotlib.\n"
   ]
  },
  {
   "cell_type": "code",
   "execution_count": 56,
   "id": "bd6fbc6b",
   "metadata": {},
   "outputs": [
    {
     "data": {
      "image/png": "[encoded data removed]",
      "text/plain": [
       "<Figure size 1000x600 with 1 Axes>"
      ]
     },
     "metadata": {},
     "output_type": "display_data"
    }
   ],
   "source": [
    "# histogram using matplotlib\n",
    "plt.figure(figsize=(10, 6))\n",
    "plt.hist(cher_songs['sentiment_score'], bins=30, alpha=0.5, label='Cher', density=True)\n",
    "plt.hist(robyn_songs['sentiment_score'], bins=30, alpha=0.5, label='Robyn', density=True)\n",
    "plt.title('Histogram of Sentiment Scores')\n",
    "plt.xlabel('Sentiment Score')\n",
    "plt.ylabel('Frequency')\n",
    "plt.legend()\n",
    "plt.show()"
   ]
  },
  {
   "cell_type": "markdown",
   "id": "b3fe644d",
   "metadata": {},
   "source": [
    "## Sentiment Analysis on Twitter Descriptions\n",
    "\n",
    "In this section, define two sets of emojis you designate as positive and negative. Make sure to have at least 10 emojis per set. You can learn about the most popular emojis on Twitter at [the emojitracker](https://emojitracker.com/). \n",
    "\n",
    "Associate your positive emojis with a score of +1, negative with -1. Score the average sentiment of your two artists based on the Twitter descriptions of their followers. The average sentiment can just be the total score divided by number of followers. You do not need to calculate sentiment on non-emoji content for this section."
   ]
  },
  {
   "cell_type": "code",
   "execution_count": 63,
   "id": "1a5c1d25",
   "metadata": {},
   "outputs": [
    {
     "name": "stdout",
     "output_type": "stream",
     "text": [
      "['💜', '🍒', '💓', '🧡', '😇', '🖤', '✨', '🧩', '🌻', '💕', '✝', '🙃', '✨', '🏳', '🌈', '☂', '🔴', '🔥', '🔥', '🌎']\n",
      "['♥', '🌱', '🤡', '🌸', '🌈', '🌹', '🎵', '🌈', '🦖', '🐧', '🥑', '🏳', '🌈', '🚀', '🐕', '👀', '🐕', '🚀', '🔥', '🔥', '🐢', '🐢', '🔥', '🔥', '😊', '✌', '🌈', '☮', '💯', '💜', '🌹', '💎', '🎧', '🙏', '▶', '🎙', '🎧', '🔊', '♍', '❤', '🖕', '🖕', '🧣', '💛', '💛']\n"
     ]
    }
   ],
   "source": [
    "# your code here\n",
    "\n",
    "# get all emojis from each of the twitter texts if its in the emoji data\n",
    "def extract_emojis(text):\n",
    "    return [char for char in text if char in emoji.EMOJI_DATA]\n",
    "\n",
    "cher_emojis = extract_emojis(cher_twitter)\n",
    "robyn_emojis = extract_emojis(robyn_twitter)\n",
    "\n",
    "print(cher_emojis)\n",
    "print(robyn_emojis)"
   ]
  },
  {
   "cell_type": "code",
   "execution_count": 64,
   "id": "e3382807",
   "metadata": {},
   "outputs": [],
   "source": [
    "# here i will manually define some positive or negative emojis\n",
    "positive_emojis = {'😊', '😍', '😂', '🥰', '😎', '👍', '🔥', '🌟','😇','💜'}\n",
    "negative_emojis = {'😢', '😠', '💔', '👎', '😞', '😡', '😭', '🖕'}"
   ]
  },
  {
   "cell_type": "code",
   "execution_count": 66,
   "id": "c4668d77",
   "metadata": {},
   "outputs": [
    {
     "name": "stdout",
     "output_type": "stream",
     "text": [
      "4\n",
      "4\n"
     ]
    }
   ],
   "source": [
    "# function to get the average scores for each list of emojis\n",
    "def calculate_sentiment_score(emojis):\n",
    "\n",
    "    # set default score to 0\n",
    "    score = 0\n",
    "\n",
    "    # for each emoji\n",
    "    for e in emojis:\n",
    "\n",
    "        # if its in the positive emoji list\n",
    "        if e in positive_emojis:\n",
    "\n",
    "            # add one to the score\n",
    "            score += 1\n",
    "\n",
    "        # else if its in the negative emojis list    \n",
    "        elif e in negative_emojis:\n",
    "\n",
    "            # subtract by 1\n",
    "            score -= 1\n",
    "    return score\n",
    "\n",
    "cher_score = calculate_sentiment_score(cher_emojis)\n",
    "robyn_score = calculate_sentiment_score(robyn_emojis)\n",
    "\n",
    "print(cher_score)\n",
    "print(robyn_score)"
   ]
  },
  {
   "cell_type": "markdown",
   "id": "fb92eb93",
   "metadata": {},
   "source": [
    "Q: What is the average sentiment of your two artists? \n",
    "\n",
    "A: both artists sentiment score is about the same, at 4\n",
    "\n",
    "---\n",
    "\n",
    "Q: Which positive emoji is the most popular for each artist? Which negative emoji? \n",
    "\n",
    "A: the 🔥 emoji appears quite a bit for both artists while there doesnt seem to be a overly popular negative emoji from the small sample size.\n",
    "\n"
   ]
  },
  {
   "cell_type": "markdown",
   "id": "fb820050",
   "metadata": {},
   "source": []
  }
 ],
 "metadata": {
  "kernelspec": {
   "display_name": "Python 3 (ipykernel)",
   "language": "python",
   "name": "python3"
  },
  "language_info": {
   "codemirror_mode": {
    "name": "ipython",
    "version": 3
   },
   "file_extension": ".py",
   "mimetype": "text/x-python",
   "name": "python",
   "nbconvert_exporter": "python",
   "pygments_lexer": "ipython3",
   "version": "3.9.13"
  }
 },
 "nbformat": 4,
 "nbformat_minor": 5
}
