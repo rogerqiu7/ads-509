{
 "cells": [
  {
   "cell_type": "markdown",
   "id": "7f79baf9",
   "metadata": {},
   "source": [
    "# ADS 509 Assignment 2.1: Tokenization, Normalization, Descriptive Statistics \n",
    "\n",
    "This notebook holds Assignment 2.1 for Module 2 in ADS 509, Applied Text Mining. Work through this notebook, writing code and answering questions where required. \n",
    "\n",
    "In the previous assignment you pulled lyrics data on two artists. In this assignment we explore this data set and a pull from the now-defunct Twitter API for the artists Cher and Robyn.  If, for some reason, you did not complete that previous assignment, data to use for this assignment can be found in the assignment materials section of Canvas. \n",
    "\n",
    "This assignment asks you to write a short function to calculate some descriptive statistics on a piece of text. Then you are asked to find some interesting and unique statistics on your corpora. \n"
   ]
  },
  {
   "cell_type": "code",
   "execution_count": 135,
   "id": "4b65adf9",
   "metadata": {},
   "outputs": [
    {
     "name": "stdout",
     "output_type": "stream",
     "text": [
      "Collecting emoji\n",
      "  Using cached emoji-2.11.1-py2.py3-none-any.whl (433 kB)\n",
      "Installing collected packages: emoji\n",
      "Successfully installed emoji-2.11.1\n",
      "Note: you may need to restart the kernel to use updated packages.\n"
     ]
    }
   ],
   "source": [
    "pip install --user emoji"
   ]
  },
  {
   "cell_type": "code",
   "execution_count": 160,
   "id": "e2d096b7",
   "metadata": {},
   "outputs": [],
   "source": [
    "import os\n",
    "import re\n",
    "import emoji\n",
    "import pandas as pd\n",
    "import numpy as np\n",
    "\n",
    "from collections import Counter, defaultdict\n",
    "from nltk.corpus import stopwords\n",
    "from string import punctuation\n",
    "\n",
    "sw = stopwords.words(\"english\")"
   ]
  },
  {
   "cell_type": "code",
   "execution_count": 165,
   "id": "6b555ab2",
   "metadata": {},
   "outputs": [
    {
     "name": "stderr",
     "output_type": "stream",
     "text": [
      "[nltk_data] Downloading package stopwords to\n",
      "[nltk_data]     /Users/roger.qiu/nltk_data...\n",
      "[nltk_data]   Package stopwords is already up-to-date!\n"
     ]
    }
   ],
   "source": [
    "# add imports\n",
    "import numpy as np\n",
    "import matplotlib.pyplot as plt\n",
    "import string\n",
    "\n",
    "# show everything when showing head\n",
    "pd.set_option('display.max_colwidth', None)\n",
    "pd.set_option('display.max_columns', None)\n",
    "\n",
    "# need to manually download stopwords from nltk\n",
    "import nltk\n",
    "nltk.download('stopwords')\n",
    "\n",
    "sw = stopwords.words(\"english\")"
   ]
  },
  {
   "cell_type": "code",
   "execution_count": 139,
   "id": "7dfbdcc4",
   "metadata": {},
   "outputs": [
    {
     "data": {
      "text/plain": [
       "['i', 'me', 'my', 'myself', 'we']"
      ]
     },
     "execution_count": 139,
     "metadata": {},
     "output_type": "execute_result"
    }
   ],
   "source": [
    "# check stop words\n",
    "sw[:5]"
   ]
  },
  {
   "cell_type": "code",
   "execution_count": 140,
   "id": "923b5a86",
   "metadata": {},
   "outputs": [],
   "source": [
    "# location of the data\n",
    "data_location = \"USD/11. Applied Text Mining/ads-509/module_2/ads-tm-token-norm/M1 Results\"\n",
    "\n",
    "twitter_folder = \"twitter/\"\n",
    "lyrics_folder = \"lyrics/\""
   ]
  },
  {
   "cell_type": "code",
   "execution_count": 141,
   "id": "06522af9",
   "metadata": {},
   "outputs": [],
   "source": [
    "def descriptive_stats(tokens, num_tokens = 5, verbose=True) :\n",
    "    \"\"\"\n",
    "        Given a list of tokens, print number of tokens, number of unique tokens, \n",
    "        number of characters, lexical diversity (https://en.wikipedia.org/wiki/Lexical_diversity), \n",
    "        and num_tokens most common tokens. Return a list with the number of tokens, number\n",
    "        of unique tokens, lexical diversity, and number of characters. \n",
    "    \n",
    "    \"\"\"\n",
    "\n",
    "    # Fill in the correct values here. \n",
    "\n",
    "    # length of num tokens list\n",
    "    num_tokens = len(tokens)\n",
    "\n",
    "    # length of unique tokens in list\n",
    "    num_unique_tokens = len(set(tokens))\n",
    "\n",
    "    # unique tokens divided by total tokens to see diversity\n",
    "    lexical_diversity = num_unique_tokens / num_tokens\n",
    "\n",
    "    # get sum of characters\n",
    "    sum = 0\n",
    "    for word in tokens:\n",
    "        for char in word:\n",
    "            sum += 1\n",
    "\n",
    "    num_characters = sum\n",
    "    \n",
    "    if verbose :        \n",
    "        print(f\"There are {num_tokens} tokens in the data.\")\n",
    "        print(f\"There are {num_unique_tokens} unique tokens in the data.\")\n",
    "        print(f\"There are {num_characters} characters in the data.\")\n",
    "        print(f\"The lexical diversity is {lexical_diversity:.3f} in the data.\")\n",
    "    \n",
    "        # print the five most common tokens\n",
    "        \n",
    "    return([num_tokens, num_unique_tokens,\n",
    "            lexical_diversity,\n",
    "            num_characters])\n",
    "    "
   ]
  },
  {
   "cell_type": "code",
   "execution_count": 142,
   "id": "59dcf058",
   "metadata": {},
   "outputs": [
    {
     "name": "stdout",
     "output_type": "stream",
     "text": [
      "There are 13 tokens in the data.\n",
      "There are 9 unique tokens in the data.\n",
      "There are 55 characters in the data.\n",
      "The lexical diversity is 0.692 in the data.\n"
     ]
    }
   ],
   "source": [
    "text = \"\"\"here is some example text with other example text here in this text\"\"\".split()\n",
    "assert(descriptive_stats(text, verbose=True)[0] == 13)\n",
    "assert(descriptive_stats(text, verbose=False)[1] == 9)\n",
    "assert(abs(descriptive_stats(text, verbose=False)[2] - 0.69) < 0.02)\n",
    "assert(descriptive_stats(text, verbose=False)[3] == 55)\n"
   ]
  },
  {
   "cell_type": "markdown",
   "id": "d2e7e1a2",
   "metadata": {},
   "source": [
    "Q: Why is it beneficial to use assertion statements in your code? \n",
    "\n",
    "A: Using assert makes it easier for you to find any issues with your function or logic. For example, by adding the assert with [0] being 13, it makes sure that the answer produces 13 tokens from the data. Or else it will throw an error and inform you of what the error is."
   ]
  },
  {
   "cell_type": "markdown",
   "id": "9d3bf93e",
   "metadata": {},
   "source": [
    "## Data Input\n",
    "\n",
    "Now read in each of the corpora. For the lyrics data, it may be convenient to store the entire contents of the file to make it easier to inspect the titles individually, as you'll do in the last part of the assignment. In the solution, I stored the lyrics data in a dictionary with two dimensions of keys: artist and song. The value was the file contents. A data frame would work equally well. \n",
    "\n",
    "For the Twitter data, we only need the description field for this assignment. Feel free all the descriptions read it into a data structure. In the solution, I stored the descriptions as a dictionary of lists, with the key being the artist. \n",
    "\n",
    "\n"
   ]
  },
  {
   "cell_type": "code",
   "execution_count": 143,
   "id": "f295a88d",
   "metadata": {},
   "outputs": [
    {
     "name": "stdout",
     "output_type": "stream",
     "text": [
      "Current Working Directory: /Users/roger.qiu/Documents/other/code/USD/11. Applied Text Mining/ads-509/module_2/ads-tm-token-norm\n"
     ]
    }
   ],
   "source": [
    "import os\n",
    "print(\"Current Working Directory:\", os.getcwd())"
   ]
  },
  {
   "cell_type": "code",
   "execution_count": 144,
   "id": "cb57f15f",
   "metadata": {},
   "outputs": [
    {
     "data": {
      "text/plain": [
       "['cher_comeandstaywithme.txt',\n",
       " 'cher_pirate.txt',\n",
       " 'cher_stars.txt',\n",
       " 'cher_thesedays.txt',\n",
       " 'cher_lovesohigh.txt']"
      ]
     },
     "execution_count": 144,
     "metadata": {},
     "output_type": "execute_result"
    }
   ],
   "source": [
    "# set subdirectory path\n",
    "directory_path = \"M1 Results/lyrics/cher/\"\n",
    "\n",
    "# create empty list to store filenames\n",
    "filenames = []\n",
    "\n",
    "# for every filename in the directory path, add it to filesnames\n",
    "for filename in os.listdir(directory_path):\n",
    "    filenames.append(filename)\n",
    "\n",
    "filenames[:5]"
   ]
  },
  {
   "cell_type": "code",
   "execution_count": 145,
   "id": "9b566346",
   "metadata": {},
   "outputs": [
    {
     "data": {
      "text/plain": [
       "['M1 Results/lyrics/cher/cher_comeandstaywithme.txt',\n",
       " 'M1 Results/lyrics/cher/cher_pirate.txt',\n",
       " 'M1 Results/lyrics/cher/cher_stars.txt',\n",
       " 'M1 Results/lyrics/cher/cher_thesedays.txt',\n",
       " 'M1 Results/lyrics/cher/cher_lovesohigh.txt']"
      ]
     },
     "execution_count": 145,
     "metadata": {},
     "output_type": "execute_result"
    }
   ],
   "source": [
    "# create list for full filepaths\n",
    "file_paths = []\n",
    "\n",
    "# for each filepath plus file name, append to filepaths\n",
    "for filename in filenames:\n",
    "    file_path = os.path.join(directory_path, filename)\n",
    "    file_paths.append(file_path)\n",
    "\n",
    "file_paths[:5]"
   ]
  },
  {
   "cell_type": "code",
   "execution_count": 146,
   "id": "819a9ab0",
   "metadata": {},
   "outputs": [
    {
     "data": {
      "text/plain": [
       "[['cher_classified1a.txt',\n",
       "  '\"Come And Stay With Me\"\\n\\n\\n\\nI\\'ll send away all my false pride\\nAnd I\\'ll forsake all of my life\\nYes I\\'ll be as true as true can be\\nIf you\\'ll come and stay with me\\n\\nAll lovers of the past, I\\'ll leave behind\\nThey\\'ll never be another on my mind\\nI\\'ll do all I can so you\\'ll feel free\\nIf you\\'ll come and stay with me\\n\\nThe promise I made most faithfully\\nI\\'ll keep still if you decide to leave\\nI\\'ll try and see that you have all you need\\nIf you\\'ll come and stay with me\\n\\nYes I\\'ll be as true as true can be\\nIf you\\'ll come and stay with me\\n\\nLive a life no others have ever known\\nBut I know you think that I\\'m hardly grown\\nOh thank God at last and finally\\nI can see you\\'re gonna stay with me\\nI can see you\\'re gonna stay with me']]"
      ]
     },
     "execution_count": 146,
     "metadata": {},
     "output_type": "execute_result"
    }
   ],
   "source": [
    "# empty data list to store all the text data\n",
    "data = []\n",
    "\n",
    "# for each file path, open the text file, read it, strip trailing spaces and sppend to data as a list\n",
    "for file_path in file_paths:    \n",
    "    with open(file_path, 'r', encoding='utf-8') as file:\n",
    "        text = file.read().strip()\n",
    "        data.append([filename, text])\n",
    "\n",
    "data[:1]"
   ]
  },
  {
   "cell_type": "code",
   "execution_count": 147,
   "id": "46a466c2",
   "metadata": {},
   "outputs": [
    {
     "data": {
      "text/html": [
       "<div>\n",
       "<style scoped>\n",
       "    .dataframe tbody tr th:only-of-type {\n",
       "        vertical-align: middle;\n",
       "    }\n",
       "\n",
       "    .dataframe tbody tr th {\n",
       "        vertical-align: top;\n",
       "    }\n",
       "\n",
       "    .dataframe thead th {\n",
       "        text-align: right;\n",
       "    }\n",
       "</style>\n",
       "<table border=\"1\" class=\"dataframe\">\n",
       "  <thead>\n",
       "    <tr style=\"text-align: right;\">\n",
       "      <th></th>\n",
       "      <th>Filename</th>\n",
       "      <th>Text</th>\n",
       "    </tr>\n",
       "  </thead>\n",
       "  <tbody>\n",
       "    <tr>\n",
       "      <th>0</th>\n",
       "      <td>cher_classified1a.txt</td>\n",
       "      <td>\"Come And Stay With Me\"\\n\\n\\n\\nI'll send away all my false pride\\nAnd I'll forsake all of my life\\nYes I'll be as true as true can be\\nIf you'll come and stay with me\\n\\nAll lovers of the past, I'll leave behind\\nThey'll never be another on my mind\\nI'll do all I can so you'll feel free\\nIf you'll come and stay with me\\n\\nThe promise I made most faithfully\\nI'll keep still if you decide to leave\\nI'll try and see that you have all you need\\nIf you'll come and stay with me\\n\\nYes I'll be as true as true can be\\nIf you'll come and stay with me\\n\\nLive a life no others have ever known\\nBut I know you think that I'm hardly grown\\nOh thank God at last and finally\\nI can see you're gonna stay with me\\nI can see you're gonna stay with me</td>\n",
       "    </tr>\n",
       "    <tr>\n",
       "      <th>1</th>\n",
       "      <td>cher_classified1a.txt</td>\n",
       "      <td>\"Pirate\"\\n\\n\\n\\nHe'll sail on with the summer wind\\nThat blows on this same day\\nEverybody calls him Pirate\\nDark and handsome in his own way\\nAnd the fire in his eyes\\nLit all the fire inside of me\\nAnd soon you were feeling\\nSo much more than the wind and waves and sea\\n\\nPirate I'm gonna take your soul\\nI only want the right to love you\\nI know the sea won't let you go\\nPirate, my love will only chain you down\\nSo just know how much I love you\\nAnd then turn that ship around\\n\\nEvery time that he'd sail back to me\\nWe'd fall in love again\\nAnd my face would fill with wonder\\nAt all the places that he's been\\nBut I knew his sweetest love song\\nWas when he heard the trade winds blow\\nAnd I loved him way too much\\nTo tell the secret he should know\\n\\nPirate I'm gonna take your soul\\nI only want the right to love you\\nI know the sea won't let you go\\nPirate, my love will only chain you down\\nSo just know how much I love you\\nAnd then turn that ship around\\n\\nNow as I watch in silence\\nAnother young man goes to sea\\nAnd his silhouette is stirrin' up\\nA painful memory\\nAnd I know his heart is set to sail\\nBut mine is set to cry\\nCause I feel as the way I did\\nThe day is Daddy said goodbye\\nI told him\\n\\nPirate I'm gonna take your soul\\nI only want the right to love you\\nI know the sea won't let you go\\nPirate, my love will only chain you down\\nSo just know how much I love you\\nAnd then turn that ship around</td>\n",
       "    </tr>\n",
       "    <tr>\n",
       "      <th>2</th>\n",
       "      <td>cher_classified1a.txt</td>\n",
       "      <td>\"Stars\"\\n\\n\\n\\nI was never one for saying what I really feel\\nExcept tonight I'm bringing everything I know that's real\\n\\nStars they come and go\\nThey come fast\\nThey come slow\\nThey go like the last light of the sun\\nAll in a blaze\\nAnd all you see is glory\\nHey, but it gets lonely here\\nWhen there's no one here to share\\nYou can shake it all away if you will hear my story\\nSome people ask for fame like athlete's in a game\\nWe break our collarbones and come up swinging\\nSome of us are downed some of us a crowned\\nAnd some are lost and never found but most have seen it all\\nThey live there lives in sad cafe's and music halls\\nThey always come up singing\\nSome make it when they're young before the world has done its dirty job\\nLater on someone will say you've had your day,\\nAnd now you must make way\\nBut they will never know the pain of living\\nWith a name you'd never own\\nOr the many years forgetting\\nWhat you know too well\\nThat the ones who get the crown\\nHave been let down\\nYet try to make amends\\nWithout defending\\nPerhaps pretending\\nYou never saw the eyes\\nOf grown men of twenty-five\\nThat follow as you walk\\nAnd ask for autographs\\nOr kiss you on the cheek\\nBut you never can believe\\nThey really love you\\nSome make it when they're old\\nPerhaps they have a soul\\nThey're not afraid to bear\\nOr perhaps there's nothing there\\n\\nStars they come and go\\nThey come fast\\nThey come slow\\nThey go like the last light of the sun\\nAll in a blaze\\nAnd all you see is glory\\n\\nBut most have seen it all\\nThey live there lives\\nIn sad cafe's and music halls\\nThey always come up singing\\nSinging\\nSinging\\nSinging</td>\n",
       "    </tr>\n",
       "    <tr>\n",
       "      <th>3</th>\n",
       "      <td>cher_classified1a.txt</td>\n",
       "      <td>\"These Days\"\\n\\n\\n\\nWell I've been out walking \\nAnd I don't do that much talking \\nThese days these days \\nThese days I seem to think a lot \\nAbout the things that I forgot to do \\nOh, honey, for you \\nAnd all the times I had \\nThe chance to \\n\\nWell I had a lover \\nLord, It's to hard to risk another \\nThese days oh, these days \\nAnd if I seem to be afraid \\nTo live the life I have made in song \\nOh yeah \\nWell it's just that I've been losing \\nLosing for so long \\n\\nAnd I wonder if I'll ever \\nSee another highway \\n\\nWell, now I'll keep on moving \\nLord, things are bound to be improving \\nThese days one of these days \\nThese days I sit on corner stones \\nI count the time in quarter tones till ten \\nMy sweet friend \\nPlease don't confront me with my failures \\nI've not forgotten them \\nI've not forgotten them \\nI've not forgotten them \\nOh oh</td>\n",
       "    </tr>\n",
       "    <tr>\n",
       "      <th>4</th>\n",
       "      <td>cher_classified1a.txt</td>\n",
       "      <td>\"Love So High\"\\n\\n\\n\\nEvery morning I would wake up\\nAnd I'd tie the sun around a cup\\nAnd I felt your love higher than the sky\\nNo one in this world but you and I\\nHad tasted love so sweet\\nYou held me softer than the rain\\n\\nMi amore my love never dies\\nMi amore look into my eyes\\n\\nWe had a love so high\\nI could never walk away\\nA love so high\\nI could reach out and touch the sky\\nTell me why\\nI said a little prayer for you and I\\n\\nA love so high\\n\\nNow I wake up in the middle of the night\\nYour face in front of me\\nLike a candle burning brighter than the flame\\nAnd I see everything inside your eyes\\nYour smiles your touch your alibis\\nAnd I wish that I could be with me all night\\nMi amore I wish that I could fly\\nMi amore look into my eyes\\n\\nTell me why\\nI can't see you anymore\\nTime's ticking away\\nI still want you everyday</td>\n",
       "    </tr>\n",
       "  </tbody>\n",
       "</table>\n",
       "</div>"
      ],
      "text/plain": [
       "                Filename  \\\n",
       "0  cher_classified1a.txt   \n",
       "1  cher_classified1a.txt   \n",
       "2  cher_classified1a.txt   \n",
       "3  cher_classified1a.txt   \n",
       "4  cher_classified1a.txt   \n",
       "\n",
       "                                                                                                                                                                                                                                                                                                                                                                                                                                                                                                                                                                                                                                                                                                                                                                                                                                                                                                                                                                                                                                                                                                                                                                                                                                                                                                                                                                                                                                                                                                                                                                                                                                                                                            Text  \n",
       "0                                                                                                                                                                                                                                                                                                                                                                                                                                                                                                                                                                                                                                                                                                                                                                                                                                                                                                                           \"Come And Stay With Me\"\\n\\n\\n\\nI'll send away all my false pride\\nAnd I'll forsake all of my life\\nYes I'll be as true as true can be\\nIf you'll come and stay with me\\n\\nAll lovers of the past, I'll leave behind\\nThey'll never be another on my mind\\nI'll do all I can so you'll feel free\\nIf you'll come and stay with me\\n\\nThe promise I made most faithfully\\nI'll keep still if you decide to leave\\nI'll try and see that you have all you need\\nIf you'll come and stay with me\\n\\nYes I'll be as true as true can be\\nIf you'll come and stay with me\\n\\nLive a life no others have ever known\\nBut I know you think that I'm hardly grown\\nOh thank God at last and finally\\nI can see you're gonna stay with me\\nI can see you're gonna stay with me  \n",
       "1                                                                                                                                                                                                            \"Pirate\"\\n\\n\\n\\nHe'll sail on with the summer wind\\nThat blows on this same day\\nEverybody calls him Pirate\\nDark and handsome in his own way\\nAnd the fire in his eyes\\nLit all the fire inside of me\\nAnd soon you were feeling\\nSo much more than the wind and waves and sea\\n\\nPirate I'm gonna take your soul\\nI only want the right to love you\\nI know the sea won't let you go\\nPirate, my love will only chain you down\\nSo just know how much I love you\\nAnd then turn that ship around\\n\\nEvery time that he'd sail back to me\\nWe'd fall in love again\\nAnd my face would fill with wonder\\nAt all the places that he's been\\nBut I knew his sweetest love song\\nWas when he heard the trade winds blow\\nAnd I loved him way too much\\nTo tell the secret he should know\\n\\nPirate I'm gonna take your soul\\nI only want the right to love you\\nI know the sea won't let you go\\nPirate, my love will only chain you down\\nSo just know how much I love you\\nAnd then turn that ship around\\n\\nNow as I watch in silence\\nAnother young man goes to sea\\nAnd his silhouette is stirrin' up\\nA painful memory\\nAnd I know his heart is set to sail\\nBut mine is set to cry\\nCause I feel as the way I did\\nThe day is Daddy said goodbye\\nI told him\\n\\nPirate I'm gonna take your soul\\nI only want the right to love you\\nI know the sea won't let you go\\nPirate, my love will only chain you down\\nSo just know how much I love you\\nAnd then turn that ship around  \n",
       "2  \"Stars\"\\n\\n\\n\\nI was never one for saying what I really feel\\nExcept tonight I'm bringing everything I know that's real\\n\\nStars they come and go\\nThey come fast\\nThey come slow\\nThey go like the last light of the sun\\nAll in a blaze\\nAnd all you see is glory\\nHey, but it gets lonely here\\nWhen there's no one here to share\\nYou can shake it all away if you will hear my story\\nSome people ask for fame like athlete's in a game\\nWe break our collarbones and come up swinging\\nSome of us are downed some of us a crowned\\nAnd some are lost and never found but most have seen it all\\nThey live there lives in sad cafe's and music halls\\nThey always come up singing\\nSome make it when they're young before the world has done its dirty job\\nLater on someone will say you've had your day,\\nAnd now you must make way\\nBut they will never know the pain of living\\nWith a name you'd never own\\nOr the many years forgetting\\nWhat you know too well\\nThat the ones who get the crown\\nHave been let down\\nYet try to make amends\\nWithout defending\\nPerhaps pretending\\nYou never saw the eyes\\nOf grown men of twenty-five\\nThat follow as you walk\\nAnd ask for autographs\\nOr kiss you on the cheek\\nBut you never can believe\\nThey really love you\\nSome make it when they're old\\nPerhaps they have a soul\\nThey're not afraid to bear\\nOr perhaps there's nothing there\\n\\nStars they come and go\\nThey come fast\\nThey come slow\\nThey go like the last light of the sun\\nAll in a blaze\\nAnd all you see is glory\\n\\nBut most have seen it all\\nThey live there lives\\nIn sad cafe's and music halls\\nThey always come up singing\\nSinging\\nSinging\\nSinging  \n",
       "3                                                                                                                                                                                                                                                                                                                                                                                                                                                                                                                                                                                                                                                                                                                                                                                                        \"These Days\"\\n\\n\\n\\nWell I've been out walking \\nAnd I don't do that much talking \\nThese days these days \\nThese days I seem to think a lot \\nAbout the things that I forgot to do \\nOh, honey, for you \\nAnd all the times I had \\nThe chance to \\n\\nWell I had a lover \\nLord, It's to hard to risk another \\nThese days oh, these days \\nAnd if I seem to be afraid \\nTo live the life I have made in song \\nOh yeah \\nWell it's just that I've been losing \\nLosing for so long \\n\\nAnd I wonder if I'll ever \\nSee another highway \\n\\nWell, now I'll keep on moving \\nLord, things are bound to be improving \\nThese days one of these days \\nThese days I sit on corner stones \\nI count the time in quarter tones till ten \\nMy sweet friend \\nPlease don't confront me with my failures \\nI've not forgotten them \\nI've not forgotten them \\nI've not forgotten them \\nOh oh  \n",
       "4                                                                                                                                                                                                                                                                                                                                                                                                                                                                                                                                                                                                                                                                                                                                                                                                                     \"Love So High\"\\n\\n\\n\\nEvery morning I would wake up\\nAnd I'd tie the sun around a cup\\nAnd I felt your love higher than the sky\\nNo one in this world but you and I\\nHad tasted love so sweet\\nYou held me softer than the rain\\n\\nMi amore my love never dies\\nMi amore look into my eyes\\n\\nWe had a love so high\\nI could never walk away\\nA love so high\\nI could reach out and touch the sky\\nTell me why\\nI said a little prayer for you and I\\n\\nA love so high\\n\\nNow I wake up in the middle of the night\\nYour face in front of me\\nLike a candle burning brighter than the flame\\nAnd I see everything inside your eyes\\nYour smiles your touch your alibis\\nAnd I wish that I could be with me all night\\nMi amore I wish that I could fly\\nMi amore look into my eyes\\n\\nTell me why\\nI can't see you anymore\\nTime's ticking away\\nI still want you everyday  "
      ]
     },
     "execution_count": 147,
     "metadata": {},
     "output_type": "execute_result"
    }
   ],
   "source": [
    "# create a dataframe based on the data lists\n",
    "df_cher = pd.DataFrame(data, columns=['Filename', 'Text'])\n",
    "\n",
    "df_cher.head()"
   ]
  },
  {
   "cell_type": "code",
   "execution_count": 148,
   "id": "0e8a9a82",
   "metadata": {},
   "outputs": [
    {
     "data": {
      "text/plain": [
       "(316, 2)"
      ]
     },
     "execution_count": 148,
     "metadata": {},
     "output_type": "execute_result"
    }
   ],
   "source": [
    "# check the shape\n",
    "df_cher.shape"
   ]
  },
  {
   "cell_type": "code",
   "execution_count": 149,
   "id": "37d70801",
   "metadata": {},
   "outputs": [
    {
     "data": {
      "text/html": [
       "<div>\n",
       "<style scoped>\n",
       "    .dataframe tbody tr th:only-of-type {\n",
       "        vertical-align: middle;\n",
       "    }\n",
       "\n",
       "    .dataframe tbody tr th {\n",
       "        vertical-align: top;\n",
       "    }\n",
       "\n",
       "    .dataframe thead th {\n",
       "        text-align: right;\n",
       "    }\n",
       "</style>\n",
       "<table border=\"1\" class=\"dataframe\">\n",
       "  <thead>\n",
       "    <tr style=\"text-align: right;\">\n",
       "      <th></th>\n",
       "      <th>Filename</th>\n",
       "      <th>Text</th>\n",
       "    </tr>\n",
       "  </thead>\n",
       "  <tbody>\n",
       "    <tr>\n",
       "      <th>0</th>\n",
       "      <td>robyn_play.txt</td>\n",
       "      <td>\"Include Me Out\"\\n\\n\\n\\nIt is really very simple\\nJust a single pulse, repeated at a regular interval\\n\\nMmm, hmm\\nDon't include me out, no\\nDon't include me out\\n\\nOne time for the records and the hits\\nTwo for your money-maker, shake, boom\\nThree times for the lucky and the dead\\n\\nOne time for the sorry and safe\\nTwo for the beggar and his company\\nThree times for the sinner and the saint\\n\\nYeah, bow down all you wicked and the vain\\nBow to the miracle, the em, na, na\\nThree times and the devil will be gone\\n\\nOne time for the fire, bring it on\\nTwo for the boogie, gotta bang the beat\\nThree times for the ladies, show me some love\\n\\nTalking 'bout everyone, every day, all day\\n\\nAnd if your world should fall apart\\nThere's plenty room inside my heart\\nJust don't include me out\\nDon't include me out\\n\\nAnd if your world should fall apart\\nI still got room inside my heart\\nJust don't include me out\\nDon't include me out, d-d-don't include me out\\n\\nAll hail to the mamas who hold it down\\nHail to the pillar of the family\\nThis one's for the granny, take a bow\\n\\nOne time for the crazy and the bent\\nCome on, all you trannies click your heels for me\\nAll praise the fugeses and the gems\\n\\nTalking 'bout everyone, every day, all day, oh yeah\\n\\nAnd if your world should fall apart\\nThere's plenty room inside my heart\\nJust don't include me out\\nJust don't include me out\\n\\nAnd if your world should fall apart\\nI still got room inside my heart\\nJust don't include me out\\nDon't include me out, d-d-don't include me out\\n\\nCan I get a beat, beat for all of my watchamacallits\\nDoing whatever and with whoever they like?\\nCan I get a beat, beat for all of my watchamacallits\\nDoing whatever and with whoever they like?\\n\\nCan I get a bam, bam for all of my watchamacallits\\nDoing whatever and with whoever they like?\\nCan I get a bam, bam for all of my watchamacallits\\nDoing whatever and with whoever they like?\\n\\nI'm talking about everyone, every day, all day, hey\\n\\nAnd if your world should fall apart\\nThere's plenty room inside my heart\\nJust don't include me out\\nDon't include me out\\n\\nAnd if your world should fall apart\\nI still got room inside my heart\\nJust don't include me out\\nDon't include me out\\n\\nAnd if your world should fall apart\\nThere's plenty room inside my heart\\nJust don't include me out, hey, hey\\n\\nAnd if your world should fall apart\\nI still got room inside my heart, yeah\\nJust don't include me out, hey</td>\n",
       "    </tr>\n",
       "    <tr>\n",
       "      <th>1</th>\n",
       "      <td>robyn_play.txt</td>\n",
       "      <td>\"Electric\"\\n\\n\\n\\nElectric...\\n\\nIt's electric\\nIt's a natural high\\nElectric\\nWe don't always know why\\nElectric\\nKeep your ego aside\\nWell it's electric\\nIt's a thing you can't deny\\n\\nBlood boils without fire\\nDay come, day go\\nWithout your desire\\nDisturbs the flow\\nWhen in denial\\nNight falls,\\nFalls to take you higher\\n\\nIt's electric\\nIt's a natural high\\nElectric\\nWe don't always know why\\nElectric\\nKeep your ego aside\\nWell it's electric\\nIt's the thing you can't deny\\n\\nA hard question\\nNeeds an easy answer\\nRecognize, accept no need to censor\\nThe harder the fall\\nThe higher the bounce\\nSmooth moves\\nKeeps your buoyancy\\nYeah, keeps your balance\\nOhh ah\\n\\nIt's electric\\nIt's a natural high\\nElectric\\nWe don't always know why\\nElectric\\nKeep your ego aside\\nWell it's electric\\nIt's the thing you can't deny\\n\\nOhh\\nElectric\\nElectric (can't deny that it's so)\\nElectric (it's electric)\\nElectric (oooh yeah yeah yeah)\\n\\nIn the eyes of a child\\nAnd the love that moves\\nThe sun and the stars above\\nThat race your heart\\nSomebody dies\\nAnd you have to cry\\nWhen you think this is it\\nAnd then some other\\nShit just happens\\nYeah, it just happens, happens\\nThat's when\\n\\nIt's electric\\nIt's a natural high\\nElectric\\nWe don't always know why\\nElectric\\nKeep your ego aside\\nWell it's electric\\nIt's the thing you can't deny\\n\\nIt's electric\\nIt's a natural high\\nElectric\\nWe don't always know why\\nElectric\\nKeep your ego aside\\nWell it's electric\\nIt's the thing you can't deny\\n\\nElectric....</td>\n",
       "    </tr>\n",
       "    <tr>\n",
       "      <th>2</th>\n",
       "      <td>robyn_play.txt</td>\n",
       "      <td>\"Beach 2K20\"\\n\\n\\n\\n(So you wanna go out?\\nHow you gonna get there?\\nOK?\\nShould we call someone?\\nAlright\\nSo... OK)\\n\\n(Can't wait to go)\\n(OK\\nOK\\nSo... OK\\nOK\\nOK)\\n\\n(So you wanna go out?)\\nTo this cute place on the beach\\nThey do really nice food\\n(How you gonna get there?)\\nI mean, it's right on the beach\\nCome through, it'll be cool\\n(Should we call someone?)\\n(Hmm, OK)\\n\\n(This place on the beach\\nI gotta tell ya\\nThis place on the beach\\nIt's a party, baby\\nIt's a party)\\n\\n(So you wanna go out?\\nHow you gonna get there?\\nOK?\\nShould we call someone?\\nAlright\\nSo... OK)\\n\\n(Come down\\nDon't wait too long\\nWhat you wanna do, baby?\\nOh, yeah, yeah...\\nOK)\\n\\nTo this cute place on the beach\\nThey do really nice food\\nI mean, it's right on the beach\\nCome through, it'll be cool\\nTo this cute place on the beach\\nThey do really nice food\\nI mean, it's right on the beach\\nCome through, it'll be cool\\n\\n(So you wanna go out?\\nOK\\n(Let's go party)\\nShould we call someone?\\nAlright\\n(Let's go party)\\nOK)\\n\\nTo this cute place on the beach\\nThey do really nice food\\n(How you gonna get there?)\\nI mean, it's right on the beach\\nCome through, it'll be cool\\n(Should we call someone?)\\nTo this cute place on the beach\\nThey do really nice food\\nI mean, it's right on the beach\\nCome through, it'll be cool\\n(OK)\\n\\n(Party, party, party, party\\nThis place on the beach)\\n\\nLet's go party\\n(Let's go party)\\n(Party)\\n(Party)\\n\\nLet's go party\\n(Oh, yeah)\\nLet's go party\\nLet's go party\\n(Oh, yeah)\\nLet's go party\\n\\n(Let's go party)\\n(Let's go party)\\n(Oh, yeah)\\n(Party, baby)</td>\n",
       "    </tr>\n",
       "    <tr>\n",
       "      <th>3</th>\n",
       "      <td>robyn_play.txt</td>\n",
       "      <td>\"Love Kills\"\\n\\n\\n\\nIf you're looking for love\\nGet a heart made of steel 'cus you know that love kills\\nDon't go messing with love\\nIt'll hurt you for real, don't you know that love kills\\n\\nIf you're looking for love\\nGet a heart made of steel 'cus you know that love kills\\nDon't go messing with love\\nIt'll hurt you for real, don't you know that love kills\\n\\nProtect yourself, 'cus you'll wreck yourself\\nIn this cold, hard world, so check yourself\\nYou conceal your dreams and you shield yourself\\n'Til that one kind soul reveals itself\\n\\nProtect yourself, 'cus you'll wreck yourself\\nIn this cold, hard world, so check yourself\\nYou conceal your dreams and you shield yourself\\n'Til that one kind soul reveals itself\\n\\nIf you're looking for love\\nGet a heart made of steel 'cus you know that love kills\\nDon't go messing with love\\nIt'll hurt you for real, don't you know that love kills\\n\\nIf you're looking for love\\nGet a heart made of steel 'cus you know that love kills\\nDon't go messing with love\\nIt'll hurt you for real, don't you know that love kills\\n\\nMm, and I know when you're in to deep you still think of me, sometimes\\nStockholm syndrome and misery, there's a penalty for love crimes\\n\\nProtect yourself, 'cus you'll wreck yourself\\nIn this cold, hard world, so check yourself\\nYou conceal your dreams and you shield yourself\\n'Til that one kind soul reveals itself\\n\\nProtect yourself, 'cus you'll wreck yourself\\nIn this cold, hard world, so check yourself\\nYou conceal your dreams and you shield yourself\\n'Til that one kind soul reveals itself\\n\\nProtect yourself\\nSo check yourself\\n\\nMm, and I know when you're in to deep, is to think of me, sometimes\\nStockholm syndrome and misery, there's a penalty for love crimes\\n\\nProtect yourself, 'cus you'll wreck yourself\\nIn this cold, hard world, 'cus you know that love kills\\nYou conceal your dreams and you shield yourself\\nIn this cold, hard world, don't you know that love kills\\n\\nProtect yourself, 'cus you'll wreck yourself\\nIn this cold, hard world, 'cus you know that love kills\\nYou conceal your dreams and you shield yourself\\nIn this cold, hard world, don't you know that love kills\\n\\nProtect yourself, 'cus you'll wreck yourself\\nIn this cold, hard world, 'cus you know that love kills\\nYou conceal your dreams and you shield yourself\\nIn this cold, hard world, don't you know that love kills</td>\n",
       "    </tr>\n",
       "    <tr>\n",
       "      <th>4</th>\n",
       "      <td>robyn_play.txt</td>\n",
       "      <td>\"Time Machine\"\\n\\n\\n\\nHey, what did I do?\\nCan't believe the fit I just threw\\nStupid\\nWanted the reaction\\n\\nI remember the words\\nHow I said them, so they would hurt\\nBut then, I regret my actions\\n\\nIf I could press rewind\\nRewind the take\\nRedefine the line\\nWe make mistakes\\nTake it back in time, \\nJust one day ... hey\\n\\nSo all I need is a time machine\\nA one way track cause\\nI'm taking it back, taking it back\\nAll I want is a DeLorean\\nIf I could go just like that\\nI'll be taking it back, taking it back\\n\\nYeah who's laughing now?\\nDidn't think you'd actually go\\nStupid\\nMe and all my bitching\\n\\nSecond thoughts and regrets\\n?? but then\\nThis ain't science fiction\\n\\nIf I could press rewind\\nRewind the take\\nRedefine the line\\nWe make mistakes\\nTake it back in time, \\nJust one day ... hey\\n\\nSo all I need is a time machine\\nA one way track cause\\nI'm taking it back, taking it back\\nAll I want is a DeLorean\\nIf I could go just like that\\nI'll be taking it back, taking it back\\n\\nSo all I need is a time machine\\nA one way track cause\\nI'm taking it back, taking it back\\nAll I want is a DeLorean\\nIf I could go just like that\\nI'll be taking it back, taking it back</td>\n",
       "    </tr>\n",
       "  </tbody>\n",
       "</table>\n",
       "</div>"
      ],
      "text/plain": [
       "         Filename  \\\n",
       "0  robyn_play.txt   \n",
       "1  robyn_play.txt   \n",
       "2  robyn_play.txt   \n",
       "3  robyn_play.txt   \n",
       "4  robyn_play.txt   \n",
       "\n",
       "                                                                                                                                                                                                                                                                                                                                                                                                                                                                                                                                                                                                                                                                                                                                                                                                                                                                                                                                                                                                                                                                                                                                                                                                                                                                                                                                                                                                                                                                                                                                                                                                                                                                                                                                                                                                                                                                                                                                                                                                                                                                                                                                                                                                                                                                                                                                                                                                                                                                                                                                                     Text  \n",
       "0  \"Include Me Out\"\\n\\n\\n\\nIt is really very simple\\nJust a single pulse, repeated at a regular interval\\n\\nMmm, hmm\\nDon't include me out, no\\nDon't include me out\\n\\nOne time for the records and the hits\\nTwo for your money-maker, shake, boom\\nThree times for the lucky and the dead\\n\\nOne time for the sorry and safe\\nTwo for the beggar and his company\\nThree times for the sinner and the saint\\n\\nYeah, bow down all you wicked and the vain\\nBow to the miracle, the em, na, na\\nThree times and the devil will be gone\\n\\nOne time for the fire, bring it on\\nTwo for the boogie, gotta bang the beat\\nThree times for the ladies, show me some love\\n\\nTalking 'bout everyone, every day, all day\\n\\nAnd if your world should fall apart\\nThere's plenty room inside my heart\\nJust don't include me out\\nDon't include me out\\n\\nAnd if your world should fall apart\\nI still got room inside my heart\\nJust don't include me out\\nDon't include me out, d-d-don't include me out\\n\\nAll hail to the mamas who hold it down\\nHail to the pillar of the family\\nThis one's for the granny, take a bow\\n\\nOne time for the crazy and the bent\\nCome on, all you trannies click your heels for me\\nAll praise the fugeses and the gems\\n\\nTalking 'bout everyone, every day, all day, oh yeah\\n\\nAnd if your world should fall apart\\nThere's plenty room inside my heart\\nJust don't include me out\\nJust don't include me out\\n\\nAnd if your world should fall apart\\nI still got room inside my heart\\nJust don't include me out\\nDon't include me out, d-d-don't include me out\\n\\nCan I get a beat, beat for all of my watchamacallits\\nDoing whatever and with whoever they like?\\nCan I get a beat, beat for all of my watchamacallits\\nDoing whatever and with whoever they like?\\n\\nCan I get a bam, bam for all of my watchamacallits\\nDoing whatever and with whoever they like?\\nCan I get a bam, bam for all of my watchamacallits\\nDoing whatever and with whoever they like?\\n\\nI'm talking about everyone, every day, all day, hey\\n\\nAnd if your world should fall apart\\nThere's plenty room inside my heart\\nJust don't include me out\\nDon't include me out\\n\\nAnd if your world should fall apart\\nI still got room inside my heart\\nJust don't include me out\\nDon't include me out\\n\\nAnd if your world should fall apart\\nThere's plenty room inside my heart\\nJust don't include me out, hey, hey\\n\\nAnd if your world should fall apart\\nI still got room inside my heart, yeah\\nJust don't include me out, hey  \n",
       "1                                                                                                                                                                                                                                                                                                                                                                                                                                                                                                                                                                                                                                                                                                                                                                                                                                                                                                                                                                           \"Electric\"\\n\\n\\n\\nElectric...\\n\\nIt's electric\\nIt's a natural high\\nElectric\\nWe don't always know why\\nElectric\\nKeep your ego aside\\nWell it's electric\\nIt's a thing you can't deny\\n\\nBlood boils without fire\\nDay come, day go\\nWithout your desire\\nDisturbs the flow\\nWhen in denial\\nNight falls,\\nFalls to take you higher\\n\\nIt's electric\\nIt's a natural high\\nElectric\\nWe don't always know why\\nElectric\\nKeep your ego aside\\nWell it's electric\\nIt's the thing you can't deny\\n\\nA hard question\\nNeeds an easy answer\\nRecognize, accept no need to censor\\nThe harder the fall\\nThe higher the bounce\\nSmooth moves\\nKeeps your buoyancy\\nYeah, keeps your balance\\nOhh ah\\n\\nIt's electric\\nIt's a natural high\\nElectric\\nWe don't always know why\\nElectric\\nKeep your ego aside\\nWell it's electric\\nIt's the thing you can't deny\\n\\nOhh\\nElectric\\nElectric (can't deny that it's so)\\nElectric (it's electric)\\nElectric (oooh yeah yeah yeah)\\n\\nIn the eyes of a child\\nAnd the love that moves\\nThe sun and the stars above\\nThat race your heart\\nSomebody dies\\nAnd you have to cry\\nWhen you think this is it\\nAnd then some other\\nShit just happens\\nYeah, it just happens, happens\\nThat's when\\n\\nIt's electric\\nIt's a natural high\\nElectric\\nWe don't always know why\\nElectric\\nKeep your ego aside\\nWell it's electric\\nIt's the thing you can't deny\\n\\nIt's electric\\nIt's a natural high\\nElectric\\nWe don't always know why\\nElectric\\nKeep your ego aside\\nWell it's electric\\nIt's the thing you can't deny\\n\\nElectric....  \n",
       "2                                                                                                                                                                                                                                                                                                                                                                                                                                                                                                                                                                                                                                                                                                                                                                                                                                                                                                  \"Beach 2K20\"\\n\\n\\n\\n(So you wanna go out?\\nHow you gonna get there?\\nOK?\\nShould we call someone?\\nAlright\\nSo... OK)\\n\\n(Can't wait to go)\\n(OK\\nOK\\nSo... OK\\nOK\\nOK)\\n\\n(So you wanna go out?)\\nTo this cute place on the beach\\nThey do really nice food\\n(How you gonna get there?)\\nI mean, it's right on the beach\\nCome through, it'll be cool\\n(Should we call someone?)\\n(Hmm, OK)\\n\\n(This place on the beach\\nI gotta tell ya\\nThis place on the beach\\nIt's a party, baby\\nIt's a party)\\n\\n(So you wanna go out?\\nHow you gonna get there?\\nOK?\\nShould we call someone?\\nAlright\\nSo... OK)\\n\\n(Come down\\nDon't wait too long\\nWhat you wanna do, baby?\\nOh, yeah, yeah...\\nOK)\\n\\nTo this cute place on the beach\\nThey do really nice food\\nI mean, it's right on the beach\\nCome through, it'll be cool\\nTo this cute place on the beach\\nThey do really nice food\\nI mean, it's right on the beach\\nCome through, it'll be cool\\n\\n(So you wanna go out?\\nOK\\n(Let's go party)\\nShould we call someone?\\nAlright\\n(Let's go party)\\nOK)\\n\\nTo this cute place on the beach\\nThey do really nice food\\n(How you gonna get there?)\\nI mean, it's right on the beach\\nCome through, it'll be cool\\n(Should we call someone?)\\nTo this cute place on the beach\\nThey do really nice food\\nI mean, it's right on the beach\\nCome through, it'll be cool\\n(OK)\\n\\n(Party, party, party, party\\nThis place on the beach)\\n\\nLet's go party\\n(Let's go party)\\n(Party)\\n(Party)\\n\\nLet's go party\\n(Oh, yeah)\\nLet's go party\\nLet's go party\\n(Oh, yeah)\\nLet's go party\\n\\n(Let's go party)\\n(Let's go party)\\n(Oh, yeah)\\n(Party, baby)  \n",
       "3                                                                        \"Love Kills\"\\n\\n\\n\\nIf you're looking for love\\nGet a heart made of steel 'cus you know that love kills\\nDon't go messing with love\\nIt'll hurt you for real, don't you know that love kills\\n\\nIf you're looking for love\\nGet a heart made of steel 'cus you know that love kills\\nDon't go messing with love\\nIt'll hurt you for real, don't you know that love kills\\n\\nProtect yourself, 'cus you'll wreck yourself\\nIn this cold, hard world, so check yourself\\nYou conceal your dreams and you shield yourself\\n'Til that one kind soul reveals itself\\n\\nProtect yourself, 'cus you'll wreck yourself\\nIn this cold, hard world, so check yourself\\nYou conceal your dreams and you shield yourself\\n'Til that one kind soul reveals itself\\n\\nIf you're looking for love\\nGet a heart made of steel 'cus you know that love kills\\nDon't go messing with love\\nIt'll hurt you for real, don't you know that love kills\\n\\nIf you're looking for love\\nGet a heart made of steel 'cus you know that love kills\\nDon't go messing with love\\nIt'll hurt you for real, don't you know that love kills\\n\\nMm, and I know when you're in to deep you still think of me, sometimes\\nStockholm syndrome and misery, there's a penalty for love crimes\\n\\nProtect yourself, 'cus you'll wreck yourself\\nIn this cold, hard world, so check yourself\\nYou conceal your dreams and you shield yourself\\n'Til that one kind soul reveals itself\\n\\nProtect yourself, 'cus you'll wreck yourself\\nIn this cold, hard world, so check yourself\\nYou conceal your dreams and you shield yourself\\n'Til that one kind soul reveals itself\\n\\nProtect yourself\\nSo check yourself\\n\\nMm, and I know when you're in to deep, is to think of me, sometimes\\nStockholm syndrome and misery, there's a penalty for love crimes\\n\\nProtect yourself, 'cus you'll wreck yourself\\nIn this cold, hard world, 'cus you know that love kills\\nYou conceal your dreams and you shield yourself\\nIn this cold, hard world, don't you know that love kills\\n\\nProtect yourself, 'cus you'll wreck yourself\\nIn this cold, hard world, 'cus you know that love kills\\nYou conceal your dreams and you shield yourself\\nIn this cold, hard world, don't you know that love kills\\n\\nProtect yourself, 'cus you'll wreck yourself\\nIn this cold, hard world, 'cus you know that love kills\\nYou conceal your dreams and you shield yourself\\nIn this cold, hard world, don't you know that love kills  \n",
       "4                                                                                                                                                                                                                                                                                                                                                                                                                                                                                                                                                                                                                                                                                                                                                                                                                                                                                                                                                                                                                                                                                                                                                                                                                                                                                                                      \"Time Machine\"\\n\\n\\n\\nHey, what did I do?\\nCan't believe the fit I just threw\\nStupid\\nWanted the reaction\\n\\nI remember the words\\nHow I said them, so they would hurt\\nBut then, I regret my actions\\n\\nIf I could press rewind\\nRewind the take\\nRedefine the line\\nWe make mistakes\\nTake it back in time, \\nJust one day ... hey\\n\\nSo all I need is a time machine\\nA one way track cause\\nI'm taking it back, taking it back\\nAll I want is a DeLorean\\nIf I could go just like that\\nI'll be taking it back, taking it back\\n\\nYeah who's laughing now?\\nDidn't think you'd actually go\\nStupid\\nMe and all my bitching\\n\\nSecond thoughts and regrets\\n?? but then\\nThis ain't science fiction\\n\\nIf I could press rewind\\nRewind the take\\nRedefine the line\\nWe make mistakes\\nTake it back in time, \\nJust one day ... hey\\n\\nSo all I need is a time machine\\nA one way track cause\\nI'm taking it back, taking it back\\nAll I want is a DeLorean\\nIf I could go just like that\\nI'll be taking it back, taking it back\\n\\nSo all I need is a time machine\\nA one way track cause\\nI'm taking it back, taking it back\\nAll I want is a DeLorean\\nIf I could go just like that\\nI'll be taking it back, taking it back  "
      ]
     },
     "execution_count": 149,
     "metadata": {},
     "output_type": "execute_result"
    }
   ],
   "source": [
    "# now do the same for robyn\n",
    "\n",
    "directory_path = \"M1 Results/lyrics/robyn/\"\n",
    "\n",
    "filenames = []\n",
    "\n",
    "for filename in os.listdir(directory_path):\n",
    "    filenames.append(filename)\n",
    "\n",
    "file_paths = []\n",
    "\n",
    "for filename in filenames:\n",
    "    file_path = os.path.join(directory_path, filename)\n",
    "    file_paths.append(file_path)\n",
    "\n",
    "data = []\n",
    "\n",
    "for file_path in file_paths:    \n",
    "    with open(file_path, 'r', encoding='utf-8') as file:\n",
    "        text = file.read().strip()\n",
    "        data.append([filename, text])\n",
    "\n",
    "df_robyn = pd.DataFrame(data, columns=['Filename', 'Text'])\n",
    "df_robyn.head()"
   ]
  },
  {
   "cell_type": "code",
   "execution_count": 150,
   "id": "51fd403f",
   "metadata": {},
   "outputs": [
    {
     "data": {
      "text/plain": [
       "(104, 2)"
      ]
     },
     "execution_count": 150,
     "metadata": {},
     "output_type": "execute_result"
    }
   ],
   "source": [
    "df_robyn.shape"
   ]
  },
  {
   "cell_type": "code",
   "execution_count": 209,
   "id": "3a7539c9",
   "metadata": {},
   "outputs": [
    {
     "data": {
      "text/plain": [
       "(420, 2)"
      ]
     },
     "execution_count": 209,
     "metadata": {},
     "output_type": "execute_result"
    }
   ],
   "source": [
    "# union the two df's together so we have one complete df for both artists\n",
    "df_lyrics = pd.concat([df_cher, df_robyn], ignore_index=True)\n",
    "df_lyrics.shape"
   ]
  },
  {
   "cell_type": "code",
   "execution_count": 152,
   "id": "88d54c44",
   "metadata": {},
   "outputs": [
    {
     "data": {
      "text/plain": [
       "['.DS_Store',\n",
       " 'cher_followers_data.txt',\n",
       " 'robynkonichiwa_followers_data.txt',\n",
       " 'cher_followers.txt',\n",
       " 'robynkonichiwa_followers.txt']"
      ]
     },
     "execution_count": 152,
     "metadata": {},
     "output_type": "execute_result"
    }
   ],
   "source": [
    "# Read in the twitter data\n",
    "\n",
    "# set path, same process as earlier with lyrics data\n",
    "directory_path = \"M1 Results/twitter\"\n",
    "\n",
    "filenames = []\n",
    "\n",
    "for filename in os.listdir(directory_path):\n",
    "    filenames.append(filename)\n",
    "\n",
    "filenames"
   ]
  },
  {
   "cell_type": "code",
   "execution_count": 153,
   "id": "b16ff97e",
   "metadata": {},
   "outputs": [],
   "source": [
    "# remove extraneous file\n",
    "filenames.remove('.DS_Store')"
   ]
  },
  {
   "cell_type": "markdown",
   "id": "72411ba4",
   "metadata": {},
   "source": [
    "#### This part crashes whenever I try to run it so it will not work"
   ]
  },
  {
   "cell_type": "raw",
   "id": "9fc876c5",
   "metadata": {},
   "source": [
    "# Initialize an empty list to store data\n",
    "\n",
    "file_paths = []\n",
    "\n",
    "for filename in filenames:\n",
    "    file_path = os.path.join(directory_path, filename)\n",
    "    file_paths.append(file_path)\n",
    "\n",
    "file_paths"
   ]
  },
  {
   "cell_type": "raw",
   "id": "5751ddc8",
   "metadata": {},
   "source": [
    "data = []\n",
    "\n",
    "for file_path in file_paths:    \n",
    "    with open(file_path, 'r', encoding='utf-8') as file:\n",
    "        text = file.read().strip()  # Read the entire file and strip trailing spaces/newlines\n",
    "        data.append([filename, text])  # Append filename and file content as a list\n",
    "\n",
    "data"
   ]
  },
  {
   "cell_type": "raw",
   "id": "d029c4cc",
   "metadata": {},
   "source": [
    "data.head()"
   ]
  },
  {
   "cell_type": "markdown",
   "id": "a13a88e8",
   "metadata": {},
   "source": [
    "#### So instead, I will just take text from a single file as an example"
   ]
  },
  {
   "cell_type": "code",
   "execution_count": 154,
   "id": "c194378c",
   "metadata": {},
   "outputs": [],
   "source": [
    "twitter_text = \"\"\"\n",
    "    hsmcnp\tCountry Girl\t35152213\t\t1302\t1014\t\n",
    "    horrormomy\tJeny\t742153090850164742\tEarth\t81\t514\t𝙿𝚛𝚘𝚞𝚍 𝚜𝚞𝚙𝚙𝚘𝚛𝚝𝚎𝚛 𝚘𝚏 𝚖𝚎𝚜𝚜𝚢 𝚋𝚞𝚗𝚜 & 𝚕𝚎𝚐𝚐𝚒𝚗𝚐𝚜\n",
    "    anju79990584\tanju\t1496463006451974150\t\t13\t140\t163㎝／愛かっぷ💜26歳🍒 工〇好きな女の子💓 フォローしてくれたらDMします🧡\n",
    "    gallionjenna\tJ\t3366479914\t\t752\t556\tcsu\n",
    "    bcscomm\tbcscomm\t83915043\tWashington, DC\t888\t2891\tWriter @Washinformer @SpelmanCollege alumna #DCnative Award-winning journalist & PR pro @IABC Fellow & Past Chair IG: bcscomm Email: wibsiler@gmail.com\n",
    "    liaochaoqun2\t廖超群\t1502787622376075264\tTaiwan\t2\t390\t\n",
    "    Rodhandyjj\tArt Vandalay 🇺🇦🇺🇦🇺🇦\t1386454132022824962\tMaine, USA\t104\t159\tI’m unemployed and live with my parents. MOOPS!\n",
    "    JackBianchi7\tJackson\t1200870825953550336\t\t0\t7\tzoowee mama\n",
    "    MelbaBu81266475\tMelba Burns\t1492913469166743554\t\t17\t136\t\n",
    "    macryant900\tSpyderRyder\t3425156986\t🇨🇦\t628\t794\tLet the healing begin. Let us learn from the past. 🇨🇦 follower of #TheResistance\n",
    "    notdevilanse\tAmanda 😇\t916870029123211264\t\t13\t110\tdo what thou wilt. 🖤✨\n",
    "    dickgirIdiaries\tdickgirldiaries\t1098760805162471424\t\t480\t212\t\n",
    "    bloomingrx\tRoxana M 🇺🇦🇨🇦\t1489642891437817859\tDelisle, Saskatchewan\t16\t163\tCurious Canadian Contemplator. She/Her. Sexagenarian. We are here for each other!\n",
    "    nurb43211\tnurb4321\t1502808896292937730\t\t0\t110\t\n",
    "    ERParker3\tedieparker\t16700926\t\t7\t236\t\n",
    "    m4ggots4br4ins\temma\t1112046229985218560\tCalifornia, USA\t40\t52\t\n",
    "    eyoTTracy\tTracy Nicole\t1449604704049065984\t\t18\t368\t\n",
    "    Taliaasaurus\tΣκουπίδια\t332397786\t\t134\t314\t(She/Her/Hers) Feminist. LGBTQ+. BLM. Mental health advocate. Do something nice for somebody today :)\n",
    "\"\"\""
   ]
  },
  {
   "cell_type": "markdown",
   "id": "6a5f3b12",
   "metadata": {},
   "source": [
    "## Data Cleaning\n",
    "\n",
    "Now clean and tokenize your data. Remove punctuation chacters (available in the `punctuation` object in the `string` library), split on whitespace, fold to lowercase, and remove stopwords. Store your cleaned data, which must be accessible as an interable for `descriptive_stats`, in new objects or in new columns in your data frame. \n",
    "\n"
   ]
  },
  {
   "cell_type": "markdown",
   "id": "61f610a6",
   "metadata": {},
   "source": [
    "#### cleaning lyrics data"
   ]
  },
  {
   "cell_type": "code",
   "execution_count": 211,
   "id": "4b3afb2d",
   "metadata": {},
   "outputs": [
    {
     "data": {
      "text/html": [
       "<div>\n",
       "<style scoped>\n",
       "    .dataframe tbody tr th:only-of-type {\n",
       "        vertical-align: middle;\n",
       "    }\n",
       "\n",
       "    .dataframe tbody tr th {\n",
       "        vertical-align: top;\n",
       "    }\n",
       "\n",
       "    .dataframe thead th {\n",
       "        text-align: right;\n",
       "    }\n",
       "</style>\n",
       "<table border=\"1\" class=\"dataframe\">\n",
       "  <thead>\n",
       "    <tr style=\"text-align: right;\">\n",
       "      <th></th>\n",
       "      <th>Filename</th>\n",
       "      <th>Text</th>\n",
       "    </tr>\n",
       "  </thead>\n",
       "  <tbody>\n",
       "    <tr>\n",
       "      <th>0</th>\n",
       "      <td>cher_classified1a.txt</td>\n",
       "      <td>\"Come And Stay With Me\"\\n\\n\\n\\nI'll send away all my false pride\\nAnd I'll forsake all of my life\\nYes I'll be as true as true can be\\nIf you'll come and stay with me\\n\\nAll lovers of the past, I'll leave behind\\nThey'll never be another on my mind\\nI'll do all I can so you'll feel free\\nIf you'll come and stay with me\\n\\nThe promise I made most faithfully\\nI'll keep still if you decide to leave\\nI'll try and see that you have all you need\\nIf you'll come and stay with me\\n\\nYes I'll be as true as true can be\\nIf you'll come and stay with me\\n\\nLive a life no others have ever known\\nBut I know you think that I'm hardly grown\\nOh thank God at last and finally\\nI can see you're gonna stay with me\\nI can see you're gonna stay with me</td>\n",
       "    </tr>\n",
       "  </tbody>\n",
       "</table>\n",
       "</div>"
      ],
      "text/plain": [
       "                Filename  \\\n",
       "0  cher_classified1a.txt   \n",
       "\n",
       "                                                                                                                                                                                                                                                                                                                                                                                                                                                                                                                                                                                                                                                                                                                                                                   Text  \n",
       "0  \"Come And Stay With Me\"\\n\\n\\n\\nI'll send away all my false pride\\nAnd I'll forsake all of my life\\nYes I'll be as true as true can be\\nIf you'll come and stay with me\\n\\nAll lovers of the past, I'll leave behind\\nThey'll never be another on my mind\\nI'll do all I can so you'll feel free\\nIf you'll come and stay with me\\n\\nThe promise I made most faithfully\\nI'll keep still if you decide to leave\\nI'll try and see that you have all you need\\nIf you'll come and stay with me\\n\\nYes I'll be as true as true can be\\nIf you'll come and stay with me\\n\\nLive a life no others have ever known\\nBut I know you think that I'm hardly grown\\nOh thank God at last and finally\\nI can see you're gonna stay with me\\nI can see you're gonna stay with me  "
      ]
     },
     "execution_count": 211,
     "metadata": {},
     "output_type": "execute_result"
    }
   ],
   "source": [
    "df_lyrics[:1]"
   ]
  },
  {
   "cell_type": "code",
   "execution_count": 212,
   "id": "5721f7ba",
   "metadata": {},
   "outputs": [
    {
     "data": {
      "text/html": [
       "<div>\n",
       "<style scoped>\n",
       "    .dataframe tbody tr th:only-of-type {\n",
       "        vertical-align: middle;\n",
       "    }\n",
       "\n",
       "    .dataframe tbody tr th {\n",
       "        vertical-align: top;\n",
       "    }\n",
       "\n",
       "    .dataframe thead th {\n",
       "        text-align: right;\n",
       "    }\n",
       "</style>\n",
       "<table border=\"1\" class=\"dataframe\">\n",
       "  <thead>\n",
       "    <tr style=\"text-align: right;\">\n",
       "      <th></th>\n",
       "      <th>Filename</th>\n",
       "      <th>Text</th>\n",
       "    </tr>\n",
       "  </thead>\n",
       "  <tbody>\n",
       "    <tr>\n",
       "      <th>0</th>\n",
       "      <td>cher_classified1a.txt</td>\n",
       "      <td>\"Come And Stay With Me\" I'll send away all my false pride And I'll forsake all of my life Yes I'll be as true as true can be If you'll come and stay with me All lovers of the past, I'll leave behind They'll never be another on my mind I'll do all I can so you'll feel free If you'll come and stay with me The promise I made most faithfully I'll keep still if you decide to leave I'll try and see that you have all you need If you'll come and stay with me Yes I'll be as true as true can be If you'll come and stay with me Live a life no others have ever known But I know you think that I'm hardly grown Oh thank God at last and finally I can see you're gonna stay with me I can see you're gonna stay with me</td>\n",
       "    </tr>\n",
       "  </tbody>\n",
       "</table>\n",
       "</div>"
      ],
      "text/plain": [
       "                Filename  \\\n",
       "0  cher_classified1a.txt   \n",
       "\n",
       "                                                                                                                                                                                                                                                                                                                                                                                                                                                                                                                                                                                                                                                                                                                                  Text  \n",
       "0  \"Come And Stay With Me\" I'll send away all my false pride And I'll forsake all of my life Yes I'll be as true as true can be If you'll come and stay with me All lovers of the past, I'll leave behind They'll never be another on my mind I'll do all I can so you'll feel free If you'll come and stay with me The promise I made most faithfully I'll keep still if you decide to leave I'll try and see that you have all you need If you'll come and stay with me Yes I'll be as true as true can be If you'll come and stay with me Live a life no others have ever known But I know you think that I'm hardly grown Oh thank God at last and finally I can see you're gonna stay with me I can see you're gonna stay with me  "
      ]
     },
     "execution_count": 212,
     "metadata": {},
     "output_type": "execute_result"
    }
   ],
   "source": [
    "# replace all the \\n with a space and then concatenating them into one single line\n",
    "df_lyrics['Text'] = df_lyrics['Text'].str.replace(r'\\n+', ' ', regex=True).str.strip()\n",
    "df_lyrics[:1]"
   ]
  },
  {
   "cell_type": "code",
   "execution_count": 180,
   "id": "71c73d86",
   "metadata": {},
   "outputs": [
    {
     "data": {
      "text/plain": [
       "{'!',\n",
       " '\"',\n",
       " '#',\n",
       " '$',\n",
       " '%',\n",
       " '&',\n",
       " \"'\",\n",
       " '(',\n",
       " ')',\n",
       " '*',\n",
       " '+',\n",
       " ',',\n",
       " '-',\n",
       " '.',\n",
       " '/',\n",
       " ':',\n",
       " ';',\n",
       " '<',\n",
       " '=',\n",
       " '>',\n",
       " '?',\n",
       " '@',\n",
       " '[',\n",
       " '\\\\',\n",
       " ']',\n",
       " '^',\n",
       " '_',\n",
       " '`',\n",
       " '{',\n",
       " '|',\n",
       " '}',\n",
       " '~'}"
      ]
     },
     "execution_count": 180,
     "metadata": {},
     "output_type": "execute_result"
    }
   ],
   "source": [
    "punctuation = set(punctuation) # speeds up comparison\n",
    "punctuation"
   ]
  },
  {
   "cell_type": "code",
   "execution_count": 163,
   "id": "d031c909",
   "metadata": {},
   "outputs": [
    {
     "data": {
      "text/plain": [
       "'[.%]<\\\\-!\"&{\\'/}~;_$,:=[>?|#*^)+(`@]'"
      ]
     },
     "execution_count": 163,
     "metadata": {},
     "output_type": "execute_result"
    }
   ],
   "source": [
    "# convert the set into a single string\n",
    "punctuation_pattern = '[' + ''.join(punctuation) + ']'\n",
    "punctuation_pattern"
   ]
  },
  {
   "cell_type": "code",
   "execution_count": 213,
   "id": "83ec5bd9",
   "metadata": {},
   "outputs": [
    {
     "data": {
      "text/html": [
       "<div>\n",
       "<style scoped>\n",
       "    .dataframe tbody tr th:only-of-type {\n",
       "        vertical-align: middle;\n",
       "    }\n",
       "\n",
       "    .dataframe tbody tr th {\n",
       "        vertical-align: top;\n",
       "    }\n",
       "\n",
       "    .dataframe thead th {\n",
       "        text-align: right;\n",
       "    }\n",
       "</style>\n",
       "<table border=\"1\" class=\"dataframe\">\n",
       "  <thead>\n",
       "    <tr style=\"text-align: right;\">\n",
       "      <th></th>\n",
       "      <th>Filename</th>\n",
       "      <th>Text</th>\n",
       "    </tr>\n",
       "  </thead>\n",
       "  <tbody>\n",
       "    <tr>\n",
       "      <th>0</th>\n",
       "      <td>cher_classified1a.txt</td>\n",
       "      <td>\"Come And Stay With Me\" I'll send away all my false pride And I'll forsake all of my life Yes I'll be as true as true can be If you'll come and stay with me All lovers of the past, I'll leave behind They'll never be another on my mind I'll do all I can so you'll feel free If you'll come and stay with me The promise I made most faithfully I'll keep still if you decide to leave I'll try and see that you have all you need If you'll come and stay with me Yes I'll be as true as true can be If you'll come and stay with me Live a life no others have ever known But I know you think that I'm hardly grown Oh thank God at last and finally I can see you're gonna stay with me I can see you're gonna stay with me</td>\n",
       "    </tr>\n",
       "  </tbody>\n",
       "</table>\n",
       "</div>"
      ],
      "text/plain": [
       "                Filename  \\\n",
       "0  cher_classified1a.txt   \n",
       "\n",
       "                                                                                                                                                                                                                                                                                                                                                                                                                                                                                                                                                                                                                                                                                                                                  Text  \n",
       "0  \"Come And Stay With Me\" I'll send away all my false pride And I'll forsake all of my life Yes I'll be as true as true can be If you'll come and stay with me All lovers of the past, I'll leave behind They'll never be another on my mind I'll do all I can so you'll feel free If you'll come and stay with me The promise I made most faithfully I'll keep still if you decide to leave I'll try and see that you have all you need If you'll come and stay with me Yes I'll be as true as true can be If you'll come and stay with me Live a life no others have ever known But I know you think that I'm hardly grown Oh thank God at last and finally I can see you're gonna stay with me I can see you're gonna stay with me  "
      ]
     },
     "execution_count": 213,
     "metadata": {},
     "output_type": "execute_result"
    }
   ],
   "source": [
    "# remove all punctuation from the text field\n",
    "df_lyrics['Text'] = df_lyrics['Text'].str.replace(punctuation_pattern, '', regex=True)\n",
    "df_lyrics[:1]"
   ]
  },
  {
   "cell_type": "code",
   "execution_count": 214,
   "id": "a3676730",
   "metadata": {},
   "outputs": [
    {
     "data": {
      "text/html": [
       "<div>\n",
       "<style scoped>\n",
       "    .dataframe tbody tr th:only-of-type {\n",
       "        vertical-align: middle;\n",
       "    }\n",
       "\n",
       "    .dataframe tbody tr th {\n",
       "        vertical-align: top;\n",
       "    }\n",
       "\n",
       "    .dataframe thead th {\n",
       "        text-align: right;\n",
       "    }\n",
       "</style>\n",
       "<table border=\"1\" class=\"dataframe\">\n",
       "  <thead>\n",
       "    <tr style=\"text-align: right;\">\n",
       "      <th></th>\n",
       "      <th>Filename</th>\n",
       "      <th>Text</th>\n",
       "      <th>Tokens</th>\n",
       "    </tr>\n",
       "  </thead>\n",
       "  <tbody>\n",
       "    <tr>\n",
       "      <th>0</th>\n",
       "      <td>cher_classified1a.txt</td>\n",
       "      <td>\"Come And Stay With Me\" I'll send away all my false pride And I'll forsake all of my life Yes I'll be as true as true can be If you'll come and stay with me All lovers of the past, I'll leave behind They'll never be another on my mind I'll do all I can so you'll feel free If you'll come and stay with me The promise I made most faithfully I'll keep still if you decide to leave I'll try and see that you have all you need If you'll come and stay with me Yes I'll be as true as true can be If you'll come and stay with me Live a life no others have ever known But I know you think that I'm hardly grown Oh thank God at last and finally I can see you're gonna stay with me I can see you're gonna stay with me</td>\n",
       "      <td>[\"Come, And, Stay, With, Me\", I'll, send, away, all, my, false, pride, And, I'll, forsake, all, of, my, life, Yes, I'll, be, as, true, as, true, can, be, If, you'll, come, and, stay, with, me, All, lovers, of, the, past,, I'll, leave, behind, They'll, never, be, another, on, my, mind, I'll, do, all, I, can, so, you'll, feel, free, If, you'll, come, and, stay, with, me, The, promise, I, made, most, faithfully, I'll, keep, still, if, you, decide, to, leave, I'll, try, and, see, that, you, have, all, you, need, If, you'll, come, and, stay, with, me, Yes, I'll, be, ...]</td>\n",
       "    </tr>\n",
       "  </tbody>\n",
       "</table>\n",
       "</div>"
      ],
      "text/plain": [
       "                Filename  \\\n",
       "0  cher_classified1a.txt   \n",
       "\n",
       "                                                                                                                                                                                                                                                                                                                                                                                                                                                                                                                                                                                                                                                                                                                                  Text  \\\n",
       "0  \"Come And Stay With Me\" I'll send away all my false pride And I'll forsake all of my life Yes I'll be as true as true can be If you'll come and stay with me All lovers of the past, I'll leave behind They'll never be another on my mind I'll do all I can so you'll feel free If you'll come and stay with me The promise I made most faithfully I'll keep still if you decide to leave I'll try and see that you have all you need If you'll come and stay with me Yes I'll be as true as true can be If you'll come and stay with me Live a life no others have ever known But I know you think that I'm hardly grown Oh thank God at last and finally I can see you're gonna stay with me I can see you're gonna stay with me   \n",
       "\n",
       "                                                                                                                                                                                                                                                                                                                                                                                                                                                                                                                                                                                         Tokens  \n",
       "0  [\"Come, And, Stay, With, Me\", I'll, send, away, all, my, false, pride, And, I'll, forsake, all, of, my, life, Yes, I'll, be, as, true, as, true, can, be, If, you'll, come, and, stay, with, me, All, lovers, of, the, past,, I'll, leave, behind, They'll, never, be, another, on, my, mind, I'll, do, all, I, can, so, you'll, feel, free, If, you'll, come, and, stay, with, me, The, promise, I, made, most, faithfully, I'll, keep, still, if, you, decide, to, leave, I'll, try, and, see, that, you, have, all, you, need, If, you'll, come, and, stay, with, me, Yes, I'll, be, ...]  "
      ]
     },
     "execution_count": 214,
     "metadata": {},
     "output_type": "execute_result"
    }
   ],
   "source": [
    "# split texts on whitespace to create tokens\n",
    "df_lyrics['Tokens'] = df_lyrics['Text'].str.split()\n",
    "df_lyrics[:1]"
   ]
  },
  {
   "cell_type": "code",
   "execution_count": 215,
   "id": "e21e01e8",
   "metadata": {},
   "outputs": [
    {
     "data": {
      "text/html": [
       "<div>\n",
       "<style scoped>\n",
       "    .dataframe tbody tr th:only-of-type {\n",
       "        vertical-align: middle;\n",
       "    }\n",
       "\n",
       "    .dataframe tbody tr th {\n",
       "        vertical-align: top;\n",
       "    }\n",
       "\n",
       "    .dataframe thead th {\n",
       "        text-align: right;\n",
       "    }\n",
       "</style>\n",
       "<table border=\"1\" class=\"dataframe\">\n",
       "  <thead>\n",
       "    <tr style=\"text-align: right;\">\n",
       "      <th></th>\n",
       "      <th>Filename</th>\n",
       "      <th>Text</th>\n",
       "      <th>Tokens</th>\n",
       "    </tr>\n",
       "  </thead>\n",
       "  <tbody>\n",
       "    <tr>\n",
       "      <th>0</th>\n",
       "      <td>cher_classified1a.txt</td>\n",
       "      <td>\"Come And Stay With Me\" I'll send away all my false pride And I'll forsake all of my life Yes I'll be as true as true can be If you'll come and stay with me All lovers of the past, I'll leave behind They'll never be another on my mind I'll do all I can so you'll feel free If you'll come and stay with me The promise I made most faithfully I'll keep still if you decide to leave I'll try and see that you have all you need If you'll come and stay with me Yes I'll be as true as true can be If you'll come and stay with me Live a life no others have ever known But I know you think that I'm hardly grown Oh thank God at last and finally I can see you're gonna stay with me I can see you're gonna stay with me</td>\n",
       "      <td>[\"come, and, stay, with, me\", i'll, send, away, all, my, false, pride, and, i'll, forsake, all, of, my, life, yes, i'll, be, as, true, as, true, can, be, if, you'll, come, and, stay, with, me, all, lovers, of, the, past,, i'll, leave, behind, they'll, never, be, another, on, my, mind, i'll, do, all, i, can, so, you'll, feel, free, if, you'll, come, and, stay, with, me, the, promise, i, made, most, faithfully, i'll, keep, still, if, you, decide, to, leave, i'll, try, and, see, that, you, have, all, you, need, if, you'll, come, and, stay, with, me, yes, i'll, be, ...]</td>\n",
       "    </tr>\n",
       "  </tbody>\n",
       "</table>\n",
       "</div>"
      ],
      "text/plain": [
       "                Filename  \\\n",
       "0  cher_classified1a.txt   \n",
       "\n",
       "                                                                                                                                                                                                                                                                                                                                                                                                                                                                                                                                                                                                                                                                                                                                  Text  \\\n",
       "0  \"Come And Stay With Me\" I'll send away all my false pride And I'll forsake all of my life Yes I'll be as true as true can be If you'll come and stay with me All lovers of the past, I'll leave behind They'll never be another on my mind I'll do all I can so you'll feel free If you'll come and stay with me The promise I made most faithfully I'll keep still if you decide to leave I'll try and see that you have all you need If you'll come and stay with me Yes I'll be as true as true can be If you'll come and stay with me Live a life no others have ever known But I know you think that I'm hardly grown Oh thank God at last and finally I can see you're gonna stay with me I can see you're gonna stay with me   \n",
       "\n",
       "                                                                                                                                                                                                                                                                                                                                                                                                                                                                                                                                                                                         Tokens  \n",
       "0  [\"come, and, stay, with, me\", i'll, send, away, all, my, false, pride, and, i'll, forsake, all, of, my, life, yes, i'll, be, as, true, as, true, can, be, if, you'll, come, and, stay, with, me, all, lovers, of, the, past,, i'll, leave, behind, they'll, never, be, another, on, my, mind, i'll, do, all, i, can, so, you'll, feel, free, if, you'll, come, and, stay, with, me, the, promise, i, made, most, faithfully, i'll, keep, still, if, you, decide, to, leave, i'll, try, and, see, that, you, have, all, you, need, if, you'll, come, and, stay, with, me, yes, i'll, be, ...]  "
      ]
     },
     "execution_count": 215,
     "metadata": {},
     "output_type": "execute_result"
    }
   ],
   "source": [
    "# convert all the tokens to lowercase\n",
    "# apply .lower() for each token in the tokens list\n",
    "df_lyrics['Tokens'] = df_lyrics['Tokens'].apply(lambda tokens: [token.lower() for token in tokens])\n",
    "df_lyrics[:1]"
   ]
  },
  {
   "cell_type": "code",
   "execution_count": 174,
   "id": "de1ee9fb",
   "metadata": {},
   "outputs": [
    {
     "data": {
      "text/plain": [
       "['i', 'me', 'my', 'myself', 'we']"
      ]
     },
     "execution_count": 174,
     "metadata": {},
     "output_type": "execute_result"
    }
   ],
   "source": [
    "# check stopwords\n",
    "sw[:5]"
   ]
  },
  {
   "cell_type": "code",
   "execution_count": 216,
   "id": "e0f22e10",
   "metadata": {},
   "outputs": [
    {
     "data": {
      "text/html": [
       "<div>\n",
       "<style scoped>\n",
       "    .dataframe tbody tr th:only-of-type {\n",
       "        vertical-align: middle;\n",
       "    }\n",
       "\n",
       "    .dataframe tbody tr th {\n",
       "        vertical-align: top;\n",
       "    }\n",
       "\n",
       "    .dataframe thead th {\n",
       "        text-align: right;\n",
       "    }\n",
       "</style>\n",
       "<table border=\"1\" class=\"dataframe\">\n",
       "  <thead>\n",
       "    <tr style=\"text-align: right;\">\n",
       "      <th></th>\n",
       "      <th>Filename</th>\n",
       "      <th>Text</th>\n",
       "      <th>Tokens</th>\n",
       "      <th>Cleaned_Tokens</th>\n",
       "    </tr>\n",
       "  </thead>\n",
       "  <tbody>\n",
       "    <tr>\n",
       "      <th>0</th>\n",
       "      <td>cher_classified1a.txt</td>\n",
       "      <td>\"Come And Stay With Me\" I'll send away all my false pride And I'll forsake all of my life Yes I'll be as true as true can be If you'll come and stay with me All lovers of the past, I'll leave behind They'll never be another on my mind I'll do all I can so you'll feel free If you'll come and stay with me The promise I made most faithfully I'll keep still if you decide to leave I'll try and see that you have all you need If you'll come and stay with me Yes I'll be as true as true can be If you'll come and stay with me Live a life no others have ever known But I know you think that I'm hardly grown Oh thank God at last and finally I can see you're gonna stay with me I can see you're gonna stay with me</td>\n",
       "      <td>[\"come, and, stay, with, me\", i'll, send, away, all, my, false, pride, and, i'll, forsake, all, of, my, life, yes, i'll, be, as, true, as, true, can, be, if, you'll, come, and, stay, with, me, all, lovers, of, the, past,, i'll, leave, behind, they'll, never, be, another, on, my, mind, i'll, do, all, i, can, so, you'll, feel, free, if, you'll, come, and, stay, with, me, the, promise, i, made, most, faithfully, i'll, keep, still, if, you, decide, to, leave, i'll, try, and, see, that, you, have, all, you, need, if, you'll, come, and, stay, with, me, yes, i'll, be, ...]</td>\n",
       "      <td>[\"come, stay, me\", i'll, send, away, false, pride, i'll, forsake, life, yes, i'll, true, true, come, stay, lovers, past,, i'll, leave, behind, they'll, never, another, mind, i'll, feel, free, come, stay, promise, made, faithfully, i'll, keep, still, decide, leave, i'll, try, see, need, come, stay, yes, i'll, true, true, come, stay, live, life, others, ever, known, know, think, i'm, hardly, grown, oh, thank, god, last, finally, see, gonna, stay, see, gonna, stay]</td>\n",
       "    </tr>\n",
       "  </tbody>\n",
       "</table>\n",
       "</div>"
      ],
      "text/plain": [
       "                Filename  \\\n",
       "0  cher_classified1a.txt   \n",
       "\n",
       "                                                                                                                                                                                                                                                                                                                                                                                                                                                                                                                                                                                                                                                                                                                                  Text  \\\n",
       "0  \"Come And Stay With Me\" I'll send away all my false pride And I'll forsake all of my life Yes I'll be as true as true can be If you'll come and stay with me All lovers of the past, I'll leave behind They'll never be another on my mind I'll do all I can so you'll feel free If you'll come and stay with me The promise I made most faithfully I'll keep still if you decide to leave I'll try and see that you have all you need If you'll come and stay with me Yes I'll be as true as true can be If you'll come and stay with me Live a life no others have ever known But I know you think that I'm hardly grown Oh thank God at last and finally I can see you're gonna stay with me I can see you're gonna stay with me   \n",
       "\n",
       "                                                                                                                                                                                                                                                                                                                                                                                                                                                                                                                                                                                         Tokens  \\\n",
       "0  [\"come, and, stay, with, me\", i'll, send, away, all, my, false, pride, and, i'll, forsake, all, of, my, life, yes, i'll, be, as, true, as, true, can, be, if, you'll, come, and, stay, with, me, all, lovers, of, the, past,, i'll, leave, behind, they'll, never, be, another, on, my, mind, i'll, do, all, i, can, so, you'll, feel, free, if, you'll, come, and, stay, with, me, the, promise, i, made, most, faithfully, i'll, keep, still, if, you, decide, to, leave, i'll, try, and, see, that, you, have, all, you, need, if, you'll, come, and, stay, with, me, yes, i'll, be, ...]   \n",
       "\n",
       "                                                                                                                                                                                                                                                                                                                                                                                                                                                                       Cleaned_Tokens  \n",
       "0  [\"come, stay, me\", i'll, send, away, false, pride, i'll, forsake, life, yes, i'll, true, true, come, stay, lovers, past,, i'll, leave, behind, they'll, never, another, mind, i'll, feel, free, come, stay, promise, made, faithfully, i'll, keep, still, decide, leave, i'll, try, see, need, come, stay, yes, i'll, true, true, come, stay, live, life, others, ever, known, know, think, i'm, hardly, grown, oh, thank, god, last, finally, see, gonna, stay, see, gonna, stay]  "
      ]
     },
     "execution_count": 216,
     "metadata": {},
     "output_type": "execute_result"
    }
   ],
   "source": [
    "# remove stop words from tokens\n",
    "# cleaned tokens will be all the token in tokens as long as they are not in stopwords list\n",
    "df_lyrics['Cleaned_Tokens'] = df_lyrics['Tokens'].apply(lambda tokens: [token for token in tokens if token not in sw])\n",
    "df_lyrics[:1]"
   ]
  },
  {
   "cell_type": "markdown",
   "id": "fd057ffe",
   "metadata": {},
   "source": [
    "#### cleaning twitter data"
   ]
  },
  {
   "cell_type": "code",
   "execution_count": 176,
   "id": "93d40a1c",
   "metadata": {},
   "outputs": [
    {
     "data": {
      "text/plain": [
       "'\\n    hsmcnp\\tCountry Girl\\t35152213\\t\\t1302\\t1014\\t\\n    horrormomy\\tJeny\\t742153090850164742\\tEarth\\t81\\t514\\t𝙿𝚛𝚘𝚞𝚍 𝚜𝚞𝚙𝚙𝚘𝚛𝚝𝚎𝚛 𝚘𝚏 𝚖𝚎𝚜𝚜𝚢 𝚋𝚞𝚗𝚜 & 𝚕𝚎𝚐𝚐𝚒𝚗𝚐𝚜\\n    anju79990584\\tanju\\t1496463006451974150\\t\\t13\\t140\\t163㎝／愛かっぷ💜26歳🍒 工〇好きな女の子💓 フォローしてくれたらDMします🧡\\n    gallionjenna\\tJ\\t3366479914\\t\\t752\\t556\\tcsu\\n    bcscomm\\tbcscomm\\t83915043\\tWashington, DC\\t888\\t2891\\tWriter @Washinformer @SpelmanCollege alumna #DCnative Award-winning journalist & PR pro @IABC Fellow & Past Chair IG: bcscomm Email: wibsiler@gmail.com\\n    liaochaoqun2\\t廖超群\\t1502787622376075264\\tTaiwan\\t2\\t390\\t\\n    Rodhandyjj\\tArt Vandalay 🇺🇦🇺🇦🇺🇦\\t1386454132022824962\\tMaine, USA\\t104\\t159\\tI’m unemployed and live with my parents. MOOPS!\\n    JackBianchi7\\tJackson\\t1200870825953550336\\t\\t0\\t7\\tzoowee mama\\n    MelbaBu81266475\\tMelba Burns\\t1492913469166743554\\t\\t17\\t136\\t\\n    macryant900\\tSpyderRyder\\t3425156986\\t🇨🇦\\t628\\t794\\tLet the healing begin. Let us learn from the past. 🇨🇦 follower of #TheResistance\\n    notdevilanse\\tAmanda 😇\\t916870029123211264\\t\\t13\\t110\\tdo what thou wilt. 🖤✨\\n    dickgirIdiaries\\tdickgirldiaries\\t1098760805162471424\\t\\t480\\t212\\t\\n    bloomingrx\\tRoxana M 🇺🇦🇨🇦\\t1489642891437817859\\tDelisle, Saskatchewan\\t16\\t163\\tCurious Canadian Contemplator. She/Her. Sexagenarian. We are here for each other!\\n    nurb43211\\tnurb4321\\t1502808896292937730\\t\\t0\\t110\\t\\n    ERParker3\\tedieparker\\t16700926\\t\\t7\\t236\\t\\n    m4ggots4br4ins\\temma\\t1112046229985218560\\tCalifornia, USA\\t40\\t52\\t\\n    eyoTTracy\\tTracy Nicole\\t1449604704049065984\\t\\t18\\t368\\t\\n    Taliaasaurus\\tΣκουπίδια\\t332397786\\t\\t134\\t314\\t(She/Her/Hers) Feminist. LGBTQ+. BLM. Mental health advocate. Do something nice for somebody today :)\\n'"
      ]
     },
     "execution_count": 176,
     "metadata": {},
     "output_type": "execute_result"
    }
   ],
   "source": [
    "twitter_text"
   ]
  },
  {
   "cell_type": "code",
   "execution_count": 177,
   "id": "2d10e05e",
   "metadata": {},
   "outputs": [
    {
     "data": {
      "text/plain": [
       "'hsmcnp Country Girl 35152213 1302 1014 horrormomy Jeny 742153090850164742 Earth 81 514 𝙿𝚛𝚘𝚞𝚍 𝚜𝚞𝚙𝚙𝚘𝚛𝚝𝚎𝚛 𝚘𝚏 𝚖𝚎𝚜𝚜𝚢 𝚋𝚞𝚗𝚜 & 𝚕𝚎𝚐𝚐𝚒𝚗𝚐𝚜 anju79990584 anju 1496463006451974150 13 140 163㎝／愛かっぷ💜26歳🍒 工〇好きな女の子💓 フォローしてくれたらDMします🧡 gallionjenna J 3366479914 752 556 csu bcscomm bcscomm 83915043 Washington, DC 888 2891 Writer @Washinformer @SpelmanCollege alumna #DCnative Award-winning journalist & PR pro @IABC Fellow & Past Chair IG: bcscomm Email: wibsiler@gmail.com liaochaoqun2 廖超群 1502787622376075264 Taiwan 2 390 Rodhandyjj Art Vandalay 🇺🇦🇺🇦🇺🇦 1386454132022824962 Maine, USA 104 159 I’m unemployed and live with my parents. MOOPS! JackBianchi7 Jackson 1200870825953550336 0 7 zoowee mama MelbaBu81266475 Melba Burns 1492913469166743554 17 136 macryant900 SpyderRyder 3425156986 🇨🇦 628 794 Let the healing begin. Let us learn from the past. 🇨🇦 follower of #TheResistance notdevilanse Amanda 😇 916870029123211264 13 110 do what thou wilt. 🖤✨ dickgirIdiaries dickgirldiaries 1098760805162471424 480 212 bloomingrx Roxana M 🇺🇦🇨🇦 1489642891437817859 Delisle, Saskatchewan 16 163 Curious Canadian Contemplator. She/Her. Sexagenarian. We are here for each other! nurb43211 nurb4321 1502808896292937730 0 110 ERParker3 edieparker 16700926 7 236 m4ggots4br4ins emma 1112046229985218560 California, USA 40 52 eyoTTracy Tracy Nicole 1449604704049065984 18 368 Taliaasaurus Σκουπίδια 332397786 134 314 (She/Her/Hers) Feminist. LGBTQ+. BLM. Mental health advocate. Do something nice for somebody today :)'"
      ]
     },
     "execution_count": 177,
     "metadata": {},
     "output_type": "execute_result"
    }
   ],
   "source": [
    "# replace newline characters with a single space\n",
    "twitter_text = re.sub(r'\\s+', ' ', twitter_text).strip()\n",
    "twitter_text"
   ]
  },
  {
   "cell_type": "code",
   "execution_count": 183,
   "id": "b9d661fc",
   "metadata": {},
   "outputs": [
    {
     "data": {
      "text/plain": [
       "'hsmcnp Country Girl 35152213 1302 1014 horrormomy Jeny 742153090850164742 Earth 81 514 𝙿𝚛𝚘𝚞𝚍 𝚜𝚞𝚙𝚙𝚘𝚛𝚝𝚎𝚛 𝚘𝚏 𝚖𝚎𝚜𝚜𝚢 𝚋𝚞𝚗𝚜  𝚕𝚎𝚐𝚐𝚒𝚗𝚐𝚜 anju79990584 anju 1496463006451974150 13 140 163㎝／愛かっぷ💜26歳🍒 工〇好きな女の子💓 フォローしてくれたらDMします🧡 gallionjenna J 3366479914 752 556 csu bcscomm bcscomm 83915043 Washington DC 888 2891 Writer Washinformer SpelmanCollege alumna DCnative Awardwinning journalist  PR pro IABC Fellow  Past Chair IG bcscomm Email wibsilergmailcom liaochaoqun2 廖超群 1502787622376075264 Taiwan 2 390 Rodhandyjj Art Vandalay 🇺🇦🇺🇦🇺🇦 1386454132022824962 Maine USA 104 159 I’m unemployed and live with my parents MOOPS JackBianchi7 Jackson 1200870825953550336 0 7 zoowee mama MelbaBu81266475 Melba Burns 1492913469166743554 17 136 macryant900 SpyderRyder 3425156986 🇨🇦 628 794 Let the healing begin Let us learn from the past 🇨🇦 follower of TheResistance notdevilanse Amanda 😇 916870029123211264 13 110 do what thou wilt 🖤✨ dickgirIdiaries dickgirldiaries 1098760805162471424 480 212 bloomingrx Roxana M 🇺🇦🇨🇦 1489642891437817859 Delisle Saskatchewan 16 163 Curious Canadian Contemplator SheHer Sexagenarian We are here for each other nurb43211 nurb4321 1502808896292937730 0 110 ERParker3 edieparker 16700926 7 236 m4ggots4br4ins emma 1112046229985218560 California USA 40 52 eyoTTracy Tracy Nicole 1449604704049065984 18 368 Taliaasaurus Σκουπίδια 332397786 134 314 SheHerHers Feminist LGBTQ BLM Mental health advocate Do something nice for somebody today '"
      ]
     },
     "execution_count": 183,
     "metadata": {},
     "output_type": "execute_result"
    }
   ],
   "source": [
    "# use translate to remove all puncatuation from text\n",
    "twitter_text = twitter_text.translate(str.maketrans('', '', punctuation_pattern))\n",
    "\n",
    "twitter_text"
   ]
  },
  {
   "cell_type": "code",
   "execution_count": 184,
   "id": "c5bbc672",
   "metadata": {},
   "outputs": [
    {
     "name": "stdout",
     "output_type": "stream",
     "text": [
      "['hsmcnp', 'Country', 'Girl', '35152213', '1302']\n",
      "189\n"
     ]
    }
   ],
   "source": [
    "# split to create tokens\n",
    "twitter_tokens = twitter_text.split()\n",
    "\n",
    "print(twitter_tokens[:5])\n",
    "print(len(twitter_tokens))"
   ]
  },
  {
   "cell_type": "code",
   "execution_count": 185,
   "id": "71b89fa6",
   "metadata": {},
   "outputs": [
    {
     "name": "stdout",
     "output_type": "stream",
     "text": [
      "['hsmcnp', 'country', 'girl', '35152213', '1302']\n",
      "189\n"
     ]
    }
   ],
   "source": [
    "# lowercase all the tokens\n",
    "twitter_tokens_lower = [token.lower() for token in twitter_tokens]\n",
    "\n",
    "print(twitter_tokens_lower[:5])\n",
    "print(len(twitter_tokens_lower))"
   ]
  },
  {
   "cell_type": "code",
   "execution_count": 186,
   "id": "41a0ec3f",
   "metadata": {},
   "outputs": [
    {
     "name": "stdout",
     "output_type": "stream",
     "text": [
      "['hsmcnp', 'country', 'girl', '35152213', '1302']\n",
      "171\n"
     ]
    }
   ],
   "source": [
    "# filter out stopwords from the tokens\n",
    "twitter_tokens_filtered = [token for token in twitter_tokens_lower if token not in sw]\n",
    "\n",
    "print(twitter_tokens_filtered[:5])\n",
    "print(len(twitter_tokens_filtered))"
   ]
  },
  {
   "cell_type": "markdown",
   "id": "f2dd0179",
   "metadata": {},
   "source": [
    "## Basic Descriptive Statistics\n",
    "\n",
    "Call your `descriptive_stats` function on both your lyrics data and your twitter data and for both artists (four total calls). "
   ]
  },
  {
   "cell_type": "code",
   "execution_count": 217,
   "id": "f0bbedd9",
   "metadata": {},
   "outputs": [
    {
     "data": {
      "text/html": [
       "<div>\n",
       "<style scoped>\n",
       "    .dataframe tbody tr th:only-of-type {\n",
       "        vertical-align: middle;\n",
       "    }\n",
       "\n",
       "    .dataframe tbody tr th {\n",
       "        vertical-align: top;\n",
       "    }\n",
       "\n",
       "    .dataframe thead th {\n",
       "        text-align: right;\n",
       "    }\n",
       "</style>\n",
       "<table border=\"1\" class=\"dataframe\">\n",
       "  <thead>\n",
       "    <tr style=\"text-align: right;\">\n",
       "      <th></th>\n",
       "      <th>Filename</th>\n",
       "      <th>Text</th>\n",
       "      <th>Tokens</th>\n",
       "      <th>Cleaned_Tokens</th>\n",
       "      <th>num_tokens</th>\n",
       "      <th>num_unique_tokens</th>\n",
       "      <th>lexical_diversity</th>\n",
       "      <th>num_characters</th>\n",
       "    </tr>\n",
       "  </thead>\n",
       "  <tbody>\n",
       "    <tr>\n",
       "      <th>0</th>\n",
       "      <td>cher_classified1a.txt</td>\n",
       "      <td>\"Come And Stay With Me\" I'll send away all my false pride And I'll forsake all of my life Yes I'll be as true as true can be If you'll come and stay with me All lovers of the past, I'll leave behind They'll never be another on my mind I'll do all I can so you'll feel free If you'll come and stay with me The promise I made most faithfully I'll keep still if you decide to leave I'll try and see that you have all you need If you'll come and stay with me Yes I'll be as true as true can be If you'll come and stay with me Live a life no others have ever known But I know you think that I'm hardly grown Oh thank God at last and finally I can see you're gonna stay with me I can see you're gonna stay with me</td>\n",
       "      <td>[\"come, and, stay, with, me\", i'll, send, away, all, my, false, pride, and, i'll, forsake, all, of, my, life, yes, i'll, be, as, true, as, true, can, be, if, you'll, come, and, stay, with, me, all, lovers, of, the, past,, i'll, leave, behind, they'll, never, be, another, on, my, mind, i'll, do, all, i, can, so, you'll, feel, free, if, you'll, come, and, stay, with, me, the, promise, i, made, most, faithfully, i'll, keep, still, if, you, decide, to, leave, i'll, try, and, see, that, you, have, all, you, need, if, you'll, come, and, stay, with, me, yes, i'll, be, ...]</td>\n",
       "      <td>[\"come, stay, me\", i'll, send, away, false, pride, i'll, forsake, life, yes, i'll, true, true, come, stay, lovers, past,, i'll, leave, behind, they'll, never, another, mind, i'll, feel, free, come, stay, promise, made, faithfully, i'll, keep, still, decide, leave, i'll, try, see, need, come, stay, yes, i'll, true, true, come, stay, live, life, others, ever, known, know, think, i'm, hardly, grown, oh, thank, god, last, finally, see, gonna, stay, see, gonna, stay]</td>\n",
       "      <td>72.0</td>\n",
       "      <td>47.0</td>\n",
       "      <td>0.652778</td>\n",
       "      <td>322.0</td>\n",
       "    </tr>\n",
       "  </tbody>\n",
       "</table>\n",
       "</div>"
      ],
      "text/plain": [
       "                Filename  \\\n",
       "0  cher_classified1a.txt   \n",
       "\n",
       "                                                                                                                                                                                                                                                                                                                                                                                                                                                                                                                                                                                                                                                                                                                                  Text  \\\n",
       "0  \"Come And Stay With Me\" I'll send away all my false pride And I'll forsake all of my life Yes I'll be as true as true can be If you'll come and stay with me All lovers of the past, I'll leave behind They'll never be another on my mind I'll do all I can so you'll feel free If you'll come and stay with me The promise I made most faithfully I'll keep still if you decide to leave I'll try and see that you have all you need If you'll come and stay with me Yes I'll be as true as true can be If you'll come and stay with me Live a life no others have ever known But I know you think that I'm hardly grown Oh thank God at last and finally I can see you're gonna stay with me I can see you're gonna stay with me   \n",
       "\n",
       "                                                                                                                                                                                                                                                                                                                                                                                                                                                                                                                                                                                         Tokens  \\\n",
       "0  [\"come, and, stay, with, me\", i'll, send, away, all, my, false, pride, and, i'll, forsake, all, of, my, life, yes, i'll, be, as, true, as, true, can, be, if, you'll, come, and, stay, with, me, all, lovers, of, the, past,, i'll, leave, behind, they'll, never, be, another, on, my, mind, i'll, do, all, i, can, so, you'll, feel, free, if, you'll, come, and, stay, with, me, the, promise, i, made, most, faithfully, i'll, keep, still, if, you, decide, to, leave, i'll, try, and, see, that, you, have, all, you, need, if, you'll, come, and, stay, with, me, yes, i'll, be, ...]   \n",
       "\n",
       "                                                                                                                                                                                                                                                                                                                                                                                                                                                                       Cleaned_Tokens  \\\n",
       "0  [\"come, stay, me\", i'll, send, away, false, pride, i'll, forsake, life, yes, i'll, true, true, come, stay, lovers, past,, i'll, leave, behind, they'll, never, another, mind, i'll, feel, free, come, stay, promise, made, faithfully, i'll, keep, still, decide, leave, i'll, try, see, need, come, stay, yes, i'll, true, true, come, stay, live, life, others, ever, known, know, think, i'm, hardly, grown, oh, thank, god, last, finally, see, gonna, stay, see, gonna, stay]   \n",
       "\n",
       "   num_tokens  num_unique_tokens  lexical_diversity  num_characters  \n",
       "0        72.0               47.0           0.652778           322.0  "
      ]
     },
     "execution_count": 217,
     "metadata": {},
     "output_type": "execute_result"
    }
   ],
   "source": [
    "# apply the the descriptive_stats function to the cleaned tokens of each records in df_lyrics to create 4 new fields\n",
    "df_lyrics[['num_tokens', 'num_unique_tokens', 'lexical_diversity', 'num_characters']] = df_lyrics['Cleaned_Tokens'].apply(lambda tokens: pd.Series(descriptive_stats(tokens, verbose=False)))\n",
    "df_lyrics[:1]"
   ]
  },
  {
   "cell_type": "code",
   "execution_count": 189,
   "id": "63ea272b",
   "metadata": {},
   "outputs": [
    {
     "name": "stdout",
     "output_type": "stream",
     "text": [
      "There are 171 tokens in the data.\n",
      "There are 161 unique tokens in the data.\n",
      "There are 1198 characters in the data.\n",
      "The lexical diversity is 0.942 in the data.\n"
     ]
    },
    {
     "data": {
      "text/plain": [
       "[171, 161, 0.9415204678362573, 1198]"
      ]
     },
     "execution_count": 189,
     "metadata": {},
     "output_type": "execute_result"
    }
   ],
   "source": [
    "# apply descriptive stats to the twitter text\n",
    "descriptive_stats(twitter_tokens_filtered)"
   ]
  },
  {
   "cell_type": "markdown",
   "id": "2f62270d",
   "metadata": {},
   "source": [
    "Q: How do you think the \"top 5 words\" would be different if we left stopwords in the data? \n",
    "\n",
    "A: Yes, I think if we we're to include stopwords, the top 5 words would probably be \"you\", \"I\" and other common tokens that don't provide usefull information."
   ]
  },
  {
   "cell_type": "markdown",
   "id": "875bd1aa",
   "metadata": {},
   "source": [
    "Q: What were your prior beliefs about the lexical diversity between the artists? Does the difference (or lack thereof) in lexical diversity between the artists conform to your prior beliefs? "
   ]
  },
  {
   "cell_type": "code",
   "execution_count": 222,
   "id": "c6c1809a",
   "metadata": {},
   "outputs": [
    {
     "name": "stdout",
     "output_type": "stream",
     "text": [
      "  Artist  lexical_diversity\n",
      "0   cher           0.558544\n",
      "1  robyn           0.510981\n"
     ]
    }
   ],
   "source": [
    "# create artists field based on if filename starts with cher or robyn\n",
    "df_lyrics['Artist'] = df_lyrics['Filename'].apply(lambda x: 'cher' if x.startswith('cher_') else ('robyn'))\n",
    "\n",
    "# groupy by artists and then get the mean of diversity to see average diversity by artists\n",
    "average_lexical_diversity = df_lyrics.groupby('Artist')['lexical_diversity'].mean().reset_index()\n",
    "print(average_lexical_diversity)"
   ]
  },
  {
   "cell_type": "markdown",
   "id": "46294409",
   "metadata": {},
   "source": [
    "A: Based on the analysis, it seems that cher has a higher lexical diversity than robyn. Since I do not know either artists, I do not have any prior beliefs for either artists."
   ]
  },
  {
   "cell_type": "markdown",
   "id": "4d4e1ac1",
   "metadata": {},
   "source": [
    "\n",
    "## Specialty Statistics\n",
    "\n",
    "The descriptive statistics we have calculated are quite generic. You will now calculate a handful of statistics tailored to these data.\n",
    "\n",
    "1. Ten most common emojis by artist in the twitter descriptions.\n",
    "1. Ten most common hashtags by artist in the twitter descriptions.\n",
    "1. Five most common words in song titles by artist. \n",
    "1. For each artist, a histogram of song lengths (in terms of number of tokens) \n",
    "\n",
    "We can use the `emoji` library to help us identify emojis and you have been given a function to help you.\n"
   ]
  },
  {
   "cell_type": "code",
   "execution_count": 196,
   "id": "753a5a3e",
   "metadata": {},
   "outputs": [],
   "source": [
    "assert(emoji.is_emoji(\"❤️\"))\n",
    "assert(not emoji.is_emoji(\":-)\"))"
   ]
  },
  {
   "cell_type": "code",
   "execution_count": 197,
   "id": "cd766b2f",
   "metadata": {},
   "outputs": [
    {
     "data": {
      "text/plain": [
       "<module 'emoji' from '/Users/roger.qiu/.local/lib/python3.9/site-packages/emoji/__init__.py'>"
      ]
     },
     "execution_count": 197,
     "metadata": {},
     "output_type": "execute_result"
    }
   ],
   "source": [
    "emoji"
   ]
  },
  {
   "cell_type": "markdown",
   "id": "986fc4c0",
   "metadata": {},
   "source": [
    "### Emojis 😁\n",
    "\n",
    "What are the ten most common emojis by artist in the twitter descriptions? \n"
   ]
  },
  {
   "cell_type": "code",
   "execution_count": 198,
   "id": "a2cf8b7c",
   "metadata": {},
   "outputs": [
    {
     "data": {
      "text/plain": [
       "['💜', '🍒', '💓', '🧡', '😇', '🖤', '✨']"
      ]
     },
     "execution_count": 198,
     "metadata": {},
     "output_type": "execute_result"
    }
   ],
   "source": [
    "# get all emojis from the twitter text if the char is an emoji\n",
    "emojis = [char for token in twitter_tokens_filtered for char in token if emoji.is_emoji(char)]\n",
    "emojis"
   ]
  },
  {
   "cell_type": "code",
   "execution_count": 199,
   "id": "6df93d2b",
   "metadata": {},
   "outputs": [
    {
     "data": {
      "text/plain": [
       "Counter({'💜': 1, '🍒': 1, '💓': 1, '🧡': 1, '😇': 1, '🖤': 1, '✨': 1})"
      ]
     },
     "execution_count": 199,
     "metadata": {},
     "output_type": "execute_result"
    }
   ],
   "source": [
    "# get count of each emoji\n",
    "emoji_counts = Counter(emojis)\n",
    "emoji_counts"
   ]
  },
  {
   "cell_type": "markdown",
   "id": "bab9b770",
   "metadata": {},
   "source": [
    "### Hashtags\n",
    "\n",
    "What are the ten most common hashtags by artist in the twitter descriptions? \n"
   ]
  },
  {
   "cell_type": "code",
   "execution_count": 200,
   "id": "cfcd98d2",
   "metadata": {},
   "outputs": [
    {
     "data": {
      "text/plain": [
       "[]"
      ]
     },
     "execution_count": 200,
     "metadata": {},
     "output_type": "execute_result"
    }
   ],
   "source": [
    "# filter strings that start with '#'\n",
    "hashtags = [token for token in twitter_tokens_filtered if token.startswith('#')]\n",
    "hashtags"
   ]
  },
  {
   "cell_type": "markdown",
   "id": "d10f21d5",
   "metadata": {},
   "source": [
    "### Song Titles\n",
    "\n",
    "What are the five most common words in song titles by artist? The song titles should be on the first line of the lyrics pages, so if you have kept the raw file contents around, you will not need to re-read the data.\n"
   ]
  },
  {
   "cell_type": "code",
   "execution_count": 223,
   "id": "bb69b36b",
   "metadata": {},
   "outputs": [
    {
     "data": {
      "text/html": [
       "<div>\n",
       "<style scoped>\n",
       "    .dataframe tbody tr th:only-of-type {\n",
       "        vertical-align: middle;\n",
       "    }\n",
       "\n",
       "    .dataframe tbody tr th {\n",
       "        vertical-align: top;\n",
       "    }\n",
       "\n",
       "    .dataframe thead th {\n",
       "        text-align: right;\n",
       "    }\n",
       "</style>\n",
       "<table border=\"1\" class=\"dataframe\">\n",
       "  <thead>\n",
       "    <tr style=\"text-align: right;\">\n",
       "      <th></th>\n",
       "      <th>Filename</th>\n",
       "      <th>Text</th>\n",
       "      <th>Tokens</th>\n",
       "      <th>Cleaned_Tokens</th>\n",
       "      <th>num_tokens</th>\n",
       "      <th>num_unique_tokens</th>\n",
       "      <th>lexical_diversity</th>\n",
       "      <th>num_characters</th>\n",
       "      <th>Title_Words</th>\n",
       "      <th>Artist</th>\n",
       "    </tr>\n",
       "  </thead>\n",
       "  <tbody>\n",
       "    <tr>\n",
       "      <th>0</th>\n",
       "      <td>cher_classified1a.txt</td>\n",
       "      <td>\"Come And Stay With Me\" I'll send away all my false pride And I'll forsake all of my life Yes I'll be as true as true can be If you'll come and stay with me All lovers of the past, I'll leave behind They'll never be another on my mind I'll do all I can so you'll feel free If you'll come and stay with me The promise I made most faithfully I'll keep still if you decide to leave I'll try and see that you have all you need If you'll come and stay with me Yes I'll be as true as true can be If you'll come and stay with me Live a life no others have ever known But I know you think that I'm hardly grown Oh thank God at last and finally I can see you're gonna stay with me I can see you're gonna stay with me</td>\n",
       "      <td>[\"come, and, stay, with, me\", i'll, send, away, all, my, false, pride, and, i'll, forsake, all, of, my, life, yes, i'll, be, as, true, as, true, can, be, if, you'll, come, and, stay, with, me, all, lovers, of, the, past,, i'll, leave, behind, they'll, never, be, another, on, my, mind, i'll, do, all, i, can, so, you'll, feel, free, if, you'll, come, and, stay, with, me, the, promise, i, made, most, faithfully, i'll, keep, still, if, you, decide, to, leave, i'll, try, and, see, that, you, have, all, you, need, if, you'll, come, and, stay, with, me, yes, i'll, be, ...]</td>\n",
       "      <td>[\"come, stay, me\", i'll, send, away, false, pride, i'll, forsake, life, yes, i'll, true, true, come, stay, lovers, past,, i'll, leave, behind, they'll, never, another, mind, i'll, feel, free, come, stay, promise, made, faithfully, i'll, keep, still, decide, leave, i'll, try, see, need, come, stay, yes, i'll, true, true, come, stay, live, life, others, ever, known, know, think, i'm, hardly, grown, oh, thank, god, last, finally, see, gonna, stay, see, gonna, stay]</td>\n",
       "      <td>72.0</td>\n",
       "      <td>47.0</td>\n",
       "      <td>0.652778</td>\n",
       "      <td>322.0</td>\n",
       "      <td>[come, me]</td>\n",
       "      <td>cher</td>\n",
       "    </tr>\n",
       "  </tbody>\n",
       "</table>\n",
       "</div>"
      ],
      "text/plain": [
       "                Filename  \\\n",
       "0  cher_classified1a.txt   \n",
       "\n",
       "                                                                                                                                                                                                                                                                                                                                                                                                                                                                                                                                                                                                                                                                                                                                  Text  \\\n",
       "0  \"Come And Stay With Me\" I'll send away all my false pride And I'll forsake all of my life Yes I'll be as true as true can be If you'll come and stay with me All lovers of the past, I'll leave behind They'll never be another on my mind I'll do all I can so you'll feel free If you'll come and stay with me The promise I made most faithfully I'll keep still if you decide to leave I'll try and see that you have all you need If you'll come and stay with me Yes I'll be as true as true can be If you'll come and stay with me Live a life no others have ever known But I know you think that I'm hardly grown Oh thank God at last and finally I can see you're gonna stay with me I can see you're gonna stay with me   \n",
       "\n",
       "                                                                                                                                                                                                                                                                                                                                                                                                                                                                                                                                                                                         Tokens  \\\n",
       "0  [\"come, and, stay, with, me\", i'll, send, away, all, my, false, pride, and, i'll, forsake, all, of, my, life, yes, i'll, be, as, true, as, true, can, be, if, you'll, come, and, stay, with, me, all, lovers, of, the, past,, i'll, leave, behind, they'll, never, be, another, on, my, mind, i'll, do, all, i, can, so, you'll, feel, free, if, you'll, come, and, stay, with, me, the, promise, i, made, most, faithfully, i'll, keep, still, if, you, decide, to, leave, i'll, try, and, see, that, you, have, all, you, need, if, you'll, come, and, stay, with, me, yes, i'll, be, ...]   \n",
       "\n",
       "                                                                                                                                                                                                                                                                                                                                                                                                                                                                       Cleaned_Tokens  \\\n",
       "0  [\"come, stay, me\", i'll, send, away, false, pride, i'll, forsake, life, yes, i'll, true, true, come, stay, lovers, past,, i'll, leave, behind, they'll, never, another, mind, i'll, feel, free, come, stay, promise, made, faithfully, i'll, keep, still, decide, leave, i'll, try, see, need, come, stay, yes, i'll, true, true, come, stay, live, life, others, ever, known, know, think, i'm, hardly, grown, oh, thank, god, last, finally, see, gonna, stay, see, gonna, stay]   \n",
       "\n",
       "   num_tokens  num_unique_tokens  lexical_diversity  num_characters  \\\n",
       "0        72.0               47.0           0.652778           322.0   \n",
       "\n",
       "  Title_Words Artist  \n",
       "0  [come, me]   cher  "
      ]
     },
     "execution_count": 223,
     "metadata": {},
     "output_type": "execute_result"
    }
   ],
   "source": [
    "# create function to get title words from tokens\n",
    "# title words all have a \" \n",
    "def extract_title_words(tokens):\n",
    "    return [token.replace('\"', '') for token in tokens if '\"' in token]\n",
    "\n",
    "# apply function to cleaned tokens as title words, this function to the cleaned_tokens to get title words\n",
    "df_lyrics['Title_Words'] = df_lyrics['Cleaned_Tokens'].apply(extract_title_words)\n",
    "df_lyrics[:1]"
   ]
  },
  {
   "cell_type": "code",
   "execution_count": 224,
   "id": "abbde374",
   "metadata": {},
   "outputs": [
    {
     "data": {
      "text/plain": [
       "Artist\n",
       "cher    [come, me, pirate, stars, these, days, love, high, down,, down, you've, happy, julie, reason, believe, disaster, cake, the, dead, taxi, taxi, dov'e, l'amore, still, you, alive, again, jolson, medley, my, love, good-bye, until, go, don't, twice, takin', heart, goodbye, real, love, sisters, mercy, dark, lady, home, james, i'll, soon, living, divided, you, all, borrowed, time, a, story, ol', river, the, away, a, enfante), ooga, boo, the, never, there, fortune, take, while, the, love, momma,, sharp, what, moonlight, love, enough, it, now, our, francisco, early, strangers, emotional, fire, bang-bang, body, heart, main, man, easy, hard, if, time, how, heart?, one, one, ...]\n",
       "Name: Title_Words, dtype: object"
      ]
     },
     "execution_count": 224,
     "metadata": {},
     "output_type": "execute_result"
    }
   ],
   "source": [
    "# group by artist and aggregate title words into a single list\n",
    "grouped_titles = df_lyrics.groupby('Artist')['Title_Words'].sum()\n",
    "grouped_titles[:1]"
   ]
  },
  {
   "cell_type": "code",
   "execution_count": 225,
   "id": "735b4ca6",
   "metadata": {},
   "outputs": [
    {
     "data": {
      "text/plain": [
       "Artist\n",
       "cher     [(i, 31), (you, 26), (the, 25), (love, 22), (me, 13)]\n",
       "robyn    [(love, 5), (don't, 5), (do, 5), (me, 4), (woman, 4)]\n",
       "Name: Title_Words, dtype: object"
      ]
     },
     "execution_count": 225,
     "metadata": {},
     "output_type": "execute_result"
    }
   ],
   "source": [
    "# get 5 most common title words for each artist\n",
    "top_title_words = grouped_titles.apply(lambda words: Counter(words).most_common(5))\n",
    "top_title_words"
   ]
  },
  {
   "cell_type": "markdown",
   "id": "5dd4fd71",
   "metadata": {},
   "source": [
    "### Song Lengths\n",
    "\n",
    "For each artist, a histogram of song lengths (in terms of number of tokens). If you put the song lengths in a data frame with an artist column, matplotlib will make the plotting quite easy. An example is given to help you out. \n"
   ]
  },
  {
   "cell_type": "code",
   "execution_count": 226,
   "id": "4b602ab6",
   "metadata": {},
   "outputs": [
    {
     "data": {
      "text/html": [
       "<div>\n",
       "<style scoped>\n",
       "    .dataframe tbody tr th:only-of-type {\n",
       "        vertical-align: middle;\n",
       "    }\n",
       "\n",
       "    .dataframe tbody tr th {\n",
       "        vertical-align: top;\n",
       "    }\n",
       "\n",
       "    .dataframe thead th {\n",
       "        text-align: right;\n",
       "    }\n",
       "</style>\n",
       "<table border=\"1\" class=\"dataframe\">\n",
       "  <thead>\n",
       "    <tr style=\"text-align: right;\">\n",
       "      <th></th>\n",
       "      <th>Artist</th>\n",
       "      <th>num_tokens</th>\n",
       "    </tr>\n",
       "  </thead>\n",
       "  <tbody>\n",
       "    <tr>\n",
       "      <th>0</th>\n",
       "      <td>cher</td>\n",
       "      <td>72.0</td>\n",
       "    </tr>\n",
       "    <tr>\n",
       "      <th>1</th>\n",
       "      <td>cher</td>\n",
       "      <td>141.0</td>\n",
       "    </tr>\n",
       "    <tr>\n",
       "      <th>2</th>\n",
       "      <td>cher</td>\n",
       "      <td>158.0</td>\n",
       "    </tr>\n",
       "    <tr>\n",
       "      <th>3</th>\n",
       "      <td>cher</td>\n",
       "      <td>81.0</td>\n",
       "    </tr>\n",
       "    <tr>\n",
       "      <th>4</th>\n",
       "      <td>cher</td>\n",
       "      <td>89.0</td>\n",
       "    </tr>\n",
       "    <tr>\n",
       "      <th>...</th>\n",
       "      <td>...</td>\n",
       "      <td>...</td>\n",
       "    </tr>\n",
       "    <tr>\n",
       "      <th>415</th>\n",
       "      <td>robyn</td>\n",
       "      <td>109.0</td>\n",
       "    </tr>\n",
       "    <tr>\n",
       "      <th>416</th>\n",
       "      <td>robyn</td>\n",
       "      <td>173.0</td>\n",
       "    </tr>\n",
       "    <tr>\n",
       "      <th>417</th>\n",
       "      <td>robyn</td>\n",
       "      <td>187.0</td>\n",
       "    </tr>\n",
       "    <tr>\n",
       "      <th>418</th>\n",
       "      <td>robyn</td>\n",
       "      <td>68.0</td>\n",
       "    </tr>\n",
       "    <tr>\n",
       "      <th>419</th>\n",
       "      <td>robyn</td>\n",
       "      <td>100.0</td>\n",
       "    </tr>\n",
       "  </tbody>\n",
       "</table>\n",
       "<p>420 rows × 2 columns</p>\n",
       "</div>"
      ],
      "text/plain": [
       "    Artist  num_tokens\n",
       "0     cher        72.0\n",
       "1     cher       141.0\n",
       "2     cher       158.0\n",
       "3     cher        81.0\n",
       "4     cher        89.0\n",
       "..     ...         ...\n",
       "415  robyn       109.0\n",
       "416  robyn       173.0\n",
       "417  robyn       187.0\n",
       "418  robyn        68.0\n",
       "419  robyn       100.0\n",
       "\n",
       "[420 rows x 2 columns]"
      ]
     },
     "execution_count": 226,
     "metadata": {},
     "output_type": "execute_result"
    }
   ],
   "source": [
    "# create a df thats just cartists and their tokens for each song\n",
    "hist_data = df_lyrics[['Artist', 'num_tokens']]\n",
    "hist_data"
   ]
  },
  {
   "cell_type": "code",
   "execution_count": 229,
   "id": "88059bec",
   "metadata": {},
   "outputs": [
    {
     "data": {
      "image/png": "[encoded data removed]",
      "text/plain": [
       "<Figure size 640x480 with 1 Axes>"
      ]
     },
     "metadata": {},
     "output_type": "display_data"
    }
   ],
   "source": [
    "# plot the histogram \n",
    "hist_data.groupby('Artist')['num_tokens'].plot(kind=\"hist\", legend=True)\n",
    "\n",
    "plt.xlabel(\"song length\")\n",
    "plt.ylabel(\"count\")\n",
    "plt.title(\"song length by artist\")\n",
    "plt.show()"
   ]
  },
  {
   "cell_type": "markdown",
   "id": "8fde9ebb",
   "metadata": {},
   "source": [
    "Since the lyrics may be stored with carriage returns or tabs, it may be useful to have a function that can collapse whitespace, using regular expressions, and be used for splitting. \n",
    "\n",
    "Q: What does the regular expression `'\\s+'` match on? \n",
    "\n",
    "A: matches on one or more whitespace, this helps detect multiple whitespaces in a string."
   ]
  }
 ],
 "metadata": {
  "kernelspec": {
   "display_name": "Python 3 (ipykernel)",
   "language": "python",
   "name": "python3"
  },
  "language_info": {
   "codemirror_mode": {
    "name": "ipython",
    "version": 3
   },
   "file_extension": ".py",
   "mimetype": "text/x-python",
   "name": "python",
   "nbconvert_exporter": "python",
   "pygments_lexer": "ipython3",
   "version": "3.9.13"
  }
 },
 "nbformat": 4,
 "nbformat_minor": 5
}
